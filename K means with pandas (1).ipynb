{
 "cells": [
  {
   "cell_type": "code",
   "execution_count": 2,
   "metadata": {
    "colab": {},
    "colab_type": "code",
    "id": "FiIImVETgmhB"
   },
   "outputs": [],
   "source": [
    "import numpy as np\n",
    "import pandas as pd\n",
    "import matplotlib.pyplot as plt "
   ]
  },
  {
   "cell_type": "code",
   "execution_count": 3,
   "metadata": {
    "colab": {
     "base_uri": "https://localhost:8080/",
     "height": 198
    },
    "colab_type": "code",
    "id": "PTdIsLvShjmn",
    "outputId": "0e9190de-454d-4bee-f764-109f02c3f248"
   },
   "outputs": [
    {
     "data": {
      "text/html": [
       "<div>\n",
       "<style scoped>\n",
       "    .dataframe tbody tr th:only-of-type {\n",
       "        vertical-align: middle;\n",
       "    }\n",
       "\n",
       "    .dataframe tbody tr th {\n",
       "        vertical-align: top;\n",
       "    }\n",
       "\n",
       "    .dataframe thead th {\n",
       "        text-align: right;\n",
       "    }\n",
       "</style>\n",
       "<table border=\"1\" class=\"dataframe\">\n",
       "  <thead>\n",
       "    <tr style=\"text-align: right;\">\n",
       "      <th></th>\n",
       "      <th>x1</th>\n",
       "      <th>x2</th>\n",
       "    </tr>\n",
       "  </thead>\n",
       "  <tbody>\n",
       "    <tr>\n",
       "      <th>0</th>\n",
       "      <td>664159</td>\n",
       "      <td>550946</td>\n",
       "    </tr>\n",
       "    <tr>\n",
       "      <th>1</th>\n",
       "      <td>665845</td>\n",
       "      <td>557965</td>\n",
       "    </tr>\n",
       "    <tr>\n",
       "      <th>2</th>\n",
       "      <td>597173</td>\n",
       "      <td>575538</td>\n",
       "    </tr>\n",
       "    <tr>\n",
       "      <th>3</th>\n",
       "      <td>618600</td>\n",
       "      <td>551446</td>\n",
       "    </tr>\n",
       "    <tr>\n",
       "      <th>4</th>\n",
       "      <td>635690</td>\n",
       "      <td>608046</td>\n",
       "    </tr>\n",
       "    <tr>\n",
       "      <th>...</th>\n",
       "      <td>...</td>\n",
       "      <td>...</td>\n",
       "    </tr>\n",
       "    <tr>\n",
       "      <th>395</th>\n",
       "      <td>616325</td>\n",
       "      <td>730469</td>\n",
       "    </tr>\n",
       "    <tr>\n",
       "      <th>396</th>\n",
       "      <td>554610</td>\n",
       "      <td>782542</td>\n",
       "    </tr>\n",
       "    <tr>\n",
       "      <th>397</th>\n",
       "      <td>727303</td>\n",
       "      <td>809509</td>\n",
       "    </tr>\n",
       "    <tr>\n",
       "      <th>398</th>\n",
       "      <td>603709</td>\n",
       "      <td>757145</td>\n",
       "    </tr>\n",
       "    <tr>\n",
       "      <th>399</th>\n",
       "      <td>694477</td>\n",
       "      <td>801480</td>\n",
       "    </tr>\n",
       "  </tbody>\n",
       "</table>\n",
       "<p>400 rows × 2 columns</p>\n",
       "</div>"
      ],
      "text/plain": [
       "         x1      x2\n",
       "0    664159  550946\n",
       "1    665845  557965\n",
       "2    597173  575538\n",
       "3    618600  551446\n",
       "4    635690  608046\n",
       "..      ...     ...\n",
       "395  616325  730469\n",
       "396  554610  782542\n",
       "397  727303  809509\n",
       "398  603709  757145\n",
       "399  694477  801480\n",
       "\n",
       "[400 rows x 2 columns]"
      ]
     },
     "execution_count": 3,
     "metadata": {},
     "output_type": "execute_result"
    }
   ],
   "source": [
    "df = pd.read_csv(r'D:\\Desktop\\lab8\\s.csv')\n",
    "df.columns= ['x1','x2']\n",
    "df"
   ]
  },
  {
   "cell_type": "code",
   "execution_count": 6,
   "metadata": {
    "colab": {
     "base_uri": "https://localhost:8080/",
     "height": 297
    },
    "colab_type": "code",
    "id": "l8dtiQfAhmz2",
    "outputId": "7e1de597-e645-444f-f3d5-d722b865a64a"
   },
   "outputs": [
    {
     "data": {
      "image/png": "[encoded data removed]",
      "text/plain": [
       "<Figure size 432x288 with 1 Axes>"
      ]
     },
     "metadata": {
      "needs_background": "light"
     },
     "output_type": "display_data"
    }
   ],
   "source": [
    "df.plot.scatter('x1', 'x2');"
   ]
  },
  {
   "cell_type": "markdown",
   "metadata": {
    "colab_type": "text",
    "id": "0zgMRPbQpBDK"
   },
   "source": [
    "K-means steps\n",
    "\n",
    "\n",
    "1.   define k\n",
    "2.   randomly place k centroids\n",
    "3.   assign each point to a cluster( the cluster of the closest centroid)\n",
    "4.   update the centroids( the new centroid is the mean of the cluster)\n",
    "5.   repeat from step 3\n",
    "6.   stop when the centroids no longer change\n",
    "\n"
   ]
  },
  {
   "cell_type": "code",
   "execution_count": 7,
   "metadata": {
    "colab": {
     "base_uri": "https://localhost:8080/",
     "height": 90
    },
    "colab_type": "code",
    "id": "JMVBVyKuoXSS",
    "outputId": "9df3e1eb-ebe4-457c-aef4-62d92d3b8653"
   },
   "outputs": [
    {
     "data": {
      "text/plain": [
       "array([[665845, 557965],\n",
       "       [616325, 730469],\n",
       "       [832215, 638387],\n",
       "       [589675, 755546]], dtype=int64)"
      ]
     },
     "execution_count": 7,
     "metadata": {},
     "output_type": "execute_result"
    }
   ],
   "source": [
    "k = 4\n",
    "centroids = df[['x1','x2']].sample(4).values\n",
    "centroids"
   ]
  },
  {
   "cell_type": "code",
   "execution_count": 8,
   "metadata": {
    "colab": {
     "base_uri": "https://localhost:8080/",
     "height": 283
    },
    "colab_type": "code",
    "id": "TY8tBJ8FqBzv",
    "outputId": "ebdb9ef4-33da-4be1-8a72-baa41095d2d4"
   },
   "outputs": [
    {
     "data": {
      "text/plain": [
       "<matplotlib.collections.PathCollection at 0x14deb803c70>"
      ]
     },
     "execution_count": 8,
     "metadata": {},
     "output_type": "execute_result"
    },
    {
     "data": {
      "image/png": "[encoded data removed]",
      "text/plain": [
       "<Figure size 432x288 with 1 Axes>"
      ]
     },
     "metadata": {
      "needs_background": "light"
     },
     "output_type": "display_data"
    }
   ],
   "source": [
    "plt.scatter(df['x1'], df['x2'], c = 'y')\n",
    "plt.scatter(centroids[:,0], centroids[:,1], color = ['r', 'g', 'black', 'brown'], marker  = '+')"
   ]
  },
  {
   "cell_type": "code",
   "execution_count": 9,
   "metadata": {
    "colab": {},
    "colab_type": "code",
    "id": "Hy_eM8RgqULi"
   },
   "outputs": [],
   "source": [
    "df['1'] = np.sqrt((df['x1'] - centroids[0][0]) ** 2  + (df['x2'] - centroids[0][1]) ** 2)\n",
    "\n",
    "df['2'] = np.sqrt((df['x1'] - centroids[1][0]) ** 2 + (df['x2'] - centroids[1][1]) ** 2)\n",
    "  \n",
    "\n",
    "df['3'] = np.sqrt((df['x1'] - centroids[2][0]) ** 2 + (df['x2'] - centroids[2][1]) ** 2)\n",
    "  \n",
    "df['4'] = np.sqrt((df['x1'] - centroids[3][0]) ** 2 + (df['x2'] - centroids[3][1]) ** 2)\n",
    "  "
   ]
  },
  {
   "cell_type": "code",
   "execution_count": 10,
   "metadata": {
    "colab": {
     "base_uri": "https://localhost:8080/",
     "height": 198
    },
    "colab_type": "code",
    "id": "E3aj8gV8tr7H",
    "outputId": "663b3940-ef2a-48b9-aece-68c8f3f04551"
   },
   "outputs": [
    {
     "data": {
      "text/html": [
       "<div>\n",
       "<style scoped>\n",
       "    .dataframe tbody tr th:only-of-type {\n",
       "        vertical-align: middle;\n",
       "    }\n",
       "\n",
       "    .dataframe tbody tr th {\n",
       "        vertical-align: top;\n",
       "    }\n",
       "\n",
       "    .dataframe thead th {\n",
       "        text-align: right;\n",
       "    }\n",
       "</style>\n",
       "<table border=\"1\" class=\"dataframe\">\n",
       "  <thead>\n",
       "    <tr style=\"text-align: right;\">\n",
       "      <th></th>\n",
       "      <th>x1</th>\n",
       "      <th>x2</th>\n",
       "      <th>1</th>\n",
       "      <th>2</th>\n",
       "      <th>3</th>\n",
       "      <th>4</th>\n",
       "    </tr>\n",
       "  </thead>\n",
       "  <tbody>\n",
       "    <tr>\n",
       "      <th>0</th>\n",
       "      <td>664159</td>\n",
       "      <td>550946</td>\n",
       "      <td>7218.653406</td>\n",
       "      <td>185786.434071</td>\n",
       "      <td>189443.256985</td>\n",
       "      <td>217736.139067</td>\n",
       "    </tr>\n",
       "    <tr>\n",
       "      <th>1</th>\n",
       "      <td>665845</td>\n",
       "      <td>557965</td>\n",
       "      <td>0.000000</td>\n",
       "      <td>179471.057321</td>\n",
       "      <td>184788.189514</td>\n",
       "      <td>211754.859356</td>\n",
       "    </tr>\n",
       "    <tr>\n",
       "      <th>2</th>\n",
       "      <td>597173</td>\n",
       "      <td>575538</td>\n",
       "      <td>70884.793242</td>\n",
       "      <td>156110.261882</td>\n",
       "      <td>243299.688789</td>\n",
       "      <td>180164.092061</td>\n",
       "    </tr>\n",
       "    <tr>\n",
       "      <th>3</th>\n",
       "      <td>618600</td>\n",
       "      <td>551446</td>\n",
       "      <td>47692.634505</td>\n",
       "      <td>179037.454612</td>\n",
       "      <td>230629.802294</td>\n",
       "      <td>206139.432484</td>\n",
       "    </tr>\n",
       "    <tr>\n",
       "      <th>4</th>\n",
       "      <td>635690</td>\n",
       "      <td>608046</td>\n",
       "      <td>58458.793915</td>\n",
       "      <td>123945.125576</td>\n",
       "      <td>198853.342708</td>\n",
       "      <td>154510.938852</td>\n",
       "    </tr>\n",
       "  </tbody>\n",
       "</table>\n",
       "</div>"
      ],
      "text/plain": [
       "       x1      x2             1              2              3              4\n",
       "0  664159  550946   7218.653406  185786.434071  189443.256985  217736.139067\n",
       "1  665845  557965      0.000000  179471.057321  184788.189514  211754.859356\n",
       "2  597173  575538  70884.793242  156110.261882  243299.688789  180164.092061\n",
       "3  618600  551446  47692.634505  179037.454612  230629.802294  206139.432484\n",
       "4  635690  608046  58458.793915  123945.125576  198853.342708  154510.938852"
      ]
     },
     "execution_count": 10,
     "metadata": {},
     "output_type": "execute_result"
    }
   ],
   "source": [
    "df.head()"
   ]
  },
  {
   "cell_type": "code",
   "execution_count": 11,
   "metadata": {
    "colab": {
     "base_uri": "https://localhost:8080/",
     "height": 35
    },
    "colab_type": "code",
    "id": "thR4grfmumXO",
    "outputId": "1292838e-ffbe-49c9-a84e-e093aa3b4801"
   },
   "outputs": [
    {
     "data": {
      "text/plain": [
       "'1'"
      ]
     },
     "execution_count": 11,
     "metadata": {},
     "output_type": "execute_result"
    }
   ],
   "source": [
    "df.loc[1, ['1', '2', '3', '4']].idxmin(axis=1)"
   ]
  },
  {
   "cell_type": "code",
   "execution_count": 12,
   "metadata": {
    "colab": {},
    "colab_type": "code",
    "id": "bbJdHhSTwBTv"
   },
   "outputs": [],
   "source": [
    "colors = {'1': 'r', '2':'g', '3': 'black', '4':'brown' }"
   ]
  },
  {
   "cell_type": "code",
   "execution_count": 13,
   "metadata": {
    "colab": {},
    "colab_type": "code",
    "id": "l28w8VJluDAu"
   },
   "outputs": [],
   "source": [
    "df['closest'] = df.loc[:, ['1', '2', '3', '4']].idxmin(axis=1)\n",
    "df['color'] = df['closest'].map(lambda x: colors[x])"
   ]
  },
  {
   "cell_type": "code",
   "execution_count": 14,
   "metadata": {
    "colab": {
     "base_uri": "https://localhost:8080/",
     "height": 198
    },
    "colab_type": "code",
    "id": "OKpc27_8vhMf",
    "outputId": "0db08027-6e1d-47ae-fb1b-3e14b6a70fbe"
   },
   "outputs": [
    {
     "data": {
      "text/html": [
       "<div>\n",
       "<style scoped>\n",
       "    .dataframe tbody tr th:only-of-type {\n",
       "        vertical-align: middle;\n",
       "    }\n",
       "\n",
       "    .dataframe tbody tr th {\n",
       "        vertical-align: top;\n",
       "    }\n",
       "\n",
       "    .dataframe thead th {\n",
       "        text-align: right;\n",
       "    }\n",
       "</style>\n",
       "<table border=\"1\" class=\"dataframe\">\n",
       "  <thead>\n",
       "    <tr style=\"text-align: right;\">\n",
       "      <th></th>\n",
       "      <th>x1</th>\n",
       "      <th>x2</th>\n",
       "      <th>1</th>\n",
       "      <th>2</th>\n",
       "      <th>3</th>\n",
       "      <th>4</th>\n",
       "      <th>closest</th>\n",
       "      <th>color</th>\n",
       "    </tr>\n",
       "  </thead>\n",
       "  <tbody>\n",
       "    <tr>\n",
       "      <th>65</th>\n",
       "      <td>628696</td>\n",
       "      <td>542447</td>\n",
       "      <td>40259.862456</td>\n",
       "      <td>188428.538510</td>\n",
       "      <td>224998.815466</td>\n",
       "      <td>216642.152505</td>\n",
       "      <td>1</td>\n",
       "      <td>r</td>\n",
       "    </tr>\n",
       "    <tr>\n",
       "      <th>260</th>\n",
       "      <td>517783</td>\n",
       "      <td>448891</td>\n",
       "      <td>183900.770308</td>\n",
       "      <td>298323.139981</td>\n",
       "      <td>367118.804531</td>\n",
       "      <td>314969.440881</td>\n",
       "      <td>1</td>\n",
       "      <td>r</td>\n",
       "    </tr>\n",
       "    <tr>\n",
       "      <th>183</th>\n",
       "      <td>823364</td>\n",
       "      <td>620870</td>\n",
       "      <td>169615.077119</td>\n",
       "      <td>234258.592846</td>\n",
       "      <td>19626.143024</td>\n",
       "      <td>269718.693637</td>\n",
       "      <td>3</td>\n",
       "      <td>black</td>\n",
       "    </tr>\n",
       "    <tr>\n",
       "      <th>85</th>\n",
       "      <td>565148</td>\n",
       "      <td>557305</td>\n",
       "      <td>100699.162901</td>\n",
       "      <td>180568.148423</td>\n",
       "      <td>279104.054455</td>\n",
       "      <td>199752.516405</td>\n",
       "      <td>1</td>\n",
       "      <td>r</td>\n",
       "    </tr>\n",
       "    <tr>\n",
       "      <th>72</th>\n",
       "      <td>620438</td>\n",
       "      <td>511694</td>\n",
       "      <td>64829.014261</td>\n",
       "      <td>218813.659066</td>\n",
       "      <td>246780.497564</td>\n",
       "      <td>245784.784055</td>\n",
       "      <td>1</td>\n",
       "      <td>r</td>\n",
       "    </tr>\n",
       "    <tr>\n",
       "      <th>19</th>\n",
       "      <td>601967</td>\n",
       "      <td>604428</td>\n",
       "      <td>78988.665345</td>\n",
       "      <td>126856.162030</td>\n",
       "      <td>232738.813233</td>\n",
       "      <td>151617.093983</td>\n",
       "      <td>1</td>\n",
       "      <td>r</td>\n",
       "    </tr>\n",
       "    <tr>\n",
       "      <th>123</th>\n",
       "      <td>839324</td>\n",
       "      <td>651033</td>\n",
       "      <td>196867.000955</td>\n",
       "      <td>236724.802454</td>\n",
       "      <td>14507.211896</td>\n",
       "      <td>270642.920414</td>\n",
       "      <td>3</td>\n",
       "      <td>black</td>\n",
       "    </tr>\n",
       "    <tr>\n",
       "      <th>125</th>\n",
       "      <td>876202</td>\n",
       "      <td>600942</td>\n",
       "      <td>214702.328767</td>\n",
       "      <td>290367.523766</td>\n",
       "      <td>57766.635647</td>\n",
       "      <td>325576.593976</td>\n",
       "      <td>3</td>\n",
       "      <td>black</td>\n",
       "    </tr>\n",
       "    <tr>\n",
       "      <th>365</th>\n",
       "      <td>683055</td>\n",
       "      <td>858799</td>\n",
       "      <td>301325.869543</td>\n",
       "      <td>144642.600226</td>\n",
       "      <td>266139.353242</td>\n",
       "      <td>139215.683057</td>\n",
       "      <td>4</td>\n",
       "      <td>brown</td>\n",
       "    </tr>\n",
       "    <tr>\n",
       "      <th>370</th>\n",
       "      <td>635082</td>\n",
       "      <td>737943</td>\n",
       "      <td>182588.177747</td>\n",
       "      <td>20191.228913</td>\n",
       "      <td>220845.685548</td>\n",
       "      <td>48699.704907</td>\n",
       "      <td>2</td>\n",
       "      <td>g</td>\n",
       "    </tr>\n",
       "  </tbody>\n",
       "</table>\n",
       "</div>"
      ],
      "text/plain": [
       "         x1      x2              1              2              3  \\\n",
       "65   628696  542447   40259.862456  188428.538510  224998.815466   \n",
       "260  517783  448891  183900.770308  298323.139981  367118.804531   \n",
       "183  823364  620870  169615.077119  234258.592846   19626.143024   \n",
       "85   565148  557305  100699.162901  180568.148423  279104.054455   \n",
       "72   620438  511694   64829.014261  218813.659066  246780.497564   \n",
       "19   601967  604428   78988.665345  126856.162030  232738.813233   \n",
       "123  839324  651033  196867.000955  236724.802454   14507.211896   \n",
       "125  876202  600942  214702.328767  290367.523766   57766.635647   \n",
       "365  683055  858799  301325.869543  144642.600226  266139.353242   \n",
       "370  635082  737943  182588.177747   20191.228913  220845.685548   \n",
       "\n",
       "                 4 closest  color  \n",
       "65   216642.152505       1      r  \n",
       "260  314969.440881       1      r  \n",
       "183  269718.693637       3  black  \n",
       "85   199752.516405       1      r  \n",
       "72   245784.784055       1      r  \n",
       "19   151617.093983       1      r  \n",
       "123  270642.920414       3  black  \n",
       "125  325576.593976       3  black  \n",
       "365  139215.683057       4  brown  \n",
       "370   48699.704907       2      g  "
      ]
     },
     "execution_count": 14,
     "metadata": {},
     "output_type": "execute_result"
    }
   ],
   "source": [
    "df.sample(10)"
   ]
  },
  {
   "cell_type": "code",
   "execution_count": 15,
   "metadata": {
    "colab": {
     "base_uri": "https://localhost:8080/",
     "height": 283
    },
    "colab_type": "code",
    "id": "f7wW7Qghvpbi",
    "outputId": "1842d4aa-bc57-4190-f98b-d5b5965c6b34"
   },
   "outputs": [
    {
     "data": {
      "text/plain": [
       "<matplotlib.collections.PathCollection at 0x14deb8bca90>"
      ]
     },
     "execution_count": 15,
     "metadata": {},
     "output_type": "execute_result"
    },
    {
     "data": {
      "image/png": "[encoded data removed]",
      "text/plain": [
       "<Figure size 432x288 with 1 Axes>"
      ]
     },
     "metadata": {
      "needs_background": "light"
     },
     "output_type": "display_data"
    }
   ],
   "source": [
    "plt.scatter(df['x1'], df['x2'], c = df['color'])"
   ]
  },
  {
   "cell_type": "code",
   "execution_count": null,
   "metadata": {},
   "outputs": [],
   "source": []
  },
  {
   "cell_type": "code",
   "execution_count": 17,
   "metadata": {},
   "outputs": [
    {
     "data": {
      "text/html": [
       "<div>\n",
       "<style scoped>\n",
       "    .dataframe tbody tr th:only-of-type {\n",
       "        vertical-align: middle;\n",
       "    }\n",
       "\n",
       "    .dataframe tbody tr th {\n",
       "        vertical-align: top;\n",
       "    }\n",
       "\n",
       "    .dataframe thead th {\n",
       "        text-align: right;\n",
       "    }\n",
       "</style>\n",
       "<table border=\"1\" class=\"dataframe\">\n",
       "  <thead>\n",
       "    <tr style=\"text-align: right;\">\n",
       "      <th></th>\n",
       "      <th>x1</th>\n",
       "      <th>x2</th>\n",
       "    </tr>\n",
       "  </thead>\n",
       "  <tbody>\n",
       "    <tr>\n",
       "      <th>0</th>\n",
       "      <td>664159</td>\n",
       "      <td>550946</td>\n",
       "    </tr>\n",
       "    <tr>\n",
       "      <th>1</th>\n",
       "      <td>665845</td>\n",
       "      <td>557965</td>\n",
       "    </tr>\n",
       "    <tr>\n",
       "      <th>2</th>\n",
       "      <td>597173</td>\n",
       "      <td>575538</td>\n",
       "    </tr>\n",
       "    <tr>\n",
       "      <th>3</th>\n",
       "      <td>618600</td>\n",
       "      <td>551446</td>\n",
       "    </tr>\n",
       "    <tr>\n",
       "      <th>4</th>\n",
       "      <td>635690</td>\n",
       "      <td>608046</td>\n",
       "    </tr>\n",
       "  </tbody>\n",
       "</table>\n",
       "</div>"
      ],
      "text/plain": [
       "       x1      x2\n",
       "0  664159  550946\n",
       "1  665845  557965\n",
       "2  597173  575538\n",
       "3  618600  551446\n",
       "4  635690  608046"
      ]
     },
     "execution_count": 17,
     "metadata": {},
     "output_type": "execute_result"
    }
   ],
   "source": [
    "df = pd.read_csv(r'D:\\Desktop\\lab8\\s.csv')\n",
    "df.columns= ['x1','x2']\n",
    "df.head()"
   ]
  },
  {
   "cell_type": "code",
   "execution_count": 18,
   "metadata": {},
   "outputs": [],
   "source": [
    "k = 4\n",
    "centroids = df[['x1','x2']].sample(4).values\n",
    "colors = {1: 'r', 2:'g', 3: 'black', 4:'brown' }"
   ]
  },
  {
   "cell_type": "code",
   "execution_count": 19,
   "metadata": {
    "colab": {
     "base_uri": "https://localhost:8080/",
     "height": 395
    },
    "colab_type": "code",
    "id": "84YPILVmyUUd",
    "outputId": "32797d89-8330-481b-ac35-4ac9c5138c28"
   },
   "outputs": [],
   "source": [
    "it  = 0\n",
    "for it in range(500):\n",
    "    df['1'] = np.sqrt((df['x1'] - centroids[0][0]) ** 2  + (df['x2'] - centroids[0][1]) ** 2)\n",
    "\n",
    "    df['2'] = np.sqrt((df['x1'] - centroids[1][0]) ** 2 + (df['x2'] - centroids[1][1]) ** 2)\n",
    "\n",
    "\n",
    "    df['3'] = np.sqrt((df['x1'] - centroids[2][0]) ** 2 + (df['x2'] - centroids[2][1]) ** 2)\n",
    "\n",
    "    df['4'] = np.sqrt((df['x1'] - centroids[3][0]) ** 2 + (df['x2'] - centroids[3][1]) ** 2)\n",
    "\n",
    "\n",
    "    df['closest'] = df.loc[:, ['1', '2', '3', '4']].idxmin(axis=1).apply(int)\n",
    "    df['color'] = df['closest'].map(lambda x: colors[x])\n",
    "    old  = centroids.copy\n",
    "    for i in range(len(centroids)):\n",
    "        centroids[i][0] = np.mean(df[df['closest'] == i+1]['x1'])\n",
    "        centroids[i][1] = np.mean(df[df['closest'] == i+1]['x2'])\n",
    "\n",
    "    if np.all(old == centroids):\n",
    "        break\n"
   ]
  },
  {
   "cell_type": "code",
   "execution_count": 20,
   "metadata": {
    "colab": {
     "base_uri": "https://localhost:8080/",
     "height": 35
    },
    "colab_type": "code",
    "id": "uNnUMxHX1cxE",
    "outputId": "ed7a69c3-c4fe-4f00-c788-5ea9ec349c94"
   },
   "outputs": [
    {
     "data": {
      "text/plain": [
       "499"
      ]
     },
     "execution_count": 20,
     "metadata": {},
     "output_type": "execute_result"
    }
   ],
   "source": [
    "it"
   ]
  },
  {
   "cell_type": "code",
   "execution_count": 21,
   "metadata": {
    "colab": {
     "base_uri": "https://localhost:8080/",
     "height": 283
    },
    "colab_type": "code",
    "id": "rcmYMqqSzZyF",
    "outputId": "c89a8ad5-63ca-4a0f-b4cd-d6f957087351"
   },
   "outputs": [
    {
     "data": {
      "text/plain": [
       "<matplotlib.collections.PathCollection at 0x14deb954c40>"
      ]
     },
     "execution_count": 21,
     "metadata": {},
     "output_type": "execute_result"
    },
    {
     "data": {
      "image/png": "[encoded data removed]",
      "text/plain": [
       "<Figure size 432x288 with 1 Axes>"
      ]
     },
     "metadata": {
      "needs_background": "light"
     },
     "output_type": "display_data"
    }
   ],
   "source": [
    "plt.scatter(df['x1'], df['x2'], c = df['color'])"
   ]
  },
  {
   "cell_type": "markdown",
   "metadata": {
    "colab": {},
    "colab_type": "code",
    "id": "DATS6eow1RpZ"
   },
   "source": [
    "# the K-means is better than the maximum and average methods"
   ]
  },
  {
   "cell_type": "code",
   "execution_count": null,
   "metadata": {},
   "outputs": [],
   "source": []
  }
 ],
 "metadata": {
  "accelerator": "GPU",
  "colab": {
   "name": "Clustering.ipynb",
   "provenance": []
  },
  "kernelspec": {
   "display_name": "Python 3",
   "language": "python",
   "name": "python3"
  },
  "language_info": {
   "codemirror_mode": {
    "name": "ipython",
    "version": 3
   },
   "file_extension": ".py",
   "mimetype": "text/x-python",
   "name": "python",
   "nbconvert_exporter": "python",
   "pygments_lexer": "ipython3",
   "version": "3.8.8"
  }
 },
 "nbformat": 4,
 "nbformat_minor": 4
}
