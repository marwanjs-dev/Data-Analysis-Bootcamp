{
 "cells": [
  {
   "cell_type": "code",
   "execution_count": 1,
   "id": "7f94a9e3",
   "metadata": {},
   "outputs": [],
   "source": [
    "import pandas as pd\n",
    "import numpy as np\n",
    "from sklearn.cluster import KMeans\n",
    "import matplotlib.pyplot as plt"
   ]
  },
  {
   "cell_type": "code",
   "execution_count": 2,
   "id": "68fa4df7",
   "metadata": {},
   "outputs": [],
   "source": [
    "data = pd.read_csv('D:\\Desktop\\Assignment 3\\s.csv')"
   ]
  },
  {
   "cell_type": "code",
   "execution_count": 3,
   "id": "f52de3d2",
   "metadata": {},
   "outputs": [
    {
     "data": {
      "image/png": "[encoded data removed]",
      "text/plain": [
       "<Figure size 432x288 with 1 Axes>"
      ]
     },
     "metadata": {
      "needs_background": "light"
     },
     "output_type": "display_data"
    }
   ],
   "source": [
    "data.plot.scatter('x1', 'x2');"
   ]
  },
  {
   "cell_type": "code",
   "execution_count": 4,
   "id": "318e5b32",
   "metadata": {},
   "outputs": [],
   "source": [
    "X = data['x1']\n",
    "Y = data['x2']"
   ]
  },
  {
   "cell_type": "code",
   "execution_count": 5,
   "id": "b4d68760",
   "metadata": {},
   "outputs": [],
   "source": [
    "import math\n",
    "loss = []\n",
    "cur_loss = []\n",
    "for i, j in zip(X,Y):\n",
    "    for n, m in zip(X,Y):\n",
    "        cur_loss.append(math.sqrt((((n - i )**2) + ((m-j)**2) )))\n",
    "    loss.append(cur_loss)\n",
    "    cur_loss = []"
   ]
  },
  {
   "cell_type": "code",
   "execution_count": 7,
   "id": "79794285",
   "metadata": {},
   "outputs": [],
   "source": [
    "proximity_matrix = pd.DataFrame(np.array(loss))"
   ]
  },
  {
   "cell_type": "code",
   "execution_count": 8,
   "id": "9b9916d7",
   "metadata": {},
   "outputs": [],
   "source": [
    "def getIndexes(dfObj, value):\n",
    "    ''' Get index positions of value in dataframe i.e. dfObj.'''\n",
    "    listOfPos = list()\n",
    "    # Get bool dataframe with True at positions where the given value exists\n",
    "    result = dfObj.isin([value])\n",
    "    # Get list of columns that contains the value\n",
    "    seriesObj = result.any()\n",
    "    columnNames = list(seriesObj[seriesObj == True].index)\n",
    "    # Iterate over list of columns and fetch the rows indexes where value exists\n",
    "    for col in columnNames:\n",
    "        rows = list(result[col][result[col] == True].index)\n",
    "        for row in rows:\n",
    "            listOfPos.append((row, col))\n",
    "    # Return a list of tuples indicating the positions of value in the dataframe\n",
    "    return listOfPos"
   ]
  },
  {
   "cell_type": "code",
   "execution_count": 10,
   "id": "95788bb8",
   "metadata": {},
   "outputs": [],
   "source": [
    "import sys\n",
    "np.fill_diagonal(proximity_matrix.to_numpy(),np.nan)\n",
    "df = proximity_matrix.copy()"
   ]
  },
  {
   "cell_type": "code",
   "execution_count": 11,
   "id": "977635ac",
   "metadata": {},
   "outputs": [
    {
     "data": {
      "text/plain": [
       "nan"
      ]
     },
     "execution_count": 11,
     "metadata": {},
     "output_type": "execute_result"
    }
   ],
   "source": [
    "( np.nan + 2 )/2"
   ]
  },
  {
   "cell_type": "code",
   "execution_count": 12,
   "id": "3295cac1",
   "metadata": {},
   "outputs": [],
   "source": [
    "maxi = 0\n",
    "length = 400\n",
    "spare = pd.DataFrame([i for i in range(400)])\n",
    "used = []\n",
    "while len(df.columns) > 4:\n",
    "    search = df.min().min()\n",
    "    indices = getIndexes(df, search)\n",
    "    label1 = indices[0][0]\n",
    "    label2 = indices[0][1]\n",
    "    used.append(label1)\n",
    "    used.append(label2)\n",
    "    if type(label1) == int and type(label2) == int:\n",
    "        #df[(label1, label2)] = list(zip(proximity_matrix[label1], proximity_matrix[label2]))\n",
    "        df[(label1,label2)] = [(i+j)/2 for i, j in zip(df[label1], df[label2])]\n",
    "        df = df.append(df[(label1,label2)].T)\n",
    "        df = df.drop(labels = [label1, label2], axis = 1)\n",
    "        df = df.drop(labels = [label1, label2], axis = 0)\n",
    "    elif type(label1) == int and type(label2) == tuple:\n",
    "        #df[(label1)] = list(zip(df[label1]))\n",
    "        #df[tuple(list(label2) + [label1])] = df[label2] + df[(label1)]\n",
    "        df[tuple(list(label2) + [label1])] = [(i+j)/2 for i, j in zip(df[label1], df[label2])]\n",
    "        df = df.append(df[tuple(list(label2) + [label1])].T)\n",
    "        df = df.drop(labels = [label1, label2], axis = 1)\n",
    "        df = df.drop(labels = [label1, label2], axis = 0)\n",
    "    elif type(label1) == tuple and type(label2) == int:\n",
    "        #df[(label2)] = list(zip(df[label2]))\n",
    "        #df[tuple(list(label1) + [label2])] = df[label1] + df[(label2)]\n",
    "        df[tuple(list(label1) + [label2])] = [(i+j)/2 for i, j in zip(df[label1], df[label2])]\n",
    "        df = df.append(df[tuple(list(label1) + [label2])].T)\n",
    "        df = df.drop(labels = [label1, label2], axis = 1)\n",
    "        df = df.drop(labels = [label1, label2], axis = 0)\n",
    "    elif type(label1) == tuple and type(label2) == tuple:\n",
    "        #df[label1 + label2] = df[label1] + df[label2]\n",
    "        df[label1 + label2] = [(i+j)/2 for i, j in zip(df[label1], df[label2])]\n",
    "        df = df.append(df[label1 + label2].T)\n",
    "        df = df.drop(labels = [label1, label2], axis = 1)\n",
    "        df = df.drop(labels = [label1, label2], axis = 0)"
   ]
  },
  {
   "cell_type": "code",
   "execution_count": 13,
   "id": "6ee711ff",
   "metadata": {},
   "outputs": [
    {
     "data": {
      "text/html": [
       "<div>\n",
       "<style scoped>\n",
       "    .dataframe tbody tr th:only-of-type {\n",
       "        vertical-align: middle;\n",
       "    }\n",
       "\n",
       "    .dataframe tbody tr th {\n",
       "        vertical-align: top;\n",
       "    }\n",
       "\n",
       "    .dataframe thead th {\n",
       "        text-align: right;\n",
       "    }\n",
       "</style>\n",
       "<table border=\"1\" class=\"dataframe\">\n",
       "  <thead>\n",
       "    <tr style=\"text-align: right;\">\n",
       "      <th></th>\n",
       "      <th>(173, 100, 112, 194, 129, 104, 149, 180, 168, 150, 140, 193, 169, 134, 126, 175, 101, 109, 122, 121, 167, 118, 136, 189, 115, 148, 114, 162, 185, 165, 183, 182, 184, 166, 106, 161, 152, 164, 147, 190, 144, 160, 157, 181, 105, 197, 127, 171, 110, 192, 139, 116, 195, 146, 128, 156, 346, 321, 151, 387, 191, 199, 159, 198, 120, 108, 107, 196, 131, 187, 124, 153, 138, 111, 117, 141, 123, 172, 155, 178, 133, 188, 179, 186, 170, 135, 113, 174, 154, 137, 125, 102, 130, 119, 145, 143, 132, 158, 176, 142, ...)</th>\n",
       "      <th>(286, 221, 275, 210, 278, 217, 247, 351, 320, 382, 369, 272, 218, 202, 307, 273, 303, 291, 288, 282, 266, 219, 244, 227, 239, 216, 240, 258, 200, 367, 312, 313, 302, 344, 83, 380, 301, 392, 339, 325, 361, 360, 373, 384, 310, 336, 366, 311, 374, 334, 306, 378, 348, 323, 342, 326, 305, 345, 353, 304, 370, 341, 391, 362, 343, 331, 398, 357, 376, 390, 388, 314, 315, 324, 285, 222, 297, 229, 287, 51, 231, 211, 284, 279, 255, 316, 47, 73, 54, 77, 58, 44, 246, 226, 249, 88, 318, 208, 377, 250, ...)</th>\n",
       "      <th>(340, 300, 365, 332, 393, 375, 396, 294, 356, 319, 349, 309, 389, 385, 338, 177, 322, 363, 355, 394, 337, 368, 335, 397, 371, 386, 328, 379, 329, 327, 308, 399, 330)</th>\n",
       "      <th>(277, 257, 281, 260, 220, 293, 215, 241, 262, 268, 238, 283, 265, 234, 206, 263, 261, 292, 271, 269, 298, 248, 207, 289, 245, 253, 224, 225, 213, 212, 242, 236, 201, 243, 230, 267, 251, 259, 228, 232, 45, 209, 296, 290, 237, 233, 62, 299, 75, 204, 52, 235, 223, 214, 254, 205, 33, 8, 270, 256, 252, 32, 22, 43, 86, 65, 70, 35, 39, 40, 3, 94, 80, 87, 68, 13, 71, 69, 63, 72, 30, 67, 49, 38, 24, 274, 5, 6, 264, 26, 203, 29, 93, 280, 79, 276, 85, 99, 295, 10, ...)</th>\n",
       "    </tr>\n",
       "  </thead>\n",
       "  <tbody>\n",
       "    <tr>\n",
       "      <th>(173, 100, 112, 194, 129, 104, 149, 180, 168, 150, 140, 193, 169, 134, 126, 175, 101, 109, 122, 121, 167, 118, 136, 189, 115, 148, 114, 162, 185, 165, 183, 182, 184, 166, 106, 161, 152, 164, 147, 190, 144, 160, 157, 181, 105, 197, 127, 171, 110, 192, 139, 116, 195, 146, 128, 156, 346, 321, 151, 387, 191, 199, 159, 198, 120, 108, 107, 196, 131, 187, 124, 153, 138, 111, 117, 141, 123, 172, 155, 178, 133, 188, 179, 186, 170, 135, 113, 174, 154, 137, 125, 102, 130, 119, 145, 143, 132, 158, 176, 142, ...)</th>\n",
       "      <td>NaN</td>\n",
       "      <td>305019.537822</td>\n",
       "      <td>260040.995228</td>\n",
       "      <td>289054.947299</td>\n",
       "    </tr>\n",
       "    <tr>\n",
       "      <th>(286, 221, 275, 210, 278, 217, 247, 351, 320, 382, 369, 272, 218, 202, 307, 273, 303, 291, 288, 282, 266, 219, 244, 227, 239, 216, 240, 258, 200, 367, 312, 313, 302, 344, 83, 380, 301, 392, 339, 325, 361, 360, 373, 384, 310, 336, 366, 311, 374, 334, 306, 378, 348, 323, 342, 326, 305, 345, 353, 304, 370, 341, 391, 362, 343, 331, 398, 357, 376, 390, 388, 314, 315, 324, 285, 222, 297, 229, 287, 51, 231, 211, 284, 279, 255, 316, 47, 73, 54, 77, 58, 44, 246, 226, 249, 88, 318, 208, 377, 250, ...)</th>\n",
       "      <td>305019.537822</td>\n",
       "      <td>NaN</td>\n",
       "      <td>202466.798758</td>\n",
       "      <td>217549.971241</td>\n",
       "    </tr>\n",
       "    <tr>\n",
       "      <th>(340, 300, 365, 332, 393, 375, 396, 294, 356, 319, 349, 309, 389, 385, 338, 177, 322, 363, 355, 394, 337, 368, 335, 397, 371, 386, 328, 379, 329, 327, 308, 399, 330)</th>\n",
       "      <td>260040.995228</td>\n",
       "      <td>202466.798758</td>\n",
       "      <td>NaN</td>\n",
       "      <td>335250.109543</td>\n",
       "    </tr>\n",
       "    <tr>\n",
       "      <th>(277, 257, 281, 260, 220, 293, 215, 241, 262, 268, 238, 283, 265, 234, 206, 263, 261, 292, 271, 269, 298, 248, 207, 289, 245, 253, 224, 225, 213, 212, 242, 236, 201, 243, 230, 267, 251, 259, 228, 232, 45, 209, 296, 290, 237, 233, 62, 299, 75, 204, 52, 235, 223, 214, 254, 205, 33, 8, 270, 256, 252, 32, 22, 43, 86, 65, 70, 35, 39, 40, 3, 94, 80, 87, 68, 13, 71, 69, 63, 72, 30, 67, 49, 38, 24, 274, 5, 6, 264, 26, 203, 29, 93, 280, 79, 276, 85, 99, 295, 10, ...)</th>\n",
       "      <td>289054.947299</td>\n",
       "      <td>217549.971241</td>\n",
       "      <td>335250.109543</td>\n",
       "      <td>NaN</td>\n",
       "    </tr>\n",
       "  </tbody>\n",
       "</table>\n",
       "</div>"
      ],
      "text/plain": [
       "                                                    (173, 100, 112, 194, 129, 104, 149, 180, 168, 150, 140, 193, 169, 134, 126, 175, 101, 109, 122, 121, 167, 118, 136, 189, 115, 148, 114, 162, 185, 165, 183, 182, 184, 166, 106, 161, 152, 164, 147, 190, 144, 160, 157, 181, 105, 197, 127, 171, 110, 192, 139, 116, 195, 146, 128, 156, 346, 321, 151, 387, 191, 199, 159, 198, 120, 108, 107, 196, 131, 187, 124, 153, 138, 111, 117, 141, 123, 172, 155, 178, 133, 188, 179, 186, 170, 135, 113, 174, 154, 137, 125, 102, 130, 119, 145, 143, 132, 158, 176, 142, ...)  \\\n",
       "(173, 100, 112, 194, 129, 104, 149, 180, 168, 1...                                                NaN                                                                                                                                                                                                                                                                                                                                                                                                                                                                           \n",
       "(286, 221, 275, 210, 278, 217, 247, 351, 320, 3...                                      305019.537822                                                                                                                                                                                                                                                                                                                                                                                                                                                                           \n",
       "(340, 300, 365, 332, 393, 375, 396, 294, 356, 3...                                      260040.995228                                                                                                                                                                                                                                                                                                                                                                                                                                                                           \n",
       "(277, 257, 281, 260, 220, 293, 215, 241, 262, 2...                                      289054.947299                                                                                                                                                                                                                                                                                                                                                                                                                                                                           \n",
       "\n",
       "                                                    (286, 221, 275, 210, 278, 217, 247, 351, 320, 382, 369, 272, 218, 202, 307, 273, 303, 291, 288, 282, 266, 219, 244, 227, 239, 216, 240, 258, 200, 367, 312, 313, 302, 344, 83, 380, 301, 392, 339, 325, 361, 360, 373, 384, 310, 336, 366, 311, 374, 334, 306, 378, 348, 323, 342, 326, 305, 345, 353, 304, 370, 341, 391, 362, 343, 331, 398, 357, 376, 390, 388, 314, 315, 324, 285, 222, 297, 229, 287, 51, 231, 211, 284, 279, 255, 316, 47, 73, 54, 77, 58, 44, 246, 226, 249, 88, 318, 208, 377, 250, ...)  \\\n",
       "(173, 100, 112, 194, 129, 104, 149, 180, 168, 1...                                      305019.537822                                                                                                                                                                                                                                                                                                                                                                                                                                                                  \n",
       "(286, 221, 275, 210, 278, 217, 247, 351, 320, 3...                                                NaN                                                                                                                                                                                                                                                                                                                                                                                                                                                                  \n",
       "(340, 300, 365, 332, 393, 375, 396, 294, 356, 3...                                      202466.798758                                                                                                                                                                                                                                                                                                                                                                                                                                                                  \n",
       "(277, 257, 281, 260, 220, 293, 215, 241, 262, 2...                                      217549.971241                                                                                                                                                                                                                                                                                                                                                                                                                                                                  \n",
       "\n",
       "                                                    (340, 300, 365, 332, 393, 375, 396, 294, 356, 319, 349, 309, 389, 385, 338, 177, 322, 363, 355, 394, 337, 368, 335, 397, 371, 386, 328, 379, 329, 327, 308, 399, 330)  \\\n",
       "(173, 100, 112, 194, 129, 104, 149, 180, 168, 1...                                      260040.995228                                                                                                                       \n",
       "(286, 221, 275, 210, 278, 217, 247, 351, 320, 3...                                      202466.798758                                                                                                                       \n",
       "(340, 300, 365, 332, 393, 375, 396, 294, 356, 3...                                                NaN                                                                                                                       \n",
       "(277, 257, 281, 260, 220, 293, 215, 241, 262, 2...                                      335250.109543                                                                                                                       \n",
       "\n",
       "                                                    (277, 257, 281, 260, 220, 293, 215, 241, 262, 268, 238, 283, 265, 234, 206, 263, 261, 292, 271, 269, 298, 248, 207, 289, 245, 253, 224, 225, 213, 212, 242, 236, 201, 243, 230, 267, 251, 259, 228, 232, 45, 209, 296, 290, 237, 233, 62, 299, 75, 204, 52, 235, 223, 214, 254, 205, 33, 8, 270, 256, 252, 32, 22, 43, 86, 65, 70, 35, 39, 40, 3, 94, 80, 87, 68, 13, 71, 69, 63, 72, 30, 67, 49, 38, 24, 274, 5, 6, 264, 26, 203, 29, 93, 280, 79, 276, 85, 99, 295, 10, ...)  \n",
       "(173, 100, 112, 194, 129, 104, 149, 180, 168, 1...                                      289054.947299                                                                                                                                                                                                                                                                                                                                                                                                                               \n",
       "(286, 221, 275, 210, 278, 217, 247, 351, 320, 3...                                      217549.971241                                                                                                                                                                                                                                                                                                                                                                                                                               \n",
       "(340, 300, 365, 332, 393, 375, 396, 294, 356, 3...                                      335250.109543                                                                                                                                                                                                                                                                                                                                                                                                                               \n",
       "(277, 257, 281, 260, 220, 293, 215, 241, 262, 2...                                                NaN                                                                                                                                                                                                                                                                                                                                                                                                                               "
      ]
     },
     "execution_count": 13,
     "metadata": {},
     "output_type": "execute_result"
    }
   ],
   "source": [
    "df"
   ]
  },
  {
   "cell_type": "code",
   "execution_count": 14,
   "id": "c99a5579",
   "metadata": {},
   "outputs": [],
   "source": [
    "data['id'] = pd.DataFrame([i for i in range(400)])"
   ]
  },
  {
   "cell_type": "markdown",
   "id": "758a8504",
   "metadata": {},
   "source": [
    "# in this section I will plot the 4 clusters with different colors to compare the average method and the maximum method"
   ]
  },
  {
   "cell_type": "code",
   "execution_count": 15,
   "id": "3eb05bde",
   "metadata": {},
   "outputs": [],
   "source": [
    "l = df.columns.to_list()"
   ]
  },
  {
   "cell_type": "code",
   "execution_count": 16,
   "id": "bd4c7f87",
   "metadata": {},
   "outputs": [],
   "source": [
    "data['label1'] = data.id.map(lambda x: 'r' if x in l[0] else '')"
   ]
  },
  {
   "cell_type": "code",
   "execution_count": 17,
   "id": "021fca43",
   "metadata": {},
   "outputs": [],
   "source": [
    "data['label2'] = data.id.map(lambda x: 'b' if x in l[1] else '')"
   ]
  },
  {
   "cell_type": "code",
   "execution_count": 18,
   "id": "07ecb639",
   "metadata": {},
   "outputs": [],
   "source": [
    "data['label3'] = data.id.map(lambda x: 'y' if x in l[2] else '')"
   ]
  },
  {
   "cell_type": "code",
   "execution_count": 19,
   "id": "d99bdb0f",
   "metadata": {},
   "outputs": [],
   "source": [
    "data['label4'] = data.id.map(lambda x: 'm' if x in l[3] else '')"
   ]
  },
  {
   "cell_type": "code",
   "execution_count": 20,
   "id": "882f788f",
   "metadata": {},
   "outputs": [
    {
     "data": {
      "text/html": [
       "<div>\n",
       "<style scoped>\n",
       "    .dataframe tbody tr th:only-of-type {\n",
       "        vertical-align: middle;\n",
       "    }\n",
       "\n",
       "    .dataframe tbody tr th {\n",
       "        vertical-align: top;\n",
       "    }\n",
       "\n",
       "    .dataframe thead th {\n",
       "        text-align: right;\n",
       "    }\n",
       "</style>\n",
       "<table border=\"1\" class=\"dataframe\">\n",
       "  <thead>\n",
       "    <tr style=\"text-align: right;\">\n",
       "      <th></th>\n",
       "      <th>x1</th>\n",
       "      <th>x2</th>\n",
       "      <th>id</th>\n",
       "      <th>label1</th>\n",
       "      <th>label2</th>\n",
       "      <th>label3</th>\n",
       "      <th>label4</th>\n",
       "    </tr>\n",
       "  </thead>\n",
       "  <tbody>\n",
       "    <tr>\n",
       "      <th>0</th>\n",
       "      <td>664159</td>\n",
       "      <td>550946</td>\n",
       "      <td>0</td>\n",
       "      <td></td>\n",
       "      <td></td>\n",
       "      <td></td>\n",
       "      <td>m</td>\n",
       "    </tr>\n",
       "    <tr>\n",
       "      <th>1</th>\n",
       "      <td>665845</td>\n",
       "      <td>557965</td>\n",
       "      <td>1</td>\n",
       "      <td></td>\n",
       "      <td></td>\n",
       "      <td></td>\n",
       "      <td>m</td>\n",
       "    </tr>\n",
       "    <tr>\n",
       "      <th>2</th>\n",
       "      <td>597173</td>\n",
       "      <td>575538</td>\n",
       "      <td>2</td>\n",
       "      <td></td>\n",
       "      <td></td>\n",
       "      <td></td>\n",
       "      <td>m</td>\n",
       "    </tr>\n",
       "    <tr>\n",
       "      <th>3</th>\n",
       "      <td>618600</td>\n",
       "      <td>551446</td>\n",
       "      <td>3</td>\n",
       "      <td></td>\n",
       "      <td></td>\n",
       "      <td></td>\n",
       "      <td>m</td>\n",
       "    </tr>\n",
       "    <tr>\n",
       "      <th>4</th>\n",
       "      <td>635690</td>\n",
       "      <td>608046</td>\n",
       "      <td>4</td>\n",
       "      <td></td>\n",
       "      <td></td>\n",
       "      <td></td>\n",
       "      <td>m</td>\n",
       "    </tr>\n",
       "    <tr>\n",
       "      <th>...</th>\n",
       "      <td>...</td>\n",
       "      <td>...</td>\n",
       "      <td>...</td>\n",
       "      <td>...</td>\n",
       "      <td>...</td>\n",
       "      <td>...</td>\n",
       "      <td>...</td>\n",
       "    </tr>\n",
       "    <tr>\n",
       "      <th>395</th>\n",
       "      <td>616325</td>\n",
       "      <td>730469</td>\n",
       "      <td>395</td>\n",
       "      <td></td>\n",
       "      <td>b</td>\n",
       "      <td></td>\n",
       "      <td></td>\n",
       "    </tr>\n",
       "    <tr>\n",
       "      <th>396</th>\n",
       "      <td>554610</td>\n",
       "      <td>782542</td>\n",
       "      <td>396</td>\n",
       "      <td></td>\n",
       "      <td></td>\n",
       "      <td>y</td>\n",
       "      <td></td>\n",
       "    </tr>\n",
       "    <tr>\n",
       "      <th>397</th>\n",
       "      <td>727303</td>\n",
       "      <td>809509</td>\n",
       "      <td>397</td>\n",
       "      <td></td>\n",
       "      <td></td>\n",
       "      <td>y</td>\n",
       "      <td></td>\n",
       "    </tr>\n",
       "    <tr>\n",
       "      <th>398</th>\n",
       "      <td>603709</td>\n",
       "      <td>757145</td>\n",
       "      <td>398</td>\n",
       "      <td></td>\n",
       "      <td>b</td>\n",
       "      <td></td>\n",
       "      <td></td>\n",
       "    </tr>\n",
       "    <tr>\n",
       "      <th>399</th>\n",
       "      <td>694477</td>\n",
       "      <td>801480</td>\n",
       "      <td>399</td>\n",
       "      <td></td>\n",
       "      <td></td>\n",
       "      <td>y</td>\n",
       "      <td></td>\n",
       "    </tr>\n",
       "  </tbody>\n",
       "</table>\n",
       "<p>400 rows × 7 columns</p>\n",
       "</div>"
      ],
      "text/plain": [
       "         x1      x2   id label1 label2 label3 label4\n",
       "0    664159  550946    0                           m\n",
       "1    665845  557965    1                           m\n",
       "2    597173  575538    2                           m\n",
       "3    618600  551446    3                           m\n",
       "4    635690  608046    4                           m\n",
       "..      ...     ...  ...    ...    ...    ...    ...\n",
       "395  616325  730469  395             b              \n",
       "396  554610  782542  396                    y       \n",
       "397  727303  809509  397                    y       \n",
       "398  603709  757145  398             b              \n",
       "399  694477  801480  399                    y       \n",
       "\n",
       "[400 rows x 7 columns]"
      ]
     },
     "execution_count": 20,
     "metadata": {},
     "output_type": "execute_result"
    }
   ],
   "source": [
    "data"
   ]
  },
  {
   "cell_type": "code",
   "execution_count": 21,
   "id": "73cb3f12",
   "metadata": {},
   "outputs": [
    {
     "data": {
      "text/html": [
       "<div>\n",
       "<style scoped>\n",
       "    .dataframe tbody tr th:only-of-type {\n",
       "        vertical-align: middle;\n",
       "    }\n",
       "\n",
       "    .dataframe tbody tr th {\n",
       "        vertical-align: top;\n",
       "    }\n",
       "\n",
       "    .dataframe thead th {\n",
       "        text-align: right;\n",
       "    }\n",
       "</style>\n",
       "<table border=\"1\" class=\"dataframe\">\n",
       "  <thead>\n",
       "    <tr style=\"text-align: right;\">\n",
       "      <th></th>\n",
       "      <th>x1</th>\n",
       "      <th>x2</th>\n",
       "      <th>id</th>\n",
       "      <th>label1</th>\n",
       "      <th>label2</th>\n",
       "      <th>label3</th>\n",
       "      <th>label4</th>\n",
       "      <th>label</th>\n",
       "    </tr>\n",
       "  </thead>\n",
       "  <tbody>\n",
       "    <tr>\n",
       "      <th>0</th>\n",
       "      <td>664159</td>\n",
       "      <td>550946</td>\n",
       "      <td>0</td>\n",
       "      <td></td>\n",
       "      <td></td>\n",
       "      <td></td>\n",
       "      <td>m</td>\n",
       "      <td>m</td>\n",
       "    </tr>\n",
       "    <tr>\n",
       "      <th>1</th>\n",
       "      <td>665845</td>\n",
       "      <td>557965</td>\n",
       "      <td>1</td>\n",
       "      <td></td>\n",
       "      <td></td>\n",
       "      <td></td>\n",
       "      <td>m</td>\n",
       "      <td>m</td>\n",
       "    </tr>\n",
       "    <tr>\n",
       "      <th>2</th>\n",
       "      <td>597173</td>\n",
       "      <td>575538</td>\n",
       "      <td>2</td>\n",
       "      <td></td>\n",
       "      <td></td>\n",
       "      <td></td>\n",
       "      <td>m</td>\n",
       "      <td>m</td>\n",
       "    </tr>\n",
       "    <tr>\n",
       "      <th>3</th>\n",
       "      <td>618600</td>\n",
       "      <td>551446</td>\n",
       "      <td>3</td>\n",
       "      <td></td>\n",
       "      <td></td>\n",
       "      <td></td>\n",
       "      <td>m</td>\n",
       "      <td>m</td>\n",
       "    </tr>\n",
       "    <tr>\n",
       "      <th>4</th>\n",
       "      <td>635690</td>\n",
       "      <td>608046</td>\n",
       "      <td>4</td>\n",
       "      <td></td>\n",
       "      <td></td>\n",
       "      <td></td>\n",
       "      <td>m</td>\n",
       "      <td>m</td>\n",
       "    </tr>\n",
       "    <tr>\n",
       "      <th>...</th>\n",
       "      <td>...</td>\n",
       "      <td>...</td>\n",
       "      <td>...</td>\n",
       "      <td>...</td>\n",
       "      <td>...</td>\n",
       "      <td>...</td>\n",
       "      <td>...</td>\n",
       "      <td>...</td>\n",
       "    </tr>\n",
       "    <tr>\n",
       "      <th>395</th>\n",
       "      <td>616325</td>\n",
       "      <td>730469</td>\n",
       "      <td>395</td>\n",
       "      <td></td>\n",
       "      <td>b</td>\n",
       "      <td></td>\n",
       "      <td></td>\n",
       "      <td>b</td>\n",
       "    </tr>\n",
       "    <tr>\n",
       "      <th>396</th>\n",
       "      <td>554610</td>\n",
       "      <td>782542</td>\n",
       "      <td>396</td>\n",
       "      <td></td>\n",
       "      <td></td>\n",
       "      <td>y</td>\n",
       "      <td></td>\n",
       "      <td>y</td>\n",
       "    </tr>\n",
       "    <tr>\n",
       "      <th>397</th>\n",
       "      <td>727303</td>\n",
       "      <td>809509</td>\n",
       "      <td>397</td>\n",
       "      <td></td>\n",
       "      <td></td>\n",
       "      <td>y</td>\n",
       "      <td></td>\n",
       "      <td>y</td>\n",
       "    </tr>\n",
       "    <tr>\n",
       "      <th>398</th>\n",
       "      <td>603709</td>\n",
       "      <td>757145</td>\n",
       "      <td>398</td>\n",
       "      <td></td>\n",
       "      <td>b</td>\n",
       "      <td></td>\n",
       "      <td></td>\n",
       "      <td>b</td>\n",
       "    </tr>\n",
       "    <tr>\n",
       "      <th>399</th>\n",
       "      <td>694477</td>\n",
       "      <td>801480</td>\n",
       "      <td>399</td>\n",
       "      <td></td>\n",
       "      <td></td>\n",
       "      <td>y</td>\n",
       "      <td></td>\n",
       "      <td>y</td>\n",
       "    </tr>\n",
       "  </tbody>\n",
       "</table>\n",
       "<p>400 rows × 8 columns</p>\n",
       "</div>"
      ],
      "text/plain": [
       "         x1      x2   id label1 label2 label3 label4 label\n",
       "0    664159  550946    0                           m     m\n",
       "1    665845  557965    1                           m     m\n",
       "2    597173  575538    2                           m     m\n",
       "3    618600  551446    3                           m     m\n",
       "4    635690  608046    4                           m     m\n",
       "..      ...     ...  ...    ...    ...    ...    ...   ...\n",
       "395  616325  730469  395             b                   b\n",
       "396  554610  782542  396                    y            y\n",
       "397  727303  809509  397                    y            y\n",
       "398  603709  757145  398             b                   b\n",
       "399  694477  801480  399                    y            y\n",
       "\n",
       "[400 rows x 8 columns]"
      ]
     },
     "execution_count": 21,
     "metadata": {},
     "output_type": "execute_result"
    }
   ],
   "source": [
    "data['label'] = data['label1'] + data['label2'] + data['label3'] + data['label4']\n",
    "data"
   ]
  },
  {
   "cell_type": "markdown",
   "id": "7cff8419",
   "metadata": {},
   "source": [
    "# Good results however the maximum method yielded 4 better clusters"
   ]
  },
  {
   "cell_type": "code",
   "execution_count": 22,
   "id": "a89c8ebe",
   "metadata": {},
   "outputs": [
    {
     "data": {
      "text/plain": [
       "<matplotlib.collections.PathCollection at 0x2170974ddc0>"
      ]
     },
     "execution_count": 22,
     "metadata": {},
     "output_type": "execute_result"
    },
    {
     "data": {
      "image/png": "[encoded data removed]",
      "text/plain": [
       "<Figure size 432x288 with 1 Axes>"
      ]
     },
     "metadata": {
      "needs_background": "light"
     },
     "output_type": "display_data"
    }
   ],
   "source": [
    "plt.scatter(data['x1'], data['x2'], c = data['label'].to_list())"
   ]
  },
  {
   "cell_type": "code",
   "execution_count": 38,
   "id": "7a54c936",
   "metadata": {},
   "outputs": [],
   "source": [
    "data = pd.read_csv('D:\\Desktop\\Assignment 3\\s.csv')"
   ]
  },
  {
   "cell_type": "code",
   "execution_count": 39,
   "id": "f230397d",
   "metadata": {},
   "outputs": [],
   "source": [
    "import sys\n",
    "np.fill_diagonal(proximity_matrix.to_numpy(),np.nan)\n",
    "df = proximity_matrix.copy()"
   ]
  },
  {
   "cell_type": "code",
   "execution_count": 40,
   "id": "61740da8",
   "metadata": {},
   "outputs": [],
   "source": [
    "maxi = 0\n",
    "length = 400\n",
    "spare = pd.DataFrame([i for i in range(400)])\n",
    "used = []\n",
    "while len(df.columns) > 2:\n",
    "    search = df.min().min()\n",
    "    indices = getIndexes(df, search)\n",
    "    label1 = indices[0][0]\n",
    "    label2 = indices[0][1]\n",
    "    used.append(label1)\n",
    "    used.append(label2)\n",
    "    if type(label1) == int and type(label2) == int:\n",
    "        #df[(label1, label2)] = list(zip(proximity_matrix[label1], proximity_matrix[label2]))\n",
    "        df[(label1,label2)] = [(i+j)/2 for i, j in zip(df[label1], df[label2])]\n",
    "        df = df.append(df[(label1,label2)].T)\n",
    "        df = df.drop(labels = [label1, label2], axis = 1)\n",
    "        df = df.drop(labels = [label1, label2], axis = 0)\n",
    "    elif type(label1) == int and type(label2) == tuple:\n",
    "        #df[(label1)] = list(zip(df[label1]))\n",
    "        #df[tuple(list(label2) + [label1])] = df[label2] + df[(label1)]\n",
    "        df[tuple(list(label2) + [label1])] = [(i+j)/2 for i, j in zip(df[label1], df[label2])]\n",
    "        df = df.append(df[tuple(list(label2) + [label1])].T)\n",
    "        df = df.drop(labels = [label1, label2], axis = 1)\n",
    "        df = df.drop(labels = [label1, label2], axis = 0)\n",
    "    elif type(label1) == tuple and type(label2) == int:\n",
    "        #df[(label2)] = list(zip(df[label2]))\n",
    "        #df[tuple(list(label1) + [label2])] = df[label1] + df[(label2)]\n",
    "        df[tuple(list(label1) + [label2])] = [(i+j)/2 for i, j in zip(df[label1], df[label2])]\n",
    "        df = df.append(df[tuple(list(label1) + [label2])].T)\n",
    "        df = df.drop(labels = [label1, label2], axis = 1)\n",
    "        df = df.drop(labels = [label1, label2], axis = 0)\n",
    "    elif type(label1) == tuple and type(label2) == tuple:\n",
    "        #df[label1 + label2] = df[label1] + df[label2]\n",
    "        df[label1 + label2] = [(i+j)/2 for i, j in zip(df[label1], df[label2])]\n",
    "        df = df.append(df[label1 + label2].T)\n",
    "        df = df.drop(labels = [label1, label2], axis = 1)\n",
    "        df = df.drop(labels = [label1, label2], axis = 0)"
   ]
  },
  {
   "cell_type": "code",
   "execution_count": 41,
   "id": "a2ad0c94",
   "metadata": {},
   "outputs": [
    {
     "data": {
      "text/html": [
       "<div>\n",
       "<style scoped>\n",
       "    .dataframe tbody tr th:only-of-type {\n",
       "        vertical-align: middle;\n",
       "    }\n",
       "\n",
       "    .dataframe tbody tr th {\n",
       "        vertical-align: top;\n",
       "    }\n",
       "\n",
       "    .dataframe thead th {\n",
       "        text-align: right;\n",
       "    }\n",
       "</style>\n",
       "<table border=\"1\" class=\"dataframe\">\n",
       "  <thead>\n",
       "    <tr style=\"text-align: right;\">\n",
       "      <th></th>\n",
       "      <th>(173, 100, 112, 194, 129, 104, 149, 180, 168, 150, 140, 193, 169, 134, 126, 175, 101, 109, 122, 121, 167, 118, 136, 189, 115, 148, 114, 162, 185, 165, 183, 182, 184, 166, 106, 161, 152, 164, 147, 190, 144, 160, 157, 181, 105, 197, 127, 171, 110, 192, 139, 116, 195, 146, 128, 156, 346, 321, 151, 387, 191, 199, 159, 198, 120, 108, 107, 196, 131, 187, 124, 153, 138, 111, 117, 141, 123, 172, 155, 178, 133, 188, 179, 186, 170, 135, 113, 174, 154, 137, 125, 102, 130, 119, 145, 143, 132, 158, 176, 142, ...)</th>\n",
       "      <th>(340, 300, 365, 332, 393, 375, 396, 294, 356, 319, 349, 309, 389, 385, 338, 177, 322, 363, 355, 394, 337, 368, 335, 397, 371, 386, 328, 379, 329, 327, 308, 399, 330, 286, 221, 275, 210, 278, 217, 247, 351, 320, 382, 369, 272, 218, 202, 307, 273, 303, 291, 288, 282, 266, 219, 244, 227, 239, 216, 240, 258, 200, 367, 312, 313, 302, 344, 83, 380, 301, 392, 339, 325, 361, 360, 373, 384, 310, 336, 366, 311, 374, 334, 306, 378, 348, 323, 342, 326, 305, 345, 353, 304, 370, 341, 391, 362, 343, 331, 398, ...)</th>\n",
       "    </tr>\n",
       "  </thead>\n",
       "  <tbody>\n",
       "    <tr>\n",
       "      <th>(173, 100, 112, 194, 129, 104, 149, 180, 168, 150, 140, 193, 169, 134, 126, 175, 101, 109, 122, 121, 167, 118, 136, 189, 115, 148, 114, 162, 185, 165, 183, 182, 184, 166, 106, 161, 152, 164, 147, 190, 144, 160, 157, 181, 105, 197, 127, 171, 110, 192, 139, 116, 195, 146, 128, 156, 346, 321, 151, 387, 191, 199, 159, 198, 120, 108, 107, 196, 131, 187, 124, 153, 138, 111, 117, 141, 123, 172, 155, 178, 133, 188, 179, 186, 170, 135, 113, 174, 154, 137, 125, 102, 130, 119, 145, 143, 132, 158, 176, 142, ...)</th>\n",
       "      <td>NaN</td>\n",
       "      <td>285792.606912</td>\n",
       "    </tr>\n",
       "    <tr>\n",
       "      <th>(340, 300, 365, 332, 393, 375, 396, 294, 356, 319, 349, 309, 389, 385, 338, 177, 322, 363, 355, 394, 337, 368, 335, 397, 371, 386, 328, 379, 329, 327, 308, 399, 330, 286, 221, 275, 210, 278, 217, 247, 351, 320, 382, 369, 272, 218, 202, 307, 273, 303, 291, 288, 282, 266, 219, 244, 227, 239, 216, 240, 258, 200, 367, 312, 313, 302, 344, 83, 380, 301, 392, 339, 325, 361, 360, 373, 384, 310, 336, 366, 311, 374, 334, 306, 378, 348, 323, 342, 326, 305, 345, 353, 304, 370, 341, 391, 362, 343, 331, 398, ...)</th>\n",
       "      <td>285792.606912</td>\n",
       "      <td>NaN</td>\n",
       "    </tr>\n",
       "  </tbody>\n",
       "</table>\n",
       "</div>"
      ],
      "text/plain": [
       "                                                    (173, 100, 112, 194, 129, 104, 149, 180, 168, 150, 140, 193, 169, 134, 126, 175, 101, 109, 122, 121, 167, 118, 136, 189, 115, 148, 114, 162, 185, 165, 183, 182, 184, 166, 106, 161, 152, 164, 147, 190, 144, 160, 157, 181, 105, 197, 127, 171, 110, 192, 139, 116, 195, 146, 128, 156, 346, 321, 151, 387, 191, 199, 159, 198, 120, 108, 107, 196, 131, 187, 124, 153, 138, 111, 117, 141, 123, 172, 155, 178, 133, 188, 179, 186, 170, 135, 113, 174, 154, 137, 125, 102, 130, 119, 145, 143, 132, 158, 176, 142, ...)  \\\n",
       "(173, 100, 112, 194, 129, 104, 149, 180, 168, 1...                                                NaN                                                                                                                                                                                                                                                                                                                                                                                                                                                                           \n",
       "(340, 300, 365, 332, 393, 375, 396, 294, 356, 3...                                      285792.606912                                                                                                                                                                                                                                                                                                                                                                                                                                                                           \n",
       "\n",
       "                                                    (340, 300, 365, 332, 393, 375, 396, 294, 356, 319, 349, 309, 389, 385, 338, 177, 322, 363, 355, 394, 337, 368, 335, 397, 371, 386, 328, 379, 329, 327, 308, 399, 330, 286, 221, 275, 210, 278, 217, 247, 351, 320, 382, 369, 272, 218, 202, 307, 273, 303, 291, 288, 282, 266, 219, 244, 227, 239, 216, 240, 258, 200, 367, 312, 313, 302, 344, 83, 380, 301, 392, 339, 325, 361, 360, 373, 384, 310, 336, 366, 311, 374, 334, 306, 378, 348, 323, 342, 326, 305, 345, 353, 304, 370, 341, 391, 362, 343, 331, 398, ...)  \n",
       "(173, 100, 112, 194, 129, 104, 149, 180, 168, 1...                                      285792.606912                                                                                                                                                                                                                                                                                                                                                                                                                                                                         \n",
       "(340, 300, 365, 332, 393, 375, 396, 294, 356, 3...                                                NaN                                                                                                                                                                                                                                                                                                                                                                                                                                                                         "
      ]
     },
     "execution_count": 41,
     "metadata": {},
     "output_type": "execute_result"
    }
   ],
   "source": [
    "df"
   ]
  },
  {
   "cell_type": "code",
   "execution_count": 42,
   "id": "32f75a0d",
   "metadata": {},
   "outputs": [],
   "source": [
    "data['id'] = pd.DataFrame([i for i in range(400)])"
   ]
  },
  {
   "cell_type": "code",
   "execution_count": 43,
   "id": "5e96560c",
   "metadata": {},
   "outputs": [],
   "source": [
    "l = df.columns.to_list()"
   ]
  },
  {
   "cell_type": "code",
   "execution_count": 44,
   "id": "fea10868",
   "metadata": {},
   "outputs": [],
   "source": [
    "data['label1'] = data.id.map(lambda x: 'r' if x in l[0] else '')"
   ]
  },
  {
   "cell_type": "code",
   "execution_count": 45,
   "id": "47d1fbb0",
   "metadata": {},
   "outputs": [],
   "source": [
    "data['label2'] = data.id.map(lambda x: 'b' if x in l[1] else '')"
   ]
  },
  {
   "cell_type": "code",
   "execution_count": 46,
   "id": "d1fb80a9",
   "metadata": {},
   "outputs": [],
   "source": [
    "data['label'] = data['label1'] + data['label2']"
   ]
  },
  {
   "cell_type": "markdown",
   "id": "7bc67f28",
   "metadata": {},
   "source": [
    "# almost the same as the minimum method the only difference is in one point"
   ]
  },
  {
   "cell_type": "code",
   "execution_count": 47,
   "id": "5a96b35f",
   "metadata": {},
   "outputs": [
    {
     "data": {
      "text/plain": [
       "<matplotlib.collections.PathCollection at 0x21706eaf340>"
      ]
     },
     "execution_count": 47,
     "metadata": {},
     "output_type": "execute_result"
    },
    {
     "data": {
      "image/png": "[encoded data removed]",
      "text/plain": [
       "<Figure size 432x288 with 1 Axes>"
      ]
     },
     "metadata": {
      "needs_background": "light"
     },
     "output_type": "display_data"
    }
   ],
   "source": [
    "plt.scatter(data['x1'], data['x2'], c = data['label'].to_list())"
   ]
  },
  {
   "cell_type": "markdown",
   "id": "b5931b96",
   "metadata": {},
   "source": [
    "# results: the minimum method is the best out of the three methods and then the average and then the maximum."
   ]
  },
  {
   "cell_type": "code",
   "execution_count": null,
   "id": "4032c839",
   "metadata": {},
   "outputs": [],
   "source": []
  }
 ],
 "metadata": {
  "kernelspec": {
   "display_name": "Python 3",
   "language": "python",
   "name": "python3"
  },
  "language_info": {
   "codemirror_mode": {
    "name": "ipython",
    "version": 3
   },
   "file_extension": ".py",
   "mimetype": "text/x-python",
   "name": "python",
   "nbconvert_exporter": "python",
   "pygments_lexer": "ipython3",
   "version": "3.8.8"
  }
 },
 "nbformat": 4,
 "nbformat_minor": 5
}
