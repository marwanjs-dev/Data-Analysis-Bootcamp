{
 "cells": [
  {
   "cell_type": "markdown",
   "metadata": {},
   "source": [
    "# JupyterDash\n",
    "https://medium.com/plotly/introducing-jupyterdash-811f1f57c02e\n",
    "\n",
    "\n",
    "The `jupyter-dash` package makes it easy to develop Plotly Dash apps from the Jupyter Notebook and JupyterLab.\n",
    "\n",
    "Just replace the standard `dash.Dash` class with the `jupyter_dash.JupyterDash` subclass.\n"
   ]
  },
  {
   "cell_type": "code",
   "execution_count": 5,
   "metadata": {},
   "outputs": [
    {
     "name": "stdout",
     "output_type": "stream",
     "text": [
      "Collecting jupyter-dash\n",
      "  Using cached jupyter_dash-0.4.0-py3-none-any.whl (20 kB)\n",
      "Collecting retrying\n",
      "  Using cached retrying-1.3.3.tar.gz (10 kB)\n",
      "Requirement already satisfied: ipykernel in c:\\users\\dell\\appdata\\local\\programs\\python\\python37-32\\lib\\site-packages (from jupyter-dash) (5.5.3)\n",
      "Requirement already satisfied: requests in c:\\users\\dell\\appdata\\local\\programs\\python\\python37-32\\lib\\site-packages (from jupyter-dash) (2.25.1)\n",
      "Collecting flask\n",
      "  Using cached Flask-2.0.0-py3-none-any.whl (93 kB)\n",
      "Collecting dash\n",
      "  Using cached dash-1.20.0.tar.gz (77 kB)\n",
      "Collecting ansi2html\n",
      "  Using cached ansi2html-1.6.0-py3-none-any.whl (14 kB)\n",
      "Requirement already satisfied: ipython in c:\\users\\dell\\appdata\\local\\programs\\python\\python37-32\\lib\\site-packages (from jupyter-dash) (7.23.0)\n",
      "Collecting flask-compress\n",
      "  Using cached Flask_Compress-1.9.0-py3-none-any.whl (7.3 kB)\n",
      "Collecting plotly\n",
      "  Using cached plotly-4.14.3-py2.py3-none-any.whl (13.2 MB)\n",
      "Collecting dash_renderer==1.9.1\n",
      "  Using cached dash_renderer-1.9.1.tar.gz (1.0 MB)\n",
      "Collecting dash-core-components==1.16.0\n",
      "  Using cached dash_core_components-1.16.0.tar.gz (3.5 MB)\n",
      "Collecting dash-html-components==1.1.3\n",
      "  Using cached dash_html_components-1.1.3.tar.gz (82 kB)\n",
      "Collecting dash-table==4.11.3\n",
      "  Using cached dash_table-4.11.3.tar.gz (1.8 MB)\n",
      "Collecting future\n",
      "  Using cached future-0.18.2.tar.gz (829 kB)\n",
      "Collecting Jinja2>=3.0\n",
      "  Using cached Jinja2-3.0.0-py3-none-any.whl (133 kB)\n",
      "Collecting itsdangerous>=2.0\n",
      "  Using cached itsdangerous-2.0.0-py3-none-any.whl (18 kB)\n",
      "Collecting click>=7.1.2\n",
      "  Using cached click-8.0.0-py3-none-any.whl (96 kB)\n",
      "Collecting Werkzeug>=2.0\n",
      "  Using cached Werkzeug-2.0.0-py3-none-any.whl (288 kB)\n",
      "Requirement already satisfied: colorama in c:\\users\\dell\\appdata\\local\\programs\\python\\python37-32\\lib\\site-packages (from click>=7.1.2->flask->jupyter-dash) (0.4.4)\n",
      "Requirement already satisfied: MarkupSafe>=2.0.0rc2 in c:\\users\\dell\\appdata\\local\\programs\\python\\python37-32\\lib\\site-packages (from Jinja2>=3.0->flask->jupyter-dash) (2.0.0)\n",
      "Collecting brotli\n",
      "  Using cached Brotli-1.0.9-cp37-cp37m-win32.whl (345 kB)\n",
      "Requirement already satisfied: jupyter-client in c:\\users\\dell\\appdata\\local\\programs\\python\\python37-32\\lib\\site-packages (from ipykernel->jupyter-dash) (6.1.12)\n",
      "Requirement already satisfied: tornado>=4.2 in c:\\users\\dell\\appdata\\local\\programs\\python\\python37-32\\lib\\site-packages (from ipykernel->jupyter-dash) (6.1)\n",
      "Requirement already satisfied: traitlets>=4.1.0 in c:\\users\\dell\\appdata\\local\\programs\\python\\python37-32\\lib\\site-packages (from ipykernel->jupyter-dash) (5.0.5)\n",
      "Requirement already satisfied: decorator in c:\\users\\dell\\appdata\\local\\programs\\python\\python37-32\\lib\\site-packages (from ipython->jupyter-dash) (5.0.7)\n",
      "Requirement already satisfied: backcall in c:\\users\\dell\\appdata\\local\\programs\\python\\python37-32\\lib\\site-packages (from ipython->jupyter-dash) (0.2.0)\n",
      "Requirement already satisfied: prompt-toolkit!=3.0.0,!=3.0.1,<3.1.0,>=2.0.0 in c:\\users\\dell\\appdata\\local\\programs\\python\\python37-32\\lib\\site-packages (from ipython->jupyter-dash) (3.0.18)\n",
      "Requirement already satisfied: pickleshare in c:\\users\\dell\\appdata\\local\\programs\\python\\python37-32\\lib\\site-packages (from ipython->jupyter-dash) (0.7.5)\n",
      "Requirement already satisfied: setuptools>=18.5 in c:\\users\\dell\\appdata\\local\\programs\\python\\python37-32\\lib\\site-packages (from ipython->jupyter-dash) (40.8.0)\n",
      "Requirement already satisfied: pygments in c:\\users\\dell\\appdata\\local\\programs\\python\\python37-32\\lib\\site-packages (from ipython->jupyter-dash) (2.9.0)\n",
      "Requirement already satisfied: matplotlib-inline in c:\\users\\dell\\appdata\\local\\programs\\python\\python37-32\\lib\\site-packages (from ipython->jupyter-dash) (0.1.2)\n",
      "Requirement already satisfied: jedi>=0.16 in c:\\users\\dell\\appdata\\local\\programs\\python\\python37-32\\lib\\site-packages (from ipython->jupyter-dash) (0.18.0)\n",
      "Requirement already satisfied: parso<0.9.0,>=0.8.0 in c:\\users\\dell\\appdata\\local\\programs\\python\\python37-32\\lib\\site-packages (from jedi>=0.16->ipython->jupyter-dash) (0.8.2)\n",
      "Requirement already satisfied: wcwidth in c:\\users\\dell\\appdata\\local\\programs\\python\\python37-32\\lib\\site-packages (from prompt-toolkit!=3.0.0,!=3.0.1,<3.1.0,>=2.0.0->ipython->jupyter-dash) (0.2.5)\n",
      "Requirement already satisfied: ipython-genutils in c:\\users\\dell\\appdata\\local\\programs\\python\\python37-32\\lib\\site-packages (from traitlets>=4.1.0->ipykernel->jupyter-dash) (0.2.0)\n",
      "Requirement already satisfied: pyzmq>=13 in c:\\users\\dell\\appdata\\local\\programs\\python\\python37-32\\lib\\site-packages (from jupyter-client->ipykernel->jupyter-dash) (22.0.3)\n",
      "Requirement already satisfied: jupyter-core>=4.6.0 in c:\\users\\dell\\appdata\\local\\programs\\python\\python37-32\\lib\\site-packages (from jupyter-client->ipykernel->jupyter-dash) (4.7.1)\n",
      "Requirement already satisfied: python-dateutil>=2.1 in c:\\users\\dell\\appdata\\local\\programs\\python\\python37-32\\lib\\site-packages (from jupyter-client->ipykernel->jupyter-dash) (2.2)\n",
      "Requirement already satisfied: pywin32>=1.0 in c:\\users\\dell\\appdata\\local\\programs\\python\\python37-32\\lib\\site-packages (from jupyter-core>=4.6.0->jupyter-client->ipykernel->jupyter-dash) (300)\n",
      "Requirement already satisfied: six in c:\\users\\dell\\appdata\\local\\programs\\python\\python37-32\\lib\\site-packages (from python-dateutil>=2.1->jupyter-client->ipykernel->jupyter-dash) (1.15.0)\n",
      "Requirement already satisfied: idna<3,>=2.5 in c:\\users\\dell\\appdata\\local\\programs\\python\\python37-32\\lib\\site-packages (from requests->jupyter-dash) (2.10)\n",
      "Requirement already satisfied: urllib3<1.27,>=1.21.1 in c:\\users\\dell\\appdata\\local\\programs\\python\\python37-32\\lib\\site-packages (from requests->jupyter-dash) (1.26.4)\n",
      "Requirement already satisfied: certifi>=2017.4.17 in c:\\users\\dell\\appdata\\local\\programs\\python\\python37-32\\lib\\site-packages (from requests->jupyter-dash) (2020.12.5)\n",
      "Requirement already satisfied: chardet<5,>=3.0.2 in c:\\users\\dell\\appdata\\local\\programs\\python\\python37-32\\lib\\site-packages (from requests->jupyter-dash) (4.0.0)\n",
      "Using legacy 'setup.py install' for dash, since package 'wheel' is not installed.\n",
      "Using legacy 'setup.py install' for dash-core-components, since package 'wheel' is not installed.\n",
      "Using legacy 'setup.py install' for dash-html-components, since package 'wheel' is not installed.\n",
      "Using legacy 'setup.py install' for dash-renderer, since package 'wheel' is not installed.\n",
      "Using legacy 'setup.py install' for dash-table, since package 'wheel' is not installed.\n",
      "Using legacy 'setup.py install' for future, since package 'wheel' is not installed.\n",
      "Using legacy 'setup.py install' for retrying, since package 'wheel' is not installed.\n",
      "Installing collected packages: Werkzeug, Jinja2, itsdangerous, click, retrying, flask, brotli, plotly, future, flask-compress, dash-table, dash-renderer, dash-html-components, dash-core-components, dash, ansi2html, jupyter-dash\n",
      "  Attempting uninstall: Werkzeug\n",
      "    Found existing installation: Werkzeug 1.0.1\n",
      "    Uninstalling Werkzeug-1.0.1:\n",
      "      Successfully uninstalled Werkzeug-1.0.1\n",
      "  Attempting uninstall: Jinja2\n",
      "    Found existing installation: Jinja2 2.11.2\n",
      "    Uninstalling Jinja2-2.11.2:\n",
      "      Successfully uninstalled Jinja2-2.11.2\n",
      "  Attempting uninstall: itsdangerous\n",
      "    Found existing installation: itsdangerous 1.1.0\n",
      "    Uninstalling itsdangerous-1.1.0:\n",
      "      Successfully uninstalled itsdangerous-1.1.0\n",
      "    Running setup.py install for retrying: started\n",
      "    Running setup.py install for retrying: finished with status 'done'\n",
      "    Running setup.py install for future: started\n",
      "    Running setup.py install for future: finished with status 'done'\n",
      "    Running setup.py install for dash-table: started\n",
      "    Running setup.py install for dash-table: finished with status 'done'\n",
      "    Running setup.py install for dash-renderer: started\n",
      "    Running setup.py install for dash-renderer: finished with status 'done'\n",
      "    Running setup.py install for dash-html-components: started\n",
      "    Running setup.py install for dash-html-components: finished with status 'done'\n",
      "    Running setup.py install for dash-core-components: started\n",
      "    Running setup.py install for dash-core-components: finished with status 'done'\n",
      "    Running setup.py install for dash: started\n",
      "    Running setup.py install for dash: finished with status 'done'\n",
      "Successfully installed Jinja2-3.0.0 Werkzeug-2.0.0 ansi2html-1.6.0 brotli-1.0.9 click-8.0.0 dash-1.20.0 dash-core-components-1.16.0 dash-html-components-1.1.3 dash-renderer-1.9.1 dash-table-4.11.3 flask-2.0.0 flask-compress-1.9.0 future-0.18.2 itsdangerous-2.0.0 jupyter-dash-0.4.0 plotly-4.14.3 retrying-1.3.3\n"
     ]
    }
   ],
   "source": [
    "################## installation #########################\n",
    "\n",
    "!pip install jupyter-dash"
   ]
  },
  {
   "cell_type": "code",
   "execution_count": 1,
   "metadata": {},
   "outputs": [],
   "source": [
    "import dash\n",
    "import dash_core_components as dcc\n",
    "import dash_html_components as html\n",
    "from jupyter_dash import JupyterDash\n",
    "from dash.dependencies import Input, Output\n",
    "\n",
    "\n",
    "import pandas as pd\n",
    "\n",
    "import plotly.express as px\n",
    "import plotly.graph_objects as go\n",
    "import plotly as py\n",
    "from plotly.subplots import make_subplots\n",
    "\n",
    "import requests\n",
    "import json"
   ]
  },
  {
   "cell_type": "markdown",
   "metadata": {},
   "source": [
    "Load and preprocess data"
   ]
  },
  {
   "cell_type": "code",
   "execution_count": 2,
   "metadata": {},
   "outputs": [],
   "source": [
    "file_loc = \"https://raw.githubusercontent.com/bhattbhavesh91/durbin-watson-test-python/master/durbin_data.csv\""
   ]
  },
  {
   "cell_type": "code",
   "execution_count": 3,
   "metadata": {},
   "outputs": [],
   "source": [
    "df1 = pd.read_csv(file_loc)"
   ]
  },
  {
   "cell_type": "code",
   "execution_count": 4,
   "metadata": {},
   "outputs": [
    {
     "data": {
      "text/html": [
       "<div>\n",
       "<style scoped>\n",
       "    .dataframe tbody tr th:only-of-type {\n",
       "        vertical-align: middle;\n",
       "    }\n",
       "\n",
       "    .dataframe tbody tr th {\n",
       "        vertical-align: top;\n",
       "    }\n",
       "\n",
       "    .dataframe thead th {\n",
       "        text-align: right;\n",
       "    }\n",
       "</style>\n",
       "<table border=\"1\" class=\"dataframe\">\n",
       "  <thead>\n",
       "    <tr style=\"text-align: right;\">\n",
       "      <th></th>\n",
       "      <th>X1</th>\n",
       "      <th>X2</th>\n",
       "      <th>X3</th>\n",
       "      <th>Y</th>\n",
       "    </tr>\n",
       "  </thead>\n",
       "  <tbody>\n",
       "    <tr>\n",
       "      <th>0</th>\n",
       "      <td>230.1</td>\n",
       "      <td>37.8</td>\n",
       "      <td>69.2</td>\n",
       "      <td>22.1</td>\n",
       "    </tr>\n",
       "    <tr>\n",
       "      <th>1</th>\n",
       "      <td>44.5</td>\n",
       "      <td>39.3</td>\n",
       "      <td>45.1</td>\n",
       "      <td>10.4</td>\n",
       "    </tr>\n",
       "    <tr>\n",
       "      <th>2</th>\n",
       "      <td>17.2</td>\n",
       "      <td>45.9</td>\n",
       "      <td>69.3</td>\n",
       "      <td>9.3</td>\n",
       "    </tr>\n",
       "    <tr>\n",
       "      <th>3</th>\n",
       "      <td>151.5</td>\n",
       "      <td>41.3</td>\n",
       "      <td>58.5</td>\n",
       "      <td>18.5</td>\n",
       "    </tr>\n",
       "    <tr>\n",
       "      <th>4</th>\n",
       "      <td>180.8</td>\n",
       "      <td>10.8</td>\n",
       "      <td>58.4</td>\n",
       "      <td>12.9</td>\n",
       "    </tr>\n",
       "  </tbody>\n",
       "</table>\n",
       "</div>"
      ],
      "text/plain": [
       "      X1    X2    X3     Y\n",
       "0  230.1  37.8  69.2  22.1\n",
       "1   44.5  39.3  45.1  10.4\n",
       "2   17.2  45.9  69.3   9.3\n",
       "3  151.5  41.3  58.5  18.5\n",
       "4  180.8  10.8  58.4  12.9"
      ]
     },
     "execution_count": 4,
     "metadata": {},
     "output_type": "execute_result"
    }
   ],
   "source": [
    "df1.head()"
   ]
  },
  {
   "cell_type": "code",
   "execution_count": 5,
   "metadata": {},
   "outputs": [
    {
     "data": {
      "text/plain": [
       "(200, 4)"
      ]
     },
     "execution_count": 5,
     "metadata": {},
     "output_type": "execute_result"
    }
   ],
   "source": [
    "df1.shape"
   ]
  },
  {
   "cell_type": "markdown",
   "metadata": {},
   "source": [
    "# Construct the app layout and callbacks"
   ]
  },
  {
   "cell_type": "markdown",
   "metadata": {},
   "source": [
    "## layout\n",
    "**the layout consists of (header, graph, dropdown list)**\n",
    "\n",
    "https://dash.plotly.com/layout\n",
    "\n",
    "https://dash.plotly.com/dash-core-components/graph\n",
    "    \n",
    "https://dash.plotly.com/dash-core-components/dropdown"
   ]
  },
  {
   "cell_type": "code",
   "execution_count": 6,
   "metadata": {},
   "outputs": [
    {
     "data": {
      "text/html": [
       "\n",
       "        <iframe\n",
       "            width=\"100%\"\n",
       "            height=\"650\"\n",
       "            src=\"http://127.0.0.1:8084/\"\n",
       "            frameborder=\"0\"\n",
       "            allowfullscreen\n",
       "        ></iframe>\n",
       "        "
      ],
      "text/plain": [
       "<IPython.lib.display.IFrame at 0x5d04e70>"
      ]
     },
     "metadata": {},
     "output_type": "display_data"
    }
   ],
   "source": [
    "# Build App\n",
    "app1 = JupyterDash(__name__)\n",
    "\n",
    "app1.layout = html.Div([\n",
    "    \n",
    "    html.H1(\"JupyterDash Demo\"),\n",
    "    \n",
    "    dcc.Graph(id='graph'),\n",
    "    \n",
    "    html.Label([\n",
    "        \n",
    "            \"Input Variable\",\n",
    "        \n",
    "             dcc.Dropdown(\n",
    "                    id='column-dropdown', \n",
    "\n",
    "                     ## list of values\n",
    "                    options=[{'label': c, 'value': c} for c in df1.columns],\n",
    "                                  \n",
    "                     ## initial value\n",
    "                    value = df1.columns[0]\n",
    "                     \n",
    "            )\n",
    "    ]),\n",
    "])\n",
    "\n",
    "app1.run_server(mode='inline', port = 8084 )"
   ]
  },
  {
   "cell_type": "markdown",
   "metadata": {},
   "source": [
    "## callbacks \n",
    "\n",
    "https://dash.plotly.com/basic-callbacks"
   ]
  },
  {
   "cell_type": "markdown",
   "metadata": {},
   "source": [
    "*decorators tutorial https://www.youtube.com/watch?v=FsAPt_9Bf3U*"
   ]
  },
  {
   "cell_type": "code",
   "execution_count": 7,
   "metadata": {},
   "outputs": [
    {
     "data": {
      "text/html": [
       "\n",
       "        <iframe\n",
       "            width=\"100%\"\n",
       "            height=\"650\"\n",
       "            src=\"http://127.0.0.1:8083/\"\n",
       "            frameborder=\"0\"\n",
       "            allowfullscreen\n",
       "        ></iframe>\n",
       "        "
      ],
      "text/plain": [
       "<IPython.lib.display.IFrame at 0x115738d0>"
      ]
     },
     "metadata": {},
     "output_type": "display_data"
    }
   ],
   "source": [
    "# Define callback to update graph\n",
    "\n",
    "@app1.callback(\n",
    "    Output('graph', 'figure'),\n",
    "    [Input(\"column-dropdown\", \"value\")] )\n",
    "def update_figure(column):\n",
    "    \n",
    "    return px.scatter(\n",
    "            df1, \n",
    "            x=column, \n",
    "            y=\"Y\",\n",
    "            title=\"Scatter Plot\"\n",
    "    )\n",
    "# Run app and display result inline in the notebook\n",
    "app1.run_server(mode='inline', port = 8083)"
   ]
  },
  {
   "cell_type": "markdown",
   "metadata": {},
   "source": [
    "# lab tasks"
   ]
  },
  {
   "cell_type": "markdown",
   "metadata": {},
   "source": [
    "**we are calling an api to get the updated data of covid19**"
   ]
  },
  {
   "cell_type": "code",
   "execution_count": 8,
   "metadata": {},
   "outputs": [],
   "source": [
    "url_g = \"https://covid19.mathdro.id/api\"\n",
    "response_g = requests.get(url_g)\n",
    "data_g = response_g.text\n",
    "main_parsed_g = json.loads(data_g)"
   ]
  },
  {
   "cell_type": "code",
   "execution_count": 9,
   "metadata": {},
   "outputs": [
    {
     "data": {
      "text/plain": [
       "{'confirmed': {'value': 169134683,\n",
       "  'detail': 'https://covid19.mathdro.id/api/confirmed'},\n",
       " 'recovered': {'value': 106238920,\n",
       "  'detail': 'https://covid19.mathdro.id/api/recovered'},\n",
       " 'deaths': {'value': 3514545,\n",
       "  'detail': 'https://covid19.mathdro.id/api/deaths'},\n",
       " 'dailySummary': 'https://covid19.mathdro.id/api/daily',\n",
       " 'dailyTimeSeries': {'pattern': 'https://covid19.mathdro.id/api/daily/[dateString]',\n",
       "  'example': 'https://covid19.mathdro.id/api/daily/2-14-2020'},\n",
       " 'image': 'https://covid19.mathdro.id/api/og',\n",
       " 'source': 'https://github.com/mathdroid/covid19',\n",
       " 'countries': 'https://covid19.mathdro.id/api/countries',\n",
       " 'countryDetail': {'pattern': 'https://covid19.mathdro.id/api/countries/[country]',\n",
       "  'example': 'https://covid19.mathdro.id/api/countries/USA'},\n",
       " 'lastUpdate': '2021-05-28T19:21:11.000Z'}"
      ]
     },
     "execution_count": 9,
     "metadata": {},
     "output_type": "execute_result"
    }
   ],
   "source": [
    "main_parsed_g "
   ]
  },
  {
   "cell_type": "markdown",
   "metadata": {},
   "source": [
    "# Task 1\n",
    "\n",
    "**plot a pie chart of [death, recovered, confirmed] values in the global data**\n"
   ]
  },
  {
   "cell_type": "code",
   "execution_count": 17,
   "metadata": {},
   "outputs": [],
   "source": [
    "## get the 3 values from the dictionary main_parsed_g\n",
    "\n",
    "# your code here\n",
    "confirmed_g = main_parsed_g['confirmed']['value']\n",
    "recovered_g = main_parsed_g['recovered']['value']\n",
    "deaths_g = main_parsed_g['deaths']['value']\n",
    "\n",
    "\n",
    "\n",
    "## create a plotly pie chart #### use: px.pie ####\n",
    "\n",
    "# your code here\n",
    "fig1 = px.pie(\n",
    "                values = [confirmed_g, recovered_g, deaths_g],\n",
    "                title = 'covid infection around the world',\n",
    "                names = ['confirmed', 'recovered', 'death'],\n",
    "                color = ['confirmed', 'recovered', 'death'],\n",
    "                color_discrete_map={\n",
    "                    'confirmed' : 'red',\n",
    "                    'recovered' : 'springgreen',\n",
    "                    'deaths' : 'black'\n",
    "                }\n",
    ")\n",
    "\n",
    "\n",
    "\n"
   ]
  },
  {
   "cell_type": "markdown",
   "metadata": {},
   "source": [
    "**create the app layout with [a header, a graph to plot your pie chart]**"
   ]
  },
  {
   "cell_type": "code",
   "execution_count": 18,
   "metadata": {},
   "outputs": [
    {
     "name": "stderr",
     "output_type": "stream",
     "text": [
      "c:\\users\\dell\\appdata\\local\\programs\\python\\python37-32\\lib\\site-packages\\jupyter_dash\\jupyter_app.py:139: UserWarning:\n",
      "\n",
      "The 'environ['werkzeug.server.shutdown']' function is deprecated and will be removed in Werkzeug 2.1.\n",
      "\n"
     ]
    },
    {
     "data": {
      "text/html": [
       "\n",
       "        <iframe\n",
       "            width=\"100%\"\n",
       "            height=\"650\"\n",
       "            src=\"http://127.0.0.1:8099/\"\n",
       "            frameborder=\"0\"\n",
       "            allowfullscreen\n",
       "        ></iframe>\n",
       "        "
      ],
      "text/plain": [
       "<IPython.lib.display.IFrame at 0x1164dab0>"
      ]
     },
     "metadata": {},
     "output_type": "display_data"
    }
   ],
   "source": [
    "external_stylesheets = ['https://codepen.io/chriddyp/pen/bWLwgP.css']\n",
    "\n",
    "app2 = JupyterDash(__name__, external_stylesheets=external_stylesheets)\n",
    "server = app2.server\n",
    "\n",
    "\n",
    "colors = {\n",
    "    'background': '#111111',\n",
    "    'text': '#2b580c'\n",
    "}\n",
    "\n",
    "app2.layout = html.Div(children=[\n",
    "    \n",
    "    ## your code here\n",
    "    html.H1(\n",
    "            children = 'Covid measurements',\n",
    "            style={\n",
    "                'textAlign' : 'center',\n",
    "                'color' : colors['text']\n",
    "            }\n",
    "    ),\n",
    "    #header\n",
    "\n",
    "    \n",
    "    \n",
    "\n",
    "    #graph\n",
    "    dcc.Graph(\n",
    "        id = 'corona_world',\n",
    "        figure = fig1\n",
    "    )\n",
    "    \n",
    "    \n",
    "    \n",
    "])\n",
    "\n",
    "app2.run_server(mode='inline' , port = 8099)"
   ]
  },
  {
   "cell_type": "markdown",
   "metadata": {},
   "source": [
    "# Task 2\n",
    "\n",
    "**plot a bar chart of [death, recovered, confirmed] values in Egypt**\n"
   ]
  },
  {
   "cell_type": "code",
   "execution_count": 19,
   "metadata": {},
   "outputs": [],
   "source": [
    "# =============== In Egypt =================\n",
    "\n",
    "url = \"https://covid19.mathdro.id/api/countries/EG\"\n",
    "\n",
    "## call the api and load the data\n",
    "\n",
    "response = requests.get(url)\n",
    "data = response.text\n",
    "main_parsed = json.loads(data)\n",
    "\n",
    "\n",
    "\n",
    "\n",
    "## get the 3 values from the dictionary main_parsed_g\n",
    "\n",
    "confirmed = main_parsed['confirmed']['value']\n",
    "recovered = main_parsed['recovered']['value']\n",
    "deaths = main_parsed['deaths']['value']\n",
    "\n",
    "\n",
    "\n",
    "## create a plotly bar chart #### use: px.bar ####\n",
    "\n",
    "fig2 = px.bar(\n",
    "            title = 'infection in Egypt',\n",
    "            x = ['confirmed', 'recovered', 'deaths'],\n",
    "            y = [confirmed, recovered, deaths]\n",
    ")\n",
    "\n",
    "\n",
    "\n"
   ]
  },
  {
   "cell_type": "markdown",
   "metadata": {},
   "source": [
    "**update the app layout to add the seconde graph**"
   ]
  },
  {
   "cell_type": "code",
   "execution_count": 20,
   "metadata": {},
   "outputs": [
    {
     "data": {
      "text/html": [
       "\n",
       "        <iframe\n",
       "            width=\"100%\"\n",
       "            height=\"650\"\n",
       "            src=\"http://127.0.0.1:8092/\"\n",
       "            frameborder=\"0\"\n",
       "            allowfullscreen\n",
       "        ></iframe>\n",
       "        "
      ],
      "text/plain": [
       "<IPython.lib.display.IFrame at 0x115dbfb0>"
      ]
     },
     "metadata": {},
     "output_type": "display_data"
    }
   ],
   "source": [
    "app2.layout = html.Div(children=[\n",
    "    \n",
    "    ## your code here \n",
    "    \n",
    "    # header\n",
    "    html.H1(\n",
    "            children = 'Covid measurements',\n",
    "            style={\n",
    "                'textAlign' : 'center',\n",
    "                'color' : colors['text']\n",
    "            }\n",
    "    ),\n",
    "    \n",
    "    \n",
    "    \n",
    "    # graph 1\n",
    "    dcc.Graph(\n",
    "        id = 'corona_world',\n",
    "        figure = fig1\n",
    "    ),\n",
    "    \n",
    "    \n",
    "    \n",
    "    # graph 2\n",
    "    dcc.Graph(\n",
    "        id='corona_egypt',\n",
    "        figure = fig2\n",
    "    )\n",
    "    \n",
    "    \n",
    "])\n",
    "\n",
    "app2.run_server(mode='inline' , port = 8092, debug=False)"
   ]
  },
  {
   "cell_type": "markdown",
   "metadata": {},
   "source": [
    "# Task 3\n",
    "\n",
    "**create a table of the top countries with confirmed citizens**"
   ]
  },
  {
   "cell_type": "code",
   "execution_count": 21,
   "metadata": {},
   "outputs": [],
   "source": [
    "# ========= Table of top countries ============\n",
    "url_t = \"https://covid19.mathdro.id/api/recovered\"\n",
    "\n",
    "## call the api and load the data\n",
    "\n",
    "response_t = requests.get(url_t)\n",
    "data_t = response_t.text\n",
    "main_parsed_t = json.loads(data_t)\n",
    "\n",
    "\n",
    "\n",
    "\n",
    "'''\n",
    "get two lists to be passed later to the table, \n",
    "one for the countries sorted by the number of confirmed citizend in a descending order\n",
    "the second for the number of the confirmed citizens\n",
    " \n",
    "'''\n",
    "countries = []\n",
    "confirmed_citizens = []\n",
    "\n",
    "Sorted_country = sorted(main_parsed_t, key = lambda k: k['confirmed'], reverse = True)\n",
    "\n",
    "## your code here\n",
    "for Dic in Sorted_country:\n",
    "    countries.append((Dic['countryRegion'], Dic['provinceState']))\n",
    "    confirmed_citizens.append((Dic['confirmed']))\n",
    "\n",
    "\n"
   ]
  },
  {
   "cell_type": "code",
   "execution_count": 22,
   "metadata": {},
   "outputs": [],
   "source": [
    "'''\n",
    "create a table and pass the countries list as the first column ,\n",
    "\n",
    "and the list of the number of confirmed cititzens as the second column\n",
    "\n",
    "hint: use go\n",
    "\n",
    "'''\n",
    "\n",
    "## your code here\n",
    "fig3 = go.Figure(data=[go.Table(\n",
    "    header = dict(\n",
    "        values = ['country', 'number of confirmed'],\n",
    "            \n",
    "        line_color = 'seagreen',\n",
    "        fill_color = '#61d4b3',\n",
    "        align = 'right'\n",
    "    ),\n",
    "    cells = dict(\n",
    "        values = [countries , confirmed_citizens],\n",
    "        \n",
    "        line_color = 'darkslategray',\n",
    "        fill_color = 'white',\n",
    "        align = 'right'\n",
    "    )\n",
    ")])\n",
    "\n",
    "\n",
    "\n",
    "\n",
    "\n",
    "\n"
   ]
  },
  {
   "cell_type": "markdown",
   "metadata": {},
   "source": [
    "**update the app layout to add the third graph**"
   ]
  },
  {
   "cell_type": "code",
   "execution_count": 23,
   "metadata": {},
   "outputs": [
    {
     "data": {
      "text/html": [
       "\n",
       "        <iframe\n",
       "            width=\"100%\"\n",
       "            height=\"650\"\n",
       "            src=\"http://127.0.0.1:8095/\"\n",
       "            frameborder=\"0\"\n",
       "            allowfullscreen\n",
       "        ></iframe>\n",
       "        "
      ],
      "text/plain": [
       "<IPython.lib.display.IFrame at 0x116f4f30>"
      ]
     },
     "metadata": {},
     "output_type": "display_data"
    }
   ],
   "source": [
    "# ========= Plotting as Dash =============================\n",
    "\n",
    "app2.layout = html.Div(children=[\n",
    "    \n",
    "    ## your code here\n",
    "    \n",
    "    html.H1(\n",
    "            children = 'Covid measurements',\n",
    "            style={\n",
    "                'textAlign' : 'center',\n",
    "                'color' : colors['text']\n",
    "            }\n",
    "    ),\n",
    "    \n",
    "    \n",
    "    \n",
    "    # graph 1\n",
    "    dcc.Graph(\n",
    "        id = 'corona_world',\n",
    "        figure = fig1\n",
    "    ),\n",
    "    \n",
    "    \n",
    "    \n",
    "    # graph 2\n",
    "    dcc.Graph(\n",
    "        id='corona_egypt',\n",
    "        figure = fig2\n",
    "    ),\n",
    "    # graph 3\n",
    "    \n",
    "    dcc.Graph(\n",
    "        id = 'corona_top_countries',\n",
    "        figure = fig3\n",
    "    )\n",
    "    \n",
    "    \n",
    "])\n",
    "\n",
    "app2.run_server(mode='inline' , port = 8095, debug=False)"
   ]
  },
  {
   "cell_type": "code",
   "execution_count": null,
   "metadata": {},
   "outputs": [],
   "source": []
  }
 ],
 "metadata": {
  "jupytext": {
   "formats": "ipynb,py:percent"
  },
  "kernelspec": {
   "display_name": "Python 3",
   "language": "python",
   "name": "python3"
  },
  "language_info": {
   "codemirror_mode": {
    "name": "ipython",
    "version": 3
   },
   "file_extension": ".py",
   "mimetype": "text/x-python",
   "name": "python",
   "nbconvert_exporter": "python",
   "pygments_lexer": "ipython3",
   "version": "3.7.4"
  }
 },
 "nbformat": 4,
 "nbformat_minor": 4
}
