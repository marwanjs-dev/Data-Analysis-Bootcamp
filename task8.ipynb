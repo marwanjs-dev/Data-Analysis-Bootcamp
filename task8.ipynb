{
 "cells": [
  {
   "cell_type": "code",
   "execution_count": 222,
   "id": "899f04d8",
   "metadata": {},
   "outputs": [],
   "source": [
    "import pandas as pd\n",
    "import numpy as np\n",
    "import matplotlib.pyplot as plt"
   ]
  },
  {
   "cell_type": "code",
   "execution_count": 223,
   "id": "ba706dc6",
   "metadata": {},
   "outputs": [],
   "source": [
    "data = {'Temp':  [20, 25, 30, 35, 40, 45, 50, 55, 60, 65],\n",
    "        'Length': [0.5, 1.8, 5, 6, 6.2, 6.5, 7.8, 9.4, 9.8, 10.9]\n",
    "        }"
   ]
  },
  {
   "cell_type": "code",
   "execution_count": 224,
   "id": "3e534ce5",
   "metadata": {},
   "outputs": [
    {
     "data": {
      "text/html": [
       "<div>\n",
       "<style scoped>\n",
       "    .dataframe tbody tr th:only-of-type {\n",
       "        vertical-align: middle;\n",
       "    }\n",
       "\n",
       "    .dataframe tbody tr th {\n",
       "        vertical-align: top;\n",
       "    }\n",
       "\n",
       "    .dataframe thead th {\n",
       "        text-align: right;\n",
       "    }\n",
       "</style>\n",
       "<table border=\"1\" class=\"dataframe\">\n",
       "  <thead>\n",
       "    <tr style=\"text-align: right;\">\n",
       "      <th></th>\n",
       "      <th>Temp</th>\n",
       "      <th>Length</th>\n",
       "    </tr>\n",
       "  </thead>\n",
       "  <tbody>\n",
       "    <tr>\n",
       "      <th>0</th>\n",
       "      <td>20</td>\n",
       "      <td>0.5</td>\n",
       "    </tr>\n",
       "    <tr>\n",
       "      <th>1</th>\n",
       "      <td>25</td>\n",
       "      <td>1.8</td>\n",
       "    </tr>\n",
       "    <tr>\n",
       "      <th>2</th>\n",
       "      <td>30</td>\n",
       "      <td>5.0</td>\n",
       "    </tr>\n",
       "    <tr>\n",
       "      <th>3</th>\n",
       "      <td>35</td>\n",
       "      <td>6.0</td>\n",
       "    </tr>\n",
       "    <tr>\n",
       "      <th>4</th>\n",
       "      <td>40</td>\n",
       "      <td>6.2</td>\n",
       "    </tr>\n",
       "    <tr>\n",
       "      <th>5</th>\n",
       "      <td>45</td>\n",
       "      <td>6.5</td>\n",
       "    </tr>\n",
       "    <tr>\n",
       "      <th>6</th>\n",
       "      <td>50</td>\n",
       "      <td>7.8</td>\n",
       "    </tr>\n",
       "    <tr>\n",
       "      <th>7</th>\n",
       "      <td>55</td>\n",
       "      <td>9.4</td>\n",
       "    </tr>\n",
       "    <tr>\n",
       "      <th>8</th>\n",
       "      <td>60</td>\n",
       "      <td>9.8</td>\n",
       "    </tr>\n",
       "    <tr>\n",
       "      <th>9</th>\n",
       "      <td>65</td>\n",
       "      <td>10.9</td>\n",
       "    </tr>\n",
       "  </tbody>\n",
       "</table>\n",
       "</div>"
      ],
      "text/plain": [
       "   Temp  Length\n",
       "0    20     0.5\n",
       "1    25     1.8\n",
       "2    30     5.0\n",
       "3    35     6.0\n",
       "4    40     6.2\n",
       "5    45     6.5\n",
       "6    50     7.8\n",
       "7    55     9.4\n",
       "8    60     9.8\n",
       "9    65    10.9"
      ]
     },
     "execution_count": 224,
     "metadata": {},
     "output_type": "execute_result"
    }
   ],
   "source": [
    "pd.DataFrame(data)"
   ]
  },
  {
   "cell_type": "code",
   "execution_count": 225,
   "id": "36677afb",
   "metadata": {},
   "outputs": [],
   "source": [
    "X = np.array(data['Temp']).reshape(-1,1)\n",
    "Y = np.array(data['Length']).reshape(-1,1)"
   ]
  },
  {
   "cell_type": "code",
   "execution_count": 226,
   "id": "08503418",
   "metadata": {},
   "outputs": [
    {
     "data": {
      "text/plain": [
       "array([[ 0.5],\n",
       "       [ 1.8],\n",
       "       [ 5. ],\n",
       "       [ 6. ],\n",
       "       [ 6.2],\n",
       "       [ 6.5],\n",
       "       [ 7.8],\n",
       "       [ 9.4],\n",
       "       [ 9.8],\n",
       "       [10.9]])"
      ]
     },
     "execution_count": 226,
     "metadata": {},
     "output_type": "execute_result"
    }
   ],
   "source": [
    "y"
   ]
  },
  {
   "cell_type": "code",
   "execution_count": 227,
   "id": "74048732",
   "metadata": {},
   "outputs": [],
   "source": [
    "a = sum([(x-np.mean(X))*(y-np.mean(Y)) for x,y in zip(X,Y)]) / sum([(x-np.mean(X))**2 for x in X])\n",
    "b = np.mean(Y) - a * np.mean(X)"
   ]
  },
  {
   "cell_type": "code",
   "execution_count": 228,
   "id": "d9c27b61",
   "metadata": {},
   "outputs": [],
   "source": [
    "yhat = lambda x: a * x + b"
   ]
  },
  {
   "cell_type": "code",
   "execution_count": 229,
   "id": "1e225b24",
   "metadata": {},
   "outputs": [
    {
     "name": "stdout",
     "output_type": "stream",
     "text": [
      "[array([1.55454545]), array([11.22545455])]\n"
     ]
    },
    {
     "data": {
      "text/plain": [
       "<matplotlib.collections.PathCollection at 0x23f44727220>"
      ]
     },
     "execution_count": 229,
     "metadata": {},
     "output_type": "execute_result"
    },
    {
     "data": {
      "image/png": "[encoded data removed]",
      "text/plain": [
       "<Figure size 432x288 with 1 Axes>"
      ]
     },
     "metadata": {
      "needs_background": "light"
     },
     "output_type": "display_data"
    }
   ],
   "source": [
    "plt.scatter(X,Y)\n",
    "plt.plot([X.min(), X.max()], [yhat(X.min()), yhat(X.max())], color = 'g')\n",
    "print([yhat(X.min()), yhat(X.max())])\n",
    "plt.scatter(X.mean(), Y.mean(), marker = 'D', c = 'r')"
   ]
  },
  {
   "cell_type": "code",
   "execution_count": 230,
   "id": "82b28e60",
   "metadata": {},
   "outputs": [],
   "source": [
    "x = np.array(data['Temp'])\n",
    "y = np.array(data['Length'])"
   ]
  },
  {
   "cell_type": "code",
   "execution_count": 231,
   "id": "5ba7dd0d",
   "metadata": {},
   "outputs": [
    {
     "data": {
      "text/plain": [
       "array([ 0.87272727,  2.40181818,  3.81727273,  5.11909091,  6.30727273,\n",
       "        7.38181818,  8.34272727,  9.19      ,  9.92363636, 10.54363636])"
      ]
     },
     "execution_count": 231,
     "metadata": {},
     "output_type": "execute_result"
    }
   ],
   "source": [
    "y2"
   ]
  },
  {
   "cell_type": "code",
   "execution_count": 232,
   "id": "cb4813a4",
   "metadata": {},
   "outputs": [],
   "source": [
    "#XN = np.linspace(20, 65, 10)\n",
    "#XN"
   ]
  },
  {
   "cell_type": "code",
   "execution_count": 233,
   "id": "e439c719",
   "metadata": {},
   "outputs": [],
   "source": [
    "#XN = np.linspace(20, 65, 10)\n",
    "X = np.array([x,(x**2),np.ones(len(x))]).T\n",
    "W = np.matmul(np.linalg.inv(np.matmul(X.T,X)), np.matmul(X.T, y))\n",
    "y2 = np.matmul(X, W)"
   ]
  },
  {
   "cell_type": "code",
   "execution_count": 234,
   "id": "f2d37083",
   "metadata": {},
   "outputs": [
    {
     "data": {
      "text/plain": [
       "array([0.5])"
      ]
     },
     "execution_count": 234,
     "metadata": {},
     "output_type": "execute_result"
    }
   ],
   "source": [
    "y.reshape(-1,1)[0]"
   ]
  },
  {
   "cell_type": "code",
   "execution_count": 235,
   "id": "9fe75fef",
   "metadata": {},
   "outputs": [
    {
     "data": {
      "image/png": "[encoded data removed]",
      "text/plain": [
       "<Figure size 432x288 with 1 Axes>"
      ]
     },
     "metadata": {
      "needs_background": "light"
     },
     "output_type": "display_data"
    }
   ],
   "source": [
    "y = y.reshape(-1,1)\n",
    "plt.plot(x, y2, 'g')\n",
    "plt.scatter(x, y);"
   ]
  },
  {
   "cell_type": "code",
   "execution_count": 236,
   "id": "fee750cf",
   "metadata": {},
   "outputs": [],
   "source": [
    "Xn = np.linspace(20, 65, 10)\n",
    "X = np.array([Xn,(Xn**2),Xn**3,np.ones(len(Xn))]).T\n",
    "W = np.matmul(np.linalg.inv(np.matmul(X.T,X)), np.matmul(X.T, y))\n",
    "y2 = np.matmul(X, W)"
   ]
  },
  {
   "cell_type": "code",
   "execution_count": 237,
   "id": "651ccd6c",
   "metadata": {},
   "outputs": [
    {
     "data": {
      "image/png": "[encoded data removed]",
      "text/plain": [
       "<Figure size 432x288 with 1 Axes>"
      ]
     },
     "metadata": {
      "needs_background": "light"
     },
     "output_type": "display_data"
    }
   ],
   "source": [
    "y = y.reshape(-1,1)\n",
    "plt.plot(x, y2, 'g')\n",
    "plt.scatter(x, y);"
   ]
  },
  {
   "cell_type": "code",
   "execution_count": 238,
   "id": "53a6ce95",
   "metadata": {},
   "outputs": [],
   "source": [
    "Xn = np.linspace(20, 65, 10)\n",
    "X = np.array([Xn,(Xn**2),Xn**3, Xn**4, Xn**5,np.ones(len(Xn))]).T\n",
    "W = np.matmul(np.linalg.inv(np.matmul(X.T,X)), np.matmul(X.T, y))\n",
    "y2 = np.matmul(X, W)"
   ]
  },
  {
   "cell_type": "code",
   "execution_count": 239,
   "id": "af6b8f36",
   "metadata": {},
   "outputs": [
    {
     "data": {
      "image/png": "[encoded data removed]",
      "text/plain": [
       "<Figure size 432x288 with 1 Axes>"
      ]
     },
     "metadata": {
      "needs_background": "light"
     },
     "output_type": "display_data"
    }
   ],
   "source": [
    "y = y.reshape(-1,1)\n",
    "plt.plot(x, y2, 'g')\n",
    "plt.scatter(x, y);"
   ]
  },
  {
   "cell_type": "code",
   "execution_count": 240,
   "id": "1cc287f7",
   "metadata": {},
   "outputs": [],
   "source": [
    "Xn = np.linspace(20, 65, 10)\n",
    "X = np.array([Xn,(Xn**2),Xn**3, Xn**4, Xn**5, Xn**6, Xn**7, Xn**8,np.ones(len(Xn))]).T\n",
    "W = np.matmul(np.linalg.inv(np.matmul(X.T,X)), np.matmul(X.T, y))\n",
    "y2 = np.matmul(X, W)"
   ]
  },
  {
   "cell_type": "code",
   "execution_count": 241,
   "id": "a834e499",
   "metadata": {},
   "outputs": [
    {
     "data": {
      "image/png": "[encoded data removed]",
      "text/plain": [
       "<Figure size 432x288 with 1 Axes>"
      ]
     },
     "metadata": {
      "needs_background": "light"
     },
     "output_type": "display_data"
    }
   ],
   "source": [
    "y = y.reshape(-1,1)\n",
    "plt.plot(x, y2, 'g')\n",
    "plt.scatter(x, y);"
   ]
  }
 ],
 "metadata": {
  "kernelspec": {
   "display_name": "Python 3",
   "language": "python",
   "name": "python3"
  },
  "language_info": {
   "codemirror_mode": {
    "name": "ipython",
    "version": 3
   },
   "file_extension": ".py",
   "mimetype": "text/x-python",
   "name": "python",
   "nbconvert_exporter": "python",
   "pygments_lexer": "ipython3",
   "version": "3.8.8"
  }
 },
 "nbformat": 4,
 "nbformat_minor": 5
}
