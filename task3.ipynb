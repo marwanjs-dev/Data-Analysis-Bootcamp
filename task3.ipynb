{
 "cells": [
  {
   "cell_type": "code",
   "execution_count": 1,
   "metadata": {
    "colab": {},
    "colab_type": "code",
    "id": "dEovd7WOAgak"
   },
   "outputs": [],
   "source": [
    "import pandas as pd\n",
    "import numpy as np"
   ]
  },
  {
   "cell_type": "code",
   "execution_count": 2,
   "metadata": {
    "colab": {},
    "colab_type": "code",
    "id": "Rd5Qei5MGhyN"
   },
   "outputs": [],
   "source": [
    "\n",
    "df = pd.read_csv(r'D:\\desktop\\ted_main.csv')"
   ]
  },
  {
   "cell_type": "code",
   "execution_count": 3,
   "metadata": {
    "colab": {},
    "colab_type": "code",
    "id": "ZNBLHHpsRj8V",
    "outputId": "8c8e96b4-2181-4d23-b586-dabd35ca14be"
   },
   "outputs": [
    {
     "data": {
      "text/html": [
       "<div>\n",
       "<style scoped>\n",
       "    .dataframe tbody tr th:only-of-type {\n",
       "        vertical-align: middle;\n",
       "    }\n",
       "\n",
       "    .dataframe tbody tr th {\n",
       "        vertical-align: top;\n",
       "    }\n",
       "\n",
       "    .dataframe thead th {\n",
       "        text-align: right;\n",
       "    }\n",
       "</style>\n",
       "<table border=\"1\" class=\"dataframe\">\n",
       "  <thead>\n",
       "    <tr style=\"text-align: right;\">\n",
       "      <th></th>\n",
       "      <th>comments</th>\n",
       "      <th>description</th>\n",
       "      <th>duration</th>\n",
       "      <th>event</th>\n",
       "      <th>film_date</th>\n",
       "      <th>languages</th>\n",
       "      <th>main_speaker</th>\n",
       "      <th>name</th>\n",
       "      <th>num_speaker</th>\n",
       "      <th>published_date</th>\n",
       "      <th>ratings</th>\n",
       "      <th>related_talks</th>\n",
       "      <th>speaker_occupation</th>\n",
       "      <th>tags</th>\n",
       "      <th>title</th>\n",
       "      <th>url</th>\n",
       "      <th>views</th>\n",
       "    </tr>\n",
       "  </thead>\n",
       "  <tbody>\n",
       "    <tr>\n",
       "      <th>0</th>\n",
       "      <td>4553</td>\n",
       "      <td>Sir Ken Robinson makes an entertaining and pro...</td>\n",
       "      <td>1164</td>\n",
       "      <td>TED2006</td>\n",
       "      <td>1140825600</td>\n",
       "      <td>60</td>\n",
       "      <td>Ken Robinson</td>\n",
       "      <td>Ken Robinson: Do schools kill creativity?</td>\n",
       "      <td>1</td>\n",
       "      <td>1151367060</td>\n",
       "      <td>[{'id': 7, 'name': 'Funny', 'count': 19645}, {...</td>\n",
       "      <td>[{'id': 865, 'hero': 'https://pe.tedcdn.com/im...</td>\n",
       "      <td>Author/educator</td>\n",
       "      <td>['children', 'creativity', 'culture', 'dance',...</td>\n",
       "      <td>Do schools kill creativity?</td>\n",
       "      <td>https://www.ted.com/talks/ken_robinson_says_sc...</td>\n",
       "      <td>47227110</td>\n",
       "    </tr>\n",
       "    <tr>\n",
       "      <th>1</th>\n",
       "      <td>265</td>\n",
       "      <td>With the same humor and humanity he exuded in ...</td>\n",
       "      <td>977</td>\n",
       "      <td>TED2006</td>\n",
       "      <td>1140825600</td>\n",
       "      <td>43</td>\n",
       "      <td>Al Gore</td>\n",
       "      <td>Al Gore: Averting the climate crisis</td>\n",
       "      <td>1</td>\n",
       "      <td>1151367060</td>\n",
       "      <td>[{'id': 7, 'name': 'Funny', 'count': 544}, {'i...</td>\n",
       "      <td>[{'id': 243, 'hero': 'https://pe.tedcdn.com/im...</td>\n",
       "      <td>Climate advocate</td>\n",
       "      <td>['alternative energy', 'cars', 'climate change...</td>\n",
       "      <td>Averting the climate crisis</td>\n",
       "      <td>https://www.ted.com/talks/al_gore_on_averting_...</td>\n",
       "      <td>3200520</td>\n",
       "    </tr>\n",
       "    <tr>\n",
       "      <th>2</th>\n",
       "      <td>124</td>\n",
       "      <td>New York Times columnist David Pogue takes aim...</td>\n",
       "      <td>1286</td>\n",
       "      <td>TED2006</td>\n",
       "      <td>1140739200</td>\n",
       "      <td>26</td>\n",
       "      <td>David Pogue</td>\n",
       "      <td>David Pogue: Simplicity sells</td>\n",
       "      <td>1</td>\n",
       "      <td>1151367060</td>\n",
       "      <td>[{'id': 7, 'name': 'Funny', 'count': 964}, {'i...</td>\n",
       "      <td>[{'id': 1725, 'hero': 'https://pe.tedcdn.com/i...</td>\n",
       "      <td>Technology columnist</td>\n",
       "      <td>['computers', 'entertainment', 'interface desi...</td>\n",
       "      <td>Simplicity sells</td>\n",
       "      <td>https://www.ted.com/talks/david_pogue_says_sim...</td>\n",
       "      <td>1636292</td>\n",
       "    </tr>\n",
       "  </tbody>\n",
       "</table>\n",
       "</div>"
      ],
      "text/plain": [
       "   comments                                        description  duration  \\\n",
       "0      4553  Sir Ken Robinson makes an entertaining and pro...      1164   \n",
       "1       265  With the same humor and humanity he exuded in ...       977   \n",
       "2       124  New York Times columnist David Pogue takes aim...      1286   \n",
       "\n",
       "     event   film_date  languages  main_speaker  \\\n",
       "0  TED2006  1140825600         60  Ken Robinson   \n",
       "1  TED2006  1140825600         43       Al Gore   \n",
       "2  TED2006  1140739200         26   David Pogue   \n",
       "\n",
       "                                        name  num_speaker  published_date  \\\n",
       "0  Ken Robinson: Do schools kill creativity?            1      1151367060   \n",
       "1       Al Gore: Averting the climate crisis            1      1151367060   \n",
       "2              David Pogue: Simplicity sells            1      1151367060   \n",
       "\n",
       "                                             ratings  \\\n",
       "0  [{'id': 7, 'name': 'Funny', 'count': 19645}, {...   \n",
       "1  [{'id': 7, 'name': 'Funny', 'count': 544}, {'i...   \n",
       "2  [{'id': 7, 'name': 'Funny', 'count': 964}, {'i...   \n",
       "\n",
       "                                       related_talks    speaker_occupation  \\\n",
       "0  [{'id': 865, 'hero': 'https://pe.tedcdn.com/im...       Author/educator   \n",
       "1  [{'id': 243, 'hero': 'https://pe.tedcdn.com/im...      Climate advocate   \n",
       "2  [{'id': 1725, 'hero': 'https://pe.tedcdn.com/i...  Technology columnist   \n",
       "\n",
       "                                                tags  \\\n",
       "0  ['children', 'creativity', 'culture', 'dance',...   \n",
       "1  ['alternative energy', 'cars', 'climate change...   \n",
       "2  ['computers', 'entertainment', 'interface desi...   \n",
       "\n",
       "                         title  \\\n",
       "0  Do schools kill creativity?   \n",
       "1  Averting the climate crisis   \n",
       "2             Simplicity sells   \n",
       "\n",
       "                                                 url     views  \n",
       "0  https://www.ted.com/talks/ken_robinson_says_sc...  47227110  \n",
       "1  https://www.ted.com/talks/al_gore_on_averting_...   3200520  \n",
       "2  https://www.ted.com/talks/david_pogue_says_sim...   1636292  "
      ]
     },
     "execution_count": 3,
     "metadata": {},
     "output_type": "execute_result"
    }
   ],
   "source": [
    "df.head(3)"
   ]
  },
  {
   "cell_type": "markdown",
   "metadata": {
    "colab_type": "text",
    "id": "7AhWTHD47kCk"
   },
   "source": [
    "# TimeStamp\n",
    "\n",
    "convert the timestamp columns [film_date, published_date] to normal dates with format yyyy-mm-dd\n",
    "```\n",
    "pd.to_datetime()\n",
    "```\n",
    "\n"
   ]
  },
  {
   "cell_type": "code",
   "execution_count": 4,
   "metadata": {},
   "outputs": [],
   "source": [
    "## your code here\n",
    "df.film_date = pd.to_datetime(df.film_date, unit = 's')\n",
    "df.published_date = pd.to_datetime(df.published_date, unit = 's')\n",
    "\n"
   ]
  },
  {
   "cell_type": "code",
   "execution_count": 5,
   "metadata": {
    "colab": {},
    "colab_type": "code",
    "id": "54H7a4mxRj8i",
    "outputId": "b87ceecc-64e4-4118-a591-fcc8aded6202"
   },
   "outputs": [
    {
     "data": {
      "text/html": [
       "<div>\n",
       "<style scoped>\n",
       "    .dataframe tbody tr th:only-of-type {\n",
       "        vertical-align: middle;\n",
       "    }\n",
       "\n",
       "    .dataframe tbody tr th {\n",
       "        vertical-align: top;\n",
       "    }\n",
       "\n",
       "    .dataframe thead th {\n",
       "        text-align: right;\n",
       "    }\n",
       "</style>\n",
       "<table border=\"1\" class=\"dataframe\">\n",
       "  <thead>\n",
       "    <tr style=\"text-align: right;\">\n",
       "      <th></th>\n",
       "      <th>comments</th>\n",
       "      <th>description</th>\n",
       "      <th>duration</th>\n",
       "      <th>event</th>\n",
       "      <th>film_date</th>\n",
       "      <th>languages</th>\n",
       "      <th>main_speaker</th>\n",
       "      <th>name</th>\n",
       "      <th>num_speaker</th>\n",
       "      <th>published_date</th>\n",
       "      <th>ratings</th>\n",
       "      <th>related_talks</th>\n",
       "      <th>speaker_occupation</th>\n",
       "      <th>tags</th>\n",
       "      <th>title</th>\n",
       "      <th>url</th>\n",
       "      <th>views</th>\n",
       "    </tr>\n",
       "  </thead>\n",
       "  <tbody>\n",
       "    <tr>\n",
       "      <th>0</th>\n",
       "      <td>4553</td>\n",
       "      <td>Sir Ken Robinson makes an entertaining and pro...</td>\n",
       "      <td>1164</td>\n",
       "      <td>TED2006</td>\n",
       "      <td>2006-02-25</td>\n",
       "      <td>60</td>\n",
       "      <td>Ken Robinson</td>\n",
       "      <td>Ken Robinson: Do schools kill creativity?</td>\n",
       "      <td>1</td>\n",
       "      <td>2006-06-27 00:11:00</td>\n",
       "      <td>[{'id': 7, 'name': 'Funny', 'count': 19645}, {...</td>\n",
       "      <td>[{'id': 865, 'hero': 'https://pe.tedcdn.com/im...</td>\n",
       "      <td>Author/educator</td>\n",
       "      <td>['children', 'creativity', 'culture', 'dance',...</td>\n",
       "      <td>Do schools kill creativity?</td>\n",
       "      <td>https://www.ted.com/talks/ken_robinson_says_sc...</td>\n",
       "      <td>47227110</td>\n",
       "    </tr>\n",
       "    <tr>\n",
       "      <th>1</th>\n",
       "      <td>265</td>\n",
       "      <td>With the same humor and humanity he exuded in ...</td>\n",
       "      <td>977</td>\n",
       "      <td>TED2006</td>\n",
       "      <td>2006-02-25</td>\n",
       "      <td>43</td>\n",
       "      <td>Al Gore</td>\n",
       "      <td>Al Gore: Averting the climate crisis</td>\n",
       "      <td>1</td>\n",
       "      <td>2006-06-27 00:11:00</td>\n",
       "      <td>[{'id': 7, 'name': 'Funny', 'count': 544}, {'i...</td>\n",
       "      <td>[{'id': 243, 'hero': 'https://pe.tedcdn.com/im...</td>\n",
       "      <td>Climate advocate</td>\n",
       "      <td>['alternative energy', 'cars', 'climate change...</td>\n",
       "      <td>Averting the climate crisis</td>\n",
       "      <td>https://www.ted.com/talks/al_gore_on_averting_...</td>\n",
       "      <td>3200520</td>\n",
       "    </tr>\n",
       "    <tr>\n",
       "      <th>2</th>\n",
       "      <td>124</td>\n",
       "      <td>New York Times columnist David Pogue takes aim...</td>\n",
       "      <td>1286</td>\n",
       "      <td>TED2006</td>\n",
       "      <td>2006-02-24</td>\n",
       "      <td>26</td>\n",
       "      <td>David Pogue</td>\n",
       "      <td>David Pogue: Simplicity sells</td>\n",
       "      <td>1</td>\n",
       "      <td>2006-06-27 00:11:00</td>\n",
       "      <td>[{'id': 7, 'name': 'Funny', 'count': 964}, {'i...</td>\n",
       "      <td>[{'id': 1725, 'hero': 'https://pe.tedcdn.com/i...</td>\n",
       "      <td>Technology columnist</td>\n",
       "      <td>['computers', 'entertainment', 'interface desi...</td>\n",
       "      <td>Simplicity sells</td>\n",
       "      <td>https://www.ted.com/talks/david_pogue_says_sim...</td>\n",
       "      <td>1636292</td>\n",
       "    </tr>\n",
       "    <tr>\n",
       "      <th>3</th>\n",
       "      <td>200</td>\n",
       "      <td>In an emotionally charged talk, MacArthur-winn...</td>\n",
       "      <td>1116</td>\n",
       "      <td>TED2006</td>\n",
       "      <td>2006-02-26</td>\n",
       "      <td>35</td>\n",
       "      <td>Majora Carter</td>\n",
       "      <td>Majora Carter: Greening the ghetto</td>\n",
       "      <td>1</td>\n",
       "      <td>2006-06-27 00:11:00</td>\n",
       "      <td>[{'id': 3, 'name': 'Courageous', 'count': 760}...</td>\n",
       "      <td>[{'id': 1041, 'hero': 'https://pe.tedcdn.com/i...</td>\n",
       "      <td>Activist for environmental justice</td>\n",
       "      <td>['MacArthur grant', 'activism', 'business', 'c...</td>\n",
       "      <td>Greening the ghetto</td>\n",
       "      <td>https://www.ted.com/talks/majora_carter_s_tale...</td>\n",
       "      <td>1697550</td>\n",
       "    </tr>\n",
       "    <tr>\n",
       "      <th>4</th>\n",
       "      <td>593</td>\n",
       "      <td>You've never seen data presented like this. Wi...</td>\n",
       "      <td>1190</td>\n",
       "      <td>TED2006</td>\n",
       "      <td>2006-02-22</td>\n",
       "      <td>48</td>\n",
       "      <td>Hans Rosling</td>\n",
       "      <td>Hans Rosling: The best stats you've ever seen</td>\n",
       "      <td>1</td>\n",
       "      <td>2006-06-27 20:38:00</td>\n",
       "      <td>[{'id': 9, 'name': 'Ingenious', 'count': 3202}...</td>\n",
       "      <td>[{'id': 2056, 'hero': 'https://pe.tedcdn.com/i...</td>\n",
       "      <td>Global health expert; data visionary</td>\n",
       "      <td>['Africa', 'Asia', 'Google', 'demo', 'economic...</td>\n",
       "      <td>The best stats you've ever seen</td>\n",
       "      <td>https://www.ted.com/talks/hans_rosling_shows_t...</td>\n",
       "      <td>12005869</td>\n",
       "    </tr>\n",
       "  </tbody>\n",
       "</table>\n",
       "</div>"
      ],
      "text/plain": [
       "   comments                                        description  duration  \\\n",
       "0      4553  Sir Ken Robinson makes an entertaining and pro...      1164   \n",
       "1       265  With the same humor and humanity he exuded in ...       977   \n",
       "2       124  New York Times columnist David Pogue takes aim...      1286   \n",
       "3       200  In an emotionally charged talk, MacArthur-winn...      1116   \n",
       "4       593  You've never seen data presented like this. Wi...      1190   \n",
       "\n",
       "     event  film_date  languages   main_speaker  \\\n",
       "0  TED2006 2006-02-25         60   Ken Robinson   \n",
       "1  TED2006 2006-02-25         43        Al Gore   \n",
       "2  TED2006 2006-02-24         26    David Pogue   \n",
       "3  TED2006 2006-02-26         35  Majora Carter   \n",
       "4  TED2006 2006-02-22         48   Hans Rosling   \n",
       "\n",
       "                                            name  num_speaker  \\\n",
       "0      Ken Robinson: Do schools kill creativity?            1   \n",
       "1           Al Gore: Averting the climate crisis            1   \n",
       "2                  David Pogue: Simplicity sells            1   \n",
       "3             Majora Carter: Greening the ghetto            1   \n",
       "4  Hans Rosling: The best stats you've ever seen            1   \n",
       "\n",
       "       published_date                                            ratings  \\\n",
       "0 2006-06-27 00:11:00  [{'id': 7, 'name': 'Funny', 'count': 19645}, {...   \n",
       "1 2006-06-27 00:11:00  [{'id': 7, 'name': 'Funny', 'count': 544}, {'i...   \n",
       "2 2006-06-27 00:11:00  [{'id': 7, 'name': 'Funny', 'count': 964}, {'i...   \n",
       "3 2006-06-27 00:11:00  [{'id': 3, 'name': 'Courageous', 'count': 760}...   \n",
       "4 2006-06-27 20:38:00  [{'id': 9, 'name': 'Ingenious', 'count': 3202}...   \n",
       "\n",
       "                                       related_talks  \\\n",
       "0  [{'id': 865, 'hero': 'https://pe.tedcdn.com/im...   \n",
       "1  [{'id': 243, 'hero': 'https://pe.tedcdn.com/im...   \n",
       "2  [{'id': 1725, 'hero': 'https://pe.tedcdn.com/i...   \n",
       "3  [{'id': 1041, 'hero': 'https://pe.tedcdn.com/i...   \n",
       "4  [{'id': 2056, 'hero': 'https://pe.tedcdn.com/i...   \n",
       "\n",
       "                     speaker_occupation  \\\n",
       "0                       Author/educator   \n",
       "1                      Climate advocate   \n",
       "2                  Technology columnist   \n",
       "3    Activist for environmental justice   \n",
       "4  Global health expert; data visionary   \n",
       "\n",
       "                                                tags  \\\n",
       "0  ['children', 'creativity', 'culture', 'dance',...   \n",
       "1  ['alternative energy', 'cars', 'climate change...   \n",
       "2  ['computers', 'entertainment', 'interface desi...   \n",
       "3  ['MacArthur grant', 'activism', 'business', 'c...   \n",
       "4  ['Africa', 'Asia', 'Google', 'demo', 'economic...   \n",
       "\n",
       "                             title  \\\n",
       "0      Do schools kill creativity?   \n",
       "1      Averting the climate crisis   \n",
       "2                 Simplicity sells   \n",
       "3              Greening the ghetto   \n",
       "4  The best stats you've ever seen   \n",
       "\n",
       "                                                 url     views  \n",
       "0  https://www.ted.com/talks/ken_robinson_says_sc...  47227110  \n",
       "1  https://www.ted.com/talks/al_gore_on_averting_...   3200520  \n",
       "2  https://www.ted.com/talks/david_pogue_says_sim...   1636292  \n",
       "3  https://www.ted.com/talks/majora_carter_s_tale...   1697550  \n",
       "4  https://www.ted.com/talks/hans_rosling_shows_t...  12005869  "
      ]
     },
     "execution_count": 5,
     "metadata": {},
     "output_type": "execute_result"
    }
   ],
   "source": [
    "df.head()"
   ]
  },
  {
   "cell_type": "markdown",
   "metadata": {},
   "source": [
    "**add a year column and a month column, extract them from the film date column**"
   ]
  },
  {
   "cell_type": "code",
   "execution_count": 6,
   "metadata": {
    "colab": {},
    "colab_type": "code",
    "id": "IUoBDewz7nn0",
    "outputId": "dcf6ab45-e946-4b80-ffa8-70250a7b87a3"
   },
   "outputs": [
    {
     "name": "stdout",
     "output_type": "stream",
     "text": [
      "2006-02-25 00:00:00\n",
      "2\n"
     ]
    }
   ],
   "source": [
    "# film_date\n",
    "## date.year / date.month / date.day\n",
    "print(df['film_date'][0])\n",
    "print(df['film_date'][0].month)\n",
    "\n"
   ]
  },
  {
   "cell_type": "code",
   "execution_count": 7,
   "metadata": {
    "colab": {},
    "colab_type": "code",
    "id": "6uJ00-9kRj81"
   },
   "outputs": [],
   "source": [
    "## your code here\n",
    "df['year'] = df['film_date'].apply(lambda x: x.year)\n",
    "df['month'] = df['film_date'].apply(lambda x: x.month)"
   ]
  },
  {
   "cell_type": "code",
   "execution_count": 8,
   "metadata": {
    "colab": {},
    "colab_type": "code",
    "id": "iGhvcExzRj85",
    "outputId": "b69d7b03-1960-48d7-b0ed-d0bde4af874c"
   },
   "outputs": [
    {
     "data": {
      "text/html": [
       "<div>\n",
       "<style scoped>\n",
       "    .dataframe tbody tr th:only-of-type {\n",
       "        vertical-align: middle;\n",
       "    }\n",
       "\n",
       "    .dataframe tbody tr th {\n",
       "        vertical-align: top;\n",
       "    }\n",
       "\n",
       "    .dataframe thead th {\n",
       "        text-align: right;\n",
       "    }\n",
       "</style>\n",
       "<table border=\"1\" class=\"dataframe\">\n",
       "  <thead>\n",
       "    <tr style=\"text-align: right;\">\n",
       "      <th></th>\n",
       "      <th>comments</th>\n",
       "      <th>description</th>\n",
       "      <th>duration</th>\n",
       "      <th>event</th>\n",
       "      <th>film_date</th>\n",
       "      <th>languages</th>\n",
       "      <th>main_speaker</th>\n",
       "      <th>name</th>\n",
       "      <th>num_speaker</th>\n",
       "      <th>published_date</th>\n",
       "      <th>ratings</th>\n",
       "      <th>related_talks</th>\n",
       "      <th>speaker_occupation</th>\n",
       "      <th>tags</th>\n",
       "      <th>title</th>\n",
       "      <th>url</th>\n",
       "      <th>views</th>\n",
       "      <th>year</th>\n",
       "      <th>month</th>\n",
       "    </tr>\n",
       "  </thead>\n",
       "  <tbody>\n",
       "    <tr>\n",
       "      <th>0</th>\n",
       "      <td>4553</td>\n",
       "      <td>Sir Ken Robinson makes an entertaining and pro...</td>\n",
       "      <td>1164</td>\n",
       "      <td>TED2006</td>\n",
       "      <td>2006-02-25</td>\n",
       "      <td>60</td>\n",
       "      <td>Ken Robinson</td>\n",
       "      <td>Ken Robinson: Do schools kill creativity?</td>\n",
       "      <td>1</td>\n",
       "      <td>2006-06-27 00:11:00</td>\n",
       "      <td>[{'id': 7, 'name': 'Funny', 'count': 19645}, {...</td>\n",
       "      <td>[{'id': 865, 'hero': 'https://pe.tedcdn.com/im...</td>\n",
       "      <td>Author/educator</td>\n",
       "      <td>['children', 'creativity', 'culture', 'dance',...</td>\n",
       "      <td>Do schools kill creativity?</td>\n",
       "      <td>https://www.ted.com/talks/ken_robinson_says_sc...</td>\n",
       "      <td>47227110</td>\n",
       "      <td>2006</td>\n",
       "      <td>2</td>\n",
       "    </tr>\n",
       "    <tr>\n",
       "      <th>1</th>\n",
       "      <td>265</td>\n",
       "      <td>With the same humor and humanity he exuded in ...</td>\n",
       "      <td>977</td>\n",
       "      <td>TED2006</td>\n",
       "      <td>2006-02-25</td>\n",
       "      <td>43</td>\n",
       "      <td>Al Gore</td>\n",
       "      <td>Al Gore: Averting the climate crisis</td>\n",
       "      <td>1</td>\n",
       "      <td>2006-06-27 00:11:00</td>\n",
       "      <td>[{'id': 7, 'name': 'Funny', 'count': 544}, {'i...</td>\n",
       "      <td>[{'id': 243, 'hero': 'https://pe.tedcdn.com/im...</td>\n",
       "      <td>Climate advocate</td>\n",
       "      <td>['alternative energy', 'cars', 'climate change...</td>\n",
       "      <td>Averting the climate crisis</td>\n",
       "      <td>https://www.ted.com/talks/al_gore_on_averting_...</td>\n",
       "      <td>3200520</td>\n",
       "      <td>2006</td>\n",
       "      <td>2</td>\n",
       "    </tr>\n",
       "  </tbody>\n",
       "</table>\n",
       "</div>"
      ],
      "text/plain": [
       "   comments                                        description  duration  \\\n",
       "0      4553  Sir Ken Robinson makes an entertaining and pro...      1164   \n",
       "1       265  With the same humor and humanity he exuded in ...       977   \n",
       "\n",
       "     event  film_date  languages  main_speaker  \\\n",
       "0  TED2006 2006-02-25         60  Ken Robinson   \n",
       "1  TED2006 2006-02-25         43       Al Gore   \n",
       "\n",
       "                                        name  num_speaker      published_date  \\\n",
       "0  Ken Robinson: Do schools kill creativity?            1 2006-06-27 00:11:00   \n",
       "1       Al Gore: Averting the climate crisis            1 2006-06-27 00:11:00   \n",
       "\n",
       "                                             ratings  \\\n",
       "0  [{'id': 7, 'name': 'Funny', 'count': 19645}, {...   \n",
       "1  [{'id': 7, 'name': 'Funny', 'count': 544}, {'i...   \n",
       "\n",
       "                                       related_talks speaker_occupation  \\\n",
       "0  [{'id': 865, 'hero': 'https://pe.tedcdn.com/im...    Author/educator   \n",
       "1  [{'id': 243, 'hero': 'https://pe.tedcdn.com/im...   Climate advocate   \n",
       "\n",
       "                                                tags  \\\n",
       "0  ['children', 'creativity', 'culture', 'dance',...   \n",
       "1  ['alternative energy', 'cars', 'climate change...   \n",
       "\n",
       "                         title  \\\n",
       "0  Do schools kill creativity?   \n",
       "1  Averting the climate crisis   \n",
       "\n",
       "                                                 url     views  year  month  \n",
       "0  https://www.ted.com/talks/ken_robinson_says_sc...  47227110  2006      2  \n",
       "1  https://www.ted.com/talks/al_gore_on_averting_...   3200520  2006      2  "
      ]
     },
     "execution_count": 8,
     "metadata": {},
     "output_type": "execute_result"
    }
   ],
   "source": [
    "df.head(2)"
   ]
  },
  {
   "cell_type": "markdown",
   "metadata": {
    "colab_type": "text",
    "id": "U5RHyuOo-H_C"
   },
   "source": [
    "# value counts\n",
    "\n",
    "```\n",
    "df['column_name'].value_counts()\n",
    "\n",
    "```\n",
    "**value_counts** : to count all the unique values in a column\n",
    "the output is a series, where the index is the column unique values\n",
    "and the main series is the counts\n"
   ]
  },
  {
   "cell_type": "markdown",
   "metadata": {},
   "source": [
    "**plot the number of talks in each year, sorted from 1972 to 2017**"
   ]
  },
  {
   "cell_type": "code",
   "execution_count": 9,
   "metadata": {
    "colab": {},
    "colab_type": "code",
    "id": "uEm_tYBwRj9G"
   },
   "outputs": [],
   "source": [
    "## your code here\n",
    "year = df['year'].value_counts()"
   ]
  },
  {
   "cell_type": "code",
   "execution_count": null,
   "metadata": {
    "colab": {},
    "colab_type": "code",
    "id": "JmxlB2y6BKKJ",
    "outputId": "9efe2d63-3f76-4c01-a53e-a70befde1da5"
   },
   "outputs": [],
   "source": []
  },
  {
   "cell_type": "code",
   "execution_count": 10,
   "metadata": {
    "colab": {},
    "colab_type": "code",
    "id": "zp6CEUaMRj9N",
    "outputId": "fdecf95b-4b8d-4bf2-fcd7-020fbbf7ed5a"
   },
   "outputs": [
    {
     "data": {
      "text/plain": [
       "2013    270\n",
       "2011    270\n",
       "2010    267\n",
       "2012    267\n",
       "2016    246\n",
       "2015    239\n",
       "2014    237\n",
       "2009    232\n",
       "2007    114\n",
       "2017     98\n",
       "2008     84\n",
       "2005     66\n",
       "2006     50\n",
       "2003     33\n",
       "2004     33\n",
       "2002     27\n",
       "1998      6\n",
       "2001      5\n",
       "1984      1\n",
       "1983      1\n",
       "1991      1\n",
       "1994      1\n",
       "1990      1\n",
       "1972      1\n",
       "Name: year, dtype: int64"
      ]
     },
     "execution_count": 10,
     "metadata": {},
     "output_type": "execute_result"
    }
   ],
   "source": [
    "year"
   ]
  },
  {
   "cell_type": "markdown",
   "metadata": {},
   "source": [
    "**plot the heighest ten occupations of the speakers**"
   ]
  },
  {
   "cell_type": "code",
   "execution_count": 11,
   "metadata": {},
   "outputs": [],
   "source": [
    "## your code here\n",
    "import matplotlib.pyplot as plt\n"
   ]
  },
  {
   "cell_type": "code",
   "execution_count": 12,
   "metadata": {
    "colab": {},
    "colab_type": "code",
    "id": "QuLWFNBbRj9R",
    "outputId": "37afd7df-e995-47cd-b52c-6d628a97617e"
   },
   "outputs": [],
   "source": [
    "occupation = df['speaker_occupation'].value_counts()\n",
    "#occupy = pd.DataFrame(occupation , columns = ['columns', 'value_counts'])\n",
    "occupy = df['speaker_occupation'].value_counts().rename_axis('unique_values').reset_index(name = 'counts')\n",
    "#df = df.value_counts().rename_axis('unique_values').reset_index(name='counts')"
   ]
  },
  {
   "cell_type": "code",
   "execution_count": 13,
   "metadata": {},
   "outputs": [
    {
     "data": {
      "text/html": [
       "<div>\n",
       "<style scoped>\n",
       "    .dataframe tbody tr th:only-of-type {\n",
       "        vertical-align: middle;\n",
       "    }\n",
       "\n",
       "    .dataframe tbody tr th {\n",
       "        vertical-align: top;\n",
       "    }\n",
       "\n",
       "    .dataframe thead th {\n",
       "        text-align: right;\n",
       "    }\n",
       "</style>\n",
       "<table border=\"1\" class=\"dataframe\">\n",
       "  <thead>\n",
       "    <tr style=\"text-align: right;\">\n",
       "      <th></th>\n",
       "      <th>unique_values</th>\n",
       "      <th>counts</th>\n",
       "    </tr>\n",
       "  </thead>\n",
       "  <tbody>\n",
       "    <tr>\n",
       "      <th>0</th>\n",
       "      <td>Writer</td>\n",
       "      <td>45</td>\n",
       "    </tr>\n",
       "    <tr>\n",
       "      <th>1</th>\n",
       "      <td>Designer</td>\n",
       "      <td>34</td>\n",
       "    </tr>\n",
       "    <tr>\n",
       "      <th>2</th>\n",
       "      <td>Artist</td>\n",
       "      <td>34</td>\n",
       "    </tr>\n",
       "    <tr>\n",
       "      <th>3</th>\n",
       "      <td>Journalist</td>\n",
       "      <td>33</td>\n",
       "    </tr>\n",
       "    <tr>\n",
       "      <th>4</th>\n",
       "      <td>Entrepreneur</td>\n",
       "      <td>31</td>\n",
       "    </tr>\n",
       "    <tr>\n",
       "      <th>...</th>\n",
       "      <td>...</td>\n",
       "      <td>...</td>\n",
       "    </tr>\n",
       "    <tr>\n",
       "      <th>1453</th>\n",
       "      <td>Computational geneticist</td>\n",
       "      <td>1</td>\n",
       "    </tr>\n",
       "    <tr>\n",
       "      <th>1454</th>\n",
       "      <td>Cruciverbalist</td>\n",
       "      <td>1</td>\n",
       "    </tr>\n",
       "    <tr>\n",
       "      <th>1455</th>\n",
       "      <td>Technology ethnographer</td>\n",
       "      <td>1</td>\n",
       "    </tr>\n",
       "    <tr>\n",
       "      <th>1456</th>\n",
       "      <td>Business strategist</td>\n",
       "      <td>1</td>\n",
       "    </tr>\n",
       "    <tr>\n",
       "      <th>1457</th>\n",
       "      <td>User anthropologist</td>\n",
       "      <td>1</td>\n",
       "    </tr>\n",
       "  </tbody>\n",
       "</table>\n",
       "<p>1458 rows × 2 columns</p>\n",
       "</div>"
      ],
      "text/plain": [
       "                 unique_values  counts\n",
       "0                       Writer      45\n",
       "1                     Designer      34\n",
       "2                       Artist      34\n",
       "3                   Journalist      33\n",
       "4                 Entrepreneur      31\n",
       "...                        ...     ...\n",
       "1453  Computational geneticist       1\n",
       "1454            Cruciverbalist       1\n",
       "1455   Technology ethnographer       1\n",
       "1456       Business strategist       1\n",
       "1457       User anthropologist       1\n",
       "\n",
       "[1458 rows x 2 columns]"
      ]
     },
     "execution_count": 13,
     "metadata": {},
     "output_type": "execute_result"
    }
   ],
   "source": [
    "occupy"
   ]
  },
  {
   "cell_type": "code",
   "execution_count": 14,
   "metadata": {
    "colab": {},
    "colab_type": "code",
    "id": "WH-VWKZMRj9V",
    "outputId": "4800eded-80b4-4cd4-d4d0-52914f622294"
   },
   "outputs": [
    {
     "data": {
      "image/png": "[encoded data removed]",
      "text/plain": [
       "<Figure size 432x288 with 1 Axes>"
      ]
     },
     "metadata": {
      "needs_background": "light"
     },
     "output_type": "display_data"
    }
   ],
   "source": [
    "## the heighest ten occupations of the speakers\n",
    "#fig = plt.figure()\n",
    "#fig = fig.add_axes([0,0,1,1])\n",
    "#ax = occupy.plot.bar(x = occupy['unique_values'][:10], y = occupy['counts'][:10], rot = 0)\n",
    "#occupy['counts'].plot(kind=\"bar\", title=\"test\")\n",
    "#plt.title(\"Mince Pie Consumption Study Results\")\n",
    "#plt.xlabel(\"Family Member\")\n",
    "#plt.ylabel(\"Pies Consumed\")\n",
    "occupation[:10].plot.bar();"
   ]
  },
  {
   "cell_type": "markdown",
   "metadata": {},
   "source": [
    "**plot the number of talks in each month through all the years**"
   ]
  },
  {
   "cell_type": "code",
   "execution_count": 15,
   "metadata": {},
   "outputs": [],
   "source": [
    "## your code here"
   ]
  },
  {
   "cell_type": "code",
   "execution_count": 18,
   "metadata": {},
   "outputs": [],
   "source": [
    "months = df['month'].value_counts()"
   ]
  },
  {
   "cell_type": "code",
   "execution_count": 19,
   "metadata": {
    "colab": {},
    "colab_type": "code",
    "id": "UYqxFXL4Rj9e",
    "outputId": "229a1b54-ba78-42e3-b317-614998054f7c"
   },
   "outputs": [
    {
     "data": {
      "text/plain": [
       "2     601\n",
       "3     397\n",
       "6     270\n",
       "7     253\n",
       "11    232\n",
       "10    208\n",
       "4     173\n",
       "12    123\n",
       "5     123\n",
       "9     107\n",
       "1      33\n",
       "8      30\n",
       "Name: month, dtype: int64"
      ]
     },
     "execution_count": 19,
     "metadata": {},
     "output_type": "execute_result"
    }
   ],
   "source": [
    "months"
   ]
  },
  {
   "cell_type": "code",
   "execution_count": 20,
   "metadata": {
    "colab": {},
    "colab_type": "code",
    "id": "SssKJi-zRj9h",
    "outputId": "f8c7d875-a371-4f3c-acd4-ba3a1bc1c177"
   },
   "outputs": [],
   "source": [
    "## sort them\n",
    "months = months.sort_index()\n"
   ]
  },
  {
   "cell_type": "code",
   "execution_count": 21,
   "metadata": {
    "colab": {},
    "colab_type": "code",
    "id": "-fpVA6P9Rj9l",
    "outputId": "6e22e82a-65fb-4b74-f659-2decdc7204f9"
   },
   "outputs": [
    {
     "data": {
      "image/png": "[encoded data removed]",
      "text/plain": [
       "<Figure size 432x288 with 1 Axes>"
      ]
     },
     "metadata": {
      "needs_background": "light"
     },
     "output_type": "display_data"
    }
   ],
   "source": [
    "months.plot.bar();"
   ]
  },
  {
   "cell_type": "markdown",
   "metadata": {},
   "source": [
    "**plot the number of published talks in each month**\n",
    "\n",
    "*get the month of the published date*"
   ]
  },
  {
   "cell_type": "code",
   "execution_count": 22,
   "metadata": {
    "colab": {},
    "colab_type": "code",
    "id": "9zg3vWzyRj9t"
   },
   "outputs": [],
   "source": [
    "df['published_month'] = df.published_date.map(lambda x: x.month)"
   ]
  },
  {
   "cell_type": "code",
   "execution_count": 23,
   "metadata": {
    "colab": {},
    "colab_type": "code",
    "id": "-zs9ABOLRj91",
    "outputId": "ff692ef8-9d95-4497-abca-3d626b664b86"
   },
   "outputs": [],
   "source": [
    "pub = df['published_month'].value_counts().sort_index()\n"
   ]
  },
  {
   "cell_type": "code",
   "execution_count": 26,
   "metadata": {},
   "outputs": [
    {
     "data": {
      "text/plain": [
       "1     215\n",
       "2     203\n",
       "3     228\n",
       "4     256\n",
       "5     229\n",
       "6     228\n",
       "7     204\n",
       "8     178\n",
       "9     232\n",
       "10    224\n",
       "11    189\n",
       "12    164\n",
       "Name: published_month, dtype: int64"
      ]
     },
     "execution_count": 26,
     "metadata": {},
     "output_type": "execute_result"
    }
   ],
   "source": [
    "pub"
   ]
  },
  {
   "cell_type": "code",
   "execution_count": 27,
   "metadata": {},
   "outputs": [
    {
     "data": {
      "image/png": "[encoded data removed]",
      "text/plain": [
       "<Figure size 432x288 with 1 Axes>"
      ]
     },
     "metadata": {
      "needs_background": "light"
     },
     "output_type": "display_data"
    }
   ],
   "source": [
    "#pub.plot.bar();\n",
    "pub[:10].plot.bar();"
   ]
  },
  {
   "cell_type": "code",
   "execution_count": 28,
   "metadata": {
    "colab": {},
    "colab_type": "code",
    "id": "bUb8eLCqRj95",
    "outputId": "a839347f-7cf7-48b1-87e6-5aab43997f4d"
   },
   "outputs": [
    {
     "data": {
      "text/plain": [
       "1    2492\n",
       "2      49\n",
       "3       5\n",
       "4       3\n",
       "5       1\n",
       "Name: num_speaker, dtype: int64"
      ]
     },
     "execution_count": 28,
     "metadata": {},
     "output_type": "execute_result"
    }
   ],
   "source": [
    "nums = df['num_speaker'].value_counts()\n",
    "nums"
   ]
  },
  {
   "cell_type": "markdown",
   "metadata": {},
   "source": [
    "**get the top 10 most appeared speakers in the talks**"
   ]
  },
  {
   "cell_type": "code",
   "execution_count": 29,
   "metadata": {
    "colab": {},
    "colab_type": "code",
    "id": "w5dpdgeYRj99",
    "outputId": "f62b7454-f637-48f7-f5e9-b98eec808b97"
   },
   "outputs": [
    {
     "data": {
      "image/png": "[encoded data removed]",
      "text/plain": [
       "<Figure size 432x288 with 1 Axes>"
      ]
     },
     "metadata": {
      "needs_background": "light"
     },
     "output_type": "display_data"
    }
   ],
   "source": [
    "df.main_speaker.value_counts()[:10].plot.bar();"
   ]
  },
  {
   "cell_type": "markdown",
   "metadata": {},
   "source": [
    "**scatter plot the number of languages vs the number of views and comment on the results**"
   ]
  },
  {
   "cell_type": "code",
   "execution_count": 135,
   "metadata": {
    "colab": {},
    "colab_type": "code",
    "id": "l4ZdE6l5Rj-A",
    "outputId": "24d91c15-aceb-4bb7-a60e-8f20ae5df81e"
   },
   "outputs": [
    {
     "data": {
      "image/png": "[encoded data removed]",
      "text/plain": [
       "<Figure size 432x288 with 1 Axes>"
      ]
     },
     "metadata": {
      "needs_background": "light"
     },
     "output_type": "display_data"
    }
   ],
   "source": [
    "df.plot.scatter(x = 'languages', y = 'views');"
   ]
  },
  {
   "cell_type": "markdown",
   "metadata": {},
   "source": [
    "**scatter plot the duration vs the number of views and comment on the results**"
   ]
  },
  {
   "cell_type": "code",
   "execution_count": 136,
   "metadata": {
    "colab": {},
    "colab_type": "code",
    "id": "nuAZLCSxLsQI",
    "outputId": "4b4a845e-8689-4136-905a-2fcdfbe23bcc"
   },
   "outputs": [
    {
     "data": {
      "image/png": "[encoded data removed]",
      "text/plain": [
       "<Figure size 432x288 with 1 Axes>"
      ]
     },
     "metadata": {
      "needs_background": "light"
     },
     "output_type": "display_data"
    }
   ],
   "source": [
    "df.plot.scatter(x = 'languages', y = 'comments');"
   ]
  },
  {
   "cell_type": "markdown",
   "metadata": {
    "colab_type": "text",
    "id": "Z11UIS5Thf1b"
   },
   "source": [
    "# Ratings"
   ]
  },
  {
   "cell_type": "markdown",
   "metadata": {
    "colab_type": "text",
    "id": "0-YUjCnMAubA"
   },
   "source": [
    "\n",
    "\n",
    "```\n",
    "import ast\n",
    "ast.literal_eval()\n",
    "```\n",
    "\n"
   ]
  },
  {
   "cell_type": "code",
   "execution_count": 137,
   "metadata": {
    "colab": {},
    "colab_type": "code",
    "id": "6YgZ76RnRj-N",
    "outputId": "58ccbf8c-4646-4987-88a7-0913acc54e2d"
   },
   "outputs": [
    {
     "data": {
      "text/plain": [
       "\"[{'id': 7, 'name': 'Funny', 'count': 19645}, {'id': 1, 'name': 'Beautiful', 'count': 4573}, {'id': 9, 'name': 'Ingenious', 'count': 6073}, {'id': 3, 'name': 'Courageous', 'count': 3253}, {'id': 11, 'name': 'Longwinded', 'count': 387}, {'id': 2, 'name': 'Confusing', 'count': 242}, {'id': 8, 'name': 'Informative', 'count': 7346}, {'id': 22, 'name': 'Fascinating', 'count': 10581}, {'id': 21, 'name': 'Unconvincing', 'count': 300}, {'id': 24, 'name': 'Persuasive', 'count': 10704}, {'id': 23, 'name': 'Jaw-dropping', 'count': 4439}, {'id': 25, 'name': 'OK', 'count': 1174}, {'id': 26, 'name': 'Obnoxious', 'count': 209}, {'id': 10, 'name': 'Inspiring', 'count': 24924}]\""
      ]
     },
     "execution_count": 137,
     "metadata": {},
     "output_type": "execute_result"
    }
   ],
   "source": [
    "f = df['ratings'][0]\n",
    "f"
   ]
  },
  {
   "cell_type": "code",
   "execution_count": 138,
   "metadata": {
    "colab": {},
    "colab_type": "code",
    "id": "MTuVrw4VRj-V",
    "outputId": "d8b76f4c-bdd3-4499-c0f5-7f23c1a5ca44"
   },
   "outputs": [
    {
     "data": {
      "text/plain": [
       "str"
      ]
     },
     "execution_count": 138,
     "metadata": {},
     "output_type": "execute_result"
    }
   ],
   "source": [
    "type(f)"
   ]
  },
  {
   "cell_type": "code",
   "execution_count": 139,
   "metadata": {
    "colab": {},
    "colab_type": "code",
    "id": "XHVASCqeRj-b",
    "outputId": "b610931b-3605-4faa-8706-ca3fb971561a"
   },
   "outputs": [
    {
     "data": {
      "text/plain": [
       "[{'id': 7, 'name': 'Funny', 'count': 19645},\n",
       " {'id': 1, 'name': 'Beautiful', 'count': 4573},\n",
       " {'id': 9, 'name': 'Ingenious', 'count': 6073},\n",
       " {'id': 3, 'name': 'Courageous', 'count': 3253},\n",
       " {'id': 11, 'name': 'Longwinded', 'count': 387},\n",
       " {'id': 2, 'name': 'Confusing', 'count': 242},\n",
       " {'id': 8, 'name': 'Informative', 'count': 7346},\n",
       " {'id': 22, 'name': 'Fascinating', 'count': 10581},\n",
       " {'id': 21, 'name': 'Unconvincing', 'count': 300},\n",
       " {'id': 24, 'name': 'Persuasive', 'count': 10704},\n",
       " {'id': 23, 'name': 'Jaw-dropping', 'count': 4439},\n",
       " {'id': 25, 'name': 'OK', 'count': 1174},\n",
       " {'id': 26, 'name': 'Obnoxious', 'count': 209},\n",
       " {'id': 10, 'name': 'Inspiring', 'count': 24924}]"
      ]
     },
     "execution_count": 139,
     "metadata": {},
     "output_type": "execute_result"
    }
   ],
   "source": [
    "import ast\n",
    "f = ast.literal_eval(f)\n",
    "f"
   ]
  },
  {
   "cell_type": "code",
   "execution_count": 140,
   "metadata": {
    "colab": {},
    "colab_type": "code",
    "id": "j-glr1ndRj-i",
    "outputId": "deee9375-c1cb-4454-ca97-c0a1e279ce42"
   },
   "outputs": [
    {
     "data": {
      "text/plain": [
       "list"
      ]
     },
     "execution_count": 140,
     "metadata": {},
     "output_type": "execute_result"
    }
   ],
   "source": [
    "type(f)"
   ]
  },
  {
   "cell_type": "code",
   "execution_count": 141,
   "metadata": {
    "colab": {},
    "colab_type": "code",
    "id": "loUprSsERj-o",
    "outputId": "53bd238d-cebb-4f9b-9caa-1fa7216d846f"
   },
   "outputs": [
    {
     "data": {
      "text/plain": [
       "19645"
      ]
     },
     "execution_count": 141,
     "metadata": {},
     "output_type": "execute_result"
    }
   ],
   "source": [
    "f['name' == 'Funny']['count']"
   ]
  },
  {
   "cell_type": "markdown",
   "metadata": {},
   "source": [
    "**apply literal_eval on ratings column to convert it from string to dictionary, then get the count of the funny ratings in each talk in a new column and name it 'Funny'**"
   ]
  },
  {
   "cell_type": "code",
   "execution_count": 142,
   "metadata": {
    "colab": {},
    "colab_type": "code",
    "id": "aIxcZgkQRj-u"
   },
   "outputs": [],
   "source": [
    "##your code here\n",
    "df['ratings'] = df['ratings'].apply(ast.literal_eval)\n",
    "\n"
   ]
  },
  {
   "cell_type": "code",
   "execution_count": 143,
   "metadata": {},
   "outputs": [
    {
     "data": {
      "text/plain": [
       "0       [{'id': 7, 'name': 'Funny', 'count': 19645}, {...\n",
       "1       [{'id': 7, 'name': 'Funny', 'count': 544}, {'i...\n",
       "2       [{'id': 7, 'name': 'Funny', 'count': 964}, {'i...\n",
       "3       [{'id': 3, 'name': 'Courageous', 'count': 760}...\n",
       "4       [{'id': 9, 'name': 'Ingenious', 'count': 3202}...\n",
       "                              ...                        \n",
       "2545    [{'id': 3, 'name': 'Courageous', 'count': 24},...\n",
       "2546    [{'id': 22, 'name': 'Fascinating', 'count': 32...\n",
       "2547    [{'id': 1, 'name': 'Beautiful', 'count': 14}, ...\n",
       "2548    [{'id': 11, 'name': 'Longwinded', 'count': 3},...\n",
       "2549    [{'id': 21, 'name': 'Unconvincing', 'count': 2...\n",
       "Name: ratings, Length: 2550, dtype: object"
      ]
     },
     "execution_count": 143,
     "metadata": {},
     "output_type": "execute_result"
    }
   ],
   "source": [
    "df['ratings']"
   ]
  },
  {
   "cell_type": "code",
   "execution_count": 144,
   "metadata": {},
   "outputs": [],
   "source": [
    "df['Funny'] = df.ratings.apply(lambda x: x['name' == 'funny']['count'])"
   ]
  },
  {
   "cell_type": "code",
   "execution_count": 145,
   "metadata": {},
   "outputs": [
    {
     "data": {
      "text/plain": [
       "0       19645\n",
       "1         544\n",
       "2         964\n",
       "3         760\n",
       "4        3202\n",
       "        ...  \n",
       "2545       24\n",
       "2546       32\n",
       "2547       14\n",
       "2548        3\n",
       "2549       21\n",
       "Name: Funny, Length: 2550, dtype: int64"
      ]
     },
     "execution_count": 145,
     "metadata": {},
     "output_type": "execute_result"
    }
   ],
   "source": [
    "df['Funny']"
   ]
  },
  {
   "cell_type": "markdown",
   "metadata": {},
   "source": [
    "**the top 3 funny talks**"
   ]
  },
  {
   "cell_type": "code",
   "execution_count": 146,
   "metadata": {
    "colab": {},
    "colab_type": "code",
    "id": "uOFIjG59Rj-3",
    "outputId": "927ed4dd-99c0-43a3-a39e-83b9076bc784"
   },
   "outputs": [
    {
     "data": {
      "text/html": [
       "<div>\n",
       "<style scoped>\n",
       "    .dataframe tbody tr th:only-of-type {\n",
       "        vertical-align: middle;\n",
       "    }\n",
       "\n",
       "    .dataframe tbody tr th {\n",
       "        vertical-align: top;\n",
       "    }\n",
       "\n",
       "    .dataframe thead th {\n",
       "        text-align: right;\n",
       "    }\n",
       "</style>\n",
       "<table border=\"1\" class=\"dataframe\">\n",
       "  <thead>\n",
       "    <tr style=\"text-align: right;\">\n",
       "      <th></th>\n",
       "      <th>comments</th>\n",
       "      <th>description</th>\n",
       "      <th>duration</th>\n",
       "      <th>event</th>\n",
       "      <th>film_date</th>\n",
       "      <th>languages</th>\n",
       "      <th>main_speaker</th>\n",
       "      <th>name</th>\n",
       "      <th>num_speaker</th>\n",
       "      <th>published_date</th>\n",
       "      <th>...</th>\n",
       "      <th>related_talks</th>\n",
       "      <th>speaker_occupation</th>\n",
       "      <th>tags</th>\n",
       "      <th>title</th>\n",
       "      <th>url</th>\n",
       "      <th>views</th>\n",
       "      <th>year</th>\n",
       "      <th>month</th>\n",
       "      <th>published_month</th>\n",
       "      <th>Funny</th>\n",
       "    </tr>\n",
       "  </thead>\n",
       "  <tbody>\n",
       "    <tr>\n",
       "      <th>0</th>\n",
       "      <td>4553</td>\n",
       "      <td>Sir Ken Robinson makes an entertaining and pro...</td>\n",
       "      <td>1164</td>\n",
       "      <td>TED2006</td>\n",
       "      <td>2006-02-25</td>\n",
       "      <td>60</td>\n",
       "      <td>Ken Robinson</td>\n",
       "      <td>Ken Robinson: Do schools kill creativity?</td>\n",
       "      <td>1</td>\n",
       "      <td>2006-06-27 00:11:00</td>\n",
       "      <td>...</td>\n",
       "      <td>[{'id': 865, 'hero': 'https://pe.tedcdn.com/im...</td>\n",
       "      <td>Author/educator</td>\n",
       "      <td>['children', 'creativity', 'culture', 'dance',...</td>\n",
       "      <td>Do schools kill creativity?</td>\n",
       "      <td>https://www.ted.com/talks/ken_robinson_says_sc...</td>\n",
       "      <td>47227110</td>\n",
       "      <td>2006</td>\n",
       "      <td>2</td>\n",
       "      <td>6</td>\n",
       "      <td>19645</td>\n",
       "    </tr>\n",
       "    <tr>\n",
       "      <th>1</th>\n",
       "      <td>265</td>\n",
       "      <td>With the same humor and humanity he exuded in ...</td>\n",
       "      <td>977</td>\n",
       "      <td>TED2006</td>\n",
       "      <td>2006-02-25</td>\n",
       "      <td>43</td>\n",
       "      <td>Al Gore</td>\n",
       "      <td>Al Gore: Averting the climate crisis</td>\n",
       "      <td>1</td>\n",
       "      <td>2006-06-27 00:11:00</td>\n",
       "      <td>...</td>\n",
       "      <td>[{'id': 243, 'hero': 'https://pe.tedcdn.com/im...</td>\n",
       "      <td>Climate advocate</td>\n",
       "      <td>['alternative energy', 'cars', 'climate change...</td>\n",
       "      <td>Averting the climate crisis</td>\n",
       "      <td>https://www.ted.com/talks/al_gore_on_averting_...</td>\n",
       "      <td>3200520</td>\n",
       "      <td>2006</td>\n",
       "      <td>2</td>\n",
       "      <td>6</td>\n",
       "      <td>544</td>\n",
       "    </tr>\n",
       "    <tr>\n",
       "      <th>2</th>\n",
       "      <td>124</td>\n",
       "      <td>New York Times columnist David Pogue takes aim...</td>\n",
       "      <td>1286</td>\n",
       "      <td>TED2006</td>\n",
       "      <td>2006-02-24</td>\n",
       "      <td>26</td>\n",
       "      <td>David Pogue</td>\n",
       "      <td>David Pogue: Simplicity sells</td>\n",
       "      <td>1</td>\n",
       "      <td>2006-06-27 00:11:00</td>\n",
       "      <td>...</td>\n",
       "      <td>[{'id': 1725, 'hero': 'https://pe.tedcdn.com/i...</td>\n",
       "      <td>Technology columnist</td>\n",
       "      <td>['computers', 'entertainment', 'interface desi...</td>\n",
       "      <td>Simplicity sells</td>\n",
       "      <td>https://www.ted.com/talks/david_pogue_says_sim...</td>\n",
       "      <td>1636292</td>\n",
       "      <td>2006</td>\n",
       "      <td>2</td>\n",
       "      <td>6</td>\n",
       "      <td>964</td>\n",
       "    </tr>\n",
       "    <tr>\n",
       "      <th>3</th>\n",
       "      <td>200</td>\n",
       "      <td>In an emotionally charged talk, MacArthur-winn...</td>\n",
       "      <td>1116</td>\n",
       "      <td>TED2006</td>\n",
       "      <td>2006-02-26</td>\n",
       "      <td>35</td>\n",
       "      <td>Majora Carter</td>\n",
       "      <td>Majora Carter: Greening the ghetto</td>\n",
       "      <td>1</td>\n",
       "      <td>2006-06-27 00:11:00</td>\n",
       "      <td>...</td>\n",
       "      <td>[{'id': 1041, 'hero': 'https://pe.tedcdn.com/i...</td>\n",
       "      <td>Activist for environmental justice</td>\n",
       "      <td>['MacArthur grant', 'activism', 'business', 'c...</td>\n",
       "      <td>Greening the ghetto</td>\n",
       "      <td>https://www.ted.com/talks/majora_carter_s_tale...</td>\n",
       "      <td>1697550</td>\n",
       "      <td>2006</td>\n",
       "      <td>2</td>\n",
       "      <td>6</td>\n",
       "      <td>760</td>\n",
       "    </tr>\n",
       "    <tr>\n",
       "      <th>4</th>\n",
       "      <td>593</td>\n",
       "      <td>You've never seen data presented like this. Wi...</td>\n",
       "      <td>1190</td>\n",
       "      <td>TED2006</td>\n",
       "      <td>2006-02-22</td>\n",
       "      <td>48</td>\n",
       "      <td>Hans Rosling</td>\n",
       "      <td>Hans Rosling: The best stats you've ever seen</td>\n",
       "      <td>1</td>\n",
       "      <td>2006-06-27 20:38:00</td>\n",
       "      <td>...</td>\n",
       "      <td>[{'id': 2056, 'hero': 'https://pe.tedcdn.com/i...</td>\n",
       "      <td>Global health expert; data visionary</td>\n",
       "      <td>['Africa', 'Asia', 'Google', 'demo', 'economic...</td>\n",
       "      <td>The best stats you've ever seen</td>\n",
       "      <td>https://www.ted.com/talks/hans_rosling_shows_t...</td>\n",
       "      <td>12005869</td>\n",
       "      <td>2006</td>\n",
       "      <td>2</td>\n",
       "      <td>6</td>\n",
       "      <td>3202</td>\n",
       "    </tr>\n",
       "    <tr>\n",
       "      <th>...</th>\n",
       "      <td>...</td>\n",
       "      <td>...</td>\n",
       "      <td>...</td>\n",
       "      <td>...</td>\n",
       "      <td>...</td>\n",
       "      <td>...</td>\n",
       "      <td>...</td>\n",
       "      <td>...</td>\n",
       "      <td>...</td>\n",
       "      <td>...</td>\n",
       "      <td>...</td>\n",
       "      <td>...</td>\n",
       "      <td>...</td>\n",
       "      <td>...</td>\n",
       "      <td>...</td>\n",
       "      <td>...</td>\n",
       "      <td>...</td>\n",
       "      <td>...</td>\n",
       "      <td>...</td>\n",
       "      <td>...</td>\n",
       "      <td>...</td>\n",
       "    </tr>\n",
       "    <tr>\n",
       "      <th>2545</th>\n",
       "      <td>17</td>\n",
       "      <td>Between 2008 and 2016, the United States depor...</td>\n",
       "      <td>476</td>\n",
       "      <td>TED2017</td>\n",
       "      <td>2017-06-06</td>\n",
       "      <td>4</td>\n",
       "      <td>Duarte Geraldino</td>\n",
       "      <td>Duarte Geraldino: What we're missing in the de...</td>\n",
       "      <td>1</td>\n",
       "      <td>2017-09-19 20:00:16</td>\n",
       "      <td>...</td>\n",
       "      <td>[{'id': 2596, 'hero': 'https://pe.tedcdn.com/i...</td>\n",
       "      <td>Journalist</td>\n",
       "      <td>['TED Residency', 'United States', 'community'...</td>\n",
       "      <td>What we're missing in the debate about immigra...</td>\n",
       "      <td>https://www.ted.com/talks/duarte_geraldino_wha...</td>\n",
       "      <td>450430</td>\n",
       "      <td>2017</td>\n",
       "      <td>6</td>\n",
       "      <td>9</td>\n",
       "      <td>24</td>\n",
       "    </tr>\n",
       "    <tr>\n",
       "      <th>2546</th>\n",
       "      <td>6</td>\n",
       "      <td>How can you study Mars without a spaceship? He...</td>\n",
       "      <td>290</td>\n",
       "      <td>TED2017</td>\n",
       "      <td>2017-04-24</td>\n",
       "      <td>3</td>\n",
       "      <td>Armando Azua-Bustos</td>\n",
       "      <td>Armando Azua-Bustos: The most Martian place on...</td>\n",
       "      <td>1</td>\n",
       "      <td>2017-09-20 15:02:17</td>\n",
       "      <td>...</td>\n",
       "      <td>[{'id': 2491, 'hero': 'https://pe.tedcdn.com/i...</td>\n",
       "      <td>Astrobiologist</td>\n",
       "      <td>['Mars', 'South America', 'TED Fellows', 'astr...</td>\n",
       "      <td>The most Martian place on Earth</td>\n",
       "      <td>https://www.ted.com/talks/armando_azua_bustos_...</td>\n",
       "      <td>417470</td>\n",
       "      <td>2017</td>\n",
       "      <td>4</td>\n",
       "      <td>9</td>\n",
       "      <td>32</td>\n",
       "    </tr>\n",
       "    <tr>\n",
       "      <th>2547</th>\n",
       "      <td>10</td>\n",
       "      <td>Science fiction visions of the future show us ...</td>\n",
       "      <td>651</td>\n",
       "      <td>TED2017</td>\n",
       "      <td>2017-04-24</td>\n",
       "      <td>1</td>\n",
       "      <td>Radhika Nagpal</td>\n",
       "      <td>Radhika Nagpal: What intelligent machines can ...</td>\n",
       "      <td>1</td>\n",
       "      <td>2017-09-21 15:01:35</td>\n",
       "      <td>...</td>\n",
       "      <td>[{'id': 2346, 'hero': 'https://pe.tedcdn.com/i...</td>\n",
       "      <td>Robotics engineer</td>\n",
       "      <td>['AI', 'ants', 'fish', 'future', 'innovation',...</td>\n",
       "      <td>What intelligent machines can learn from a sch...</td>\n",
       "      <td>https://www.ted.com/talks/radhika_nagpal_what_...</td>\n",
       "      <td>375647</td>\n",
       "      <td>2017</td>\n",
       "      <td>4</td>\n",
       "      <td>9</td>\n",
       "      <td>14</td>\n",
       "    </tr>\n",
       "    <tr>\n",
       "      <th>2548</th>\n",
       "      <td>32</td>\n",
       "      <td>In an unmissable talk about race and politics ...</td>\n",
       "      <td>1100</td>\n",
       "      <td>TEDxMileHigh</td>\n",
       "      <td>2017-07-08</td>\n",
       "      <td>1</td>\n",
       "      <td>Theo E.J. Wilson</td>\n",
       "      <td>Theo E.J. Wilson: A black man goes undercover ...</td>\n",
       "      <td>1</td>\n",
       "      <td>2017-09-21 20:00:42</td>\n",
       "      <td>...</td>\n",
       "      <td>[{'id': 2512, 'hero': 'https://pe.tedcdn.com/i...</td>\n",
       "      <td>Public intellectual</td>\n",
       "      <td>['Internet', 'TEDx', 'United States', 'communi...</td>\n",
       "      <td>A black man goes undercover in the alt-right</td>\n",
       "      <td>https://www.ted.com/talks/theo_e_j_wilson_a_bl...</td>\n",
       "      <td>419309</td>\n",
       "      <td>2017</td>\n",
       "      <td>7</td>\n",
       "      <td>9</td>\n",
       "      <td>3</td>\n",
       "    </tr>\n",
       "    <tr>\n",
       "      <th>2549</th>\n",
       "      <td>8</td>\n",
       "      <td>With more than half of the world population li...</td>\n",
       "      <td>519</td>\n",
       "      <td>TED2017</td>\n",
       "      <td>2017-04-24</td>\n",
       "      <td>1</td>\n",
       "      <td>Karoliina Korppoo</td>\n",
       "      <td>Karoliina Korppoo: How a video game might help...</td>\n",
       "      <td>1</td>\n",
       "      <td>2017-09-22 15:00:22</td>\n",
       "      <td>...</td>\n",
       "      <td>[{'id': 2682, 'hero': 'https://pe.tedcdn.com/i...</td>\n",
       "      <td>Game designer</td>\n",
       "      <td>['cities', 'design', 'future', 'infrastructure...</td>\n",
       "      <td>How a video game might help us build better ci...</td>\n",
       "      <td>https://www.ted.com/talks/karoliina_korppoo_ho...</td>\n",
       "      <td>391721</td>\n",
       "      <td>2017</td>\n",
       "      <td>4</td>\n",
       "      <td>9</td>\n",
       "      <td>21</td>\n",
       "    </tr>\n",
       "  </tbody>\n",
       "</table>\n",
       "<p>2550 rows × 21 columns</p>\n",
       "</div>"
      ],
      "text/plain": [
       "      comments                                        description  duration  \\\n",
       "0         4553  Sir Ken Robinson makes an entertaining and pro...      1164   \n",
       "1          265  With the same humor and humanity he exuded in ...       977   \n",
       "2          124  New York Times columnist David Pogue takes aim...      1286   \n",
       "3          200  In an emotionally charged talk, MacArthur-winn...      1116   \n",
       "4          593  You've never seen data presented like this. Wi...      1190   \n",
       "...        ...                                                ...       ...   \n",
       "2545        17  Between 2008 and 2016, the United States depor...       476   \n",
       "2546         6  How can you study Mars without a spaceship? He...       290   \n",
       "2547        10  Science fiction visions of the future show us ...       651   \n",
       "2548        32  In an unmissable talk about race and politics ...      1100   \n",
       "2549         8  With more than half of the world population li...       519   \n",
       "\n",
       "             event  film_date  languages         main_speaker  \\\n",
       "0          TED2006 2006-02-25         60         Ken Robinson   \n",
       "1          TED2006 2006-02-25         43              Al Gore   \n",
       "2          TED2006 2006-02-24         26          David Pogue   \n",
       "3          TED2006 2006-02-26         35        Majora Carter   \n",
       "4          TED2006 2006-02-22         48         Hans Rosling   \n",
       "...            ...        ...        ...                  ...   \n",
       "2545       TED2017 2017-06-06          4     Duarte Geraldino   \n",
       "2546       TED2017 2017-04-24          3  Armando Azua-Bustos   \n",
       "2547       TED2017 2017-04-24          1       Radhika Nagpal   \n",
       "2548  TEDxMileHigh 2017-07-08          1     Theo E.J. Wilson   \n",
       "2549       TED2017 2017-04-24          1    Karoliina Korppoo   \n",
       "\n",
       "                                                   name  num_speaker  \\\n",
       "0             Ken Robinson: Do schools kill creativity?            1   \n",
       "1                  Al Gore: Averting the climate crisis            1   \n",
       "2                         David Pogue: Simplicity sells            1   \n",
       "3                    Majora Carter: Greening the ghetto            1   \n",
       "4         Hans Rosling: The best stats you've ever seen            1   \n",
       "...                                                 ...          ...   \n",
       "2545  Duarte Geraldino: What we're missing in the de...            1   \n",
       "2546  Armando Azua-Bustos: The most Martian place on...            1   \n",
       "2547  Radhika Nagpal: What intelligent machines can ...            1   \n",
       "2548  Theo E.J. Wilson: A black man goes undercover ...            1   \n",
       "2549  Karoliina Korppoo: How a video game might help...            1   \n",
       "\n",
       "          published_date  ...  \\\n",
       "0    2006-06-27 00:11:00  ...   \n",
       "1    2006-06-27 00:11:00  ...   \n",
       "2    2006-06-27 00:11:00  ...   \n",
       "3    2006-06-27 00:11:00  ...   \n",
       "4    2006-06-27 20:38:00  ...   \n",
       "...                  ...  ...   \n",
       "2545 2017-09-19 20:00:16  ...   \n",
       "2546 2017-09-20 15:02:17  ...   \n",
       "2547 2017-09-21 15:01:35  ...   \n",
       "2548 2017-09-21 20:00:42  ...   \n",
       "2549 2017-09-22 15:00:22  ...   \n",
       "\n",
       "                                          related_talks  \\\n",
       "0     [{'id': 865, 'hero': 'https://pe.tedcdn.com/im...   \n",
       "1     [{'id': 243, 'hero': 'https://pe.tedcdn.com/im...   \n",
       "2     [{'id': 1725, 'hero': 'https://pe.tedcdn.com/i...   \n",
       "3     [{'id': 1041, 'hero': 'https://pe.tedcdn.com/i...   \n",
       "4     [{'id': 2056, 'hero': 'https://pe.tedcdn.com/i...   \n",
       "...                                                 ...   \n",
       "2545  [{'id': 2596, 'hero': 'https://pe.tedcdn.com/i...   \n",
       "2546  [{'id': 2491, 'hero': 'https://pe.tedcdn.com/i...   \n",
       "2547  [{'id': 2346, 'hero': 'https://pe.tedcdn.com/i...   \n",
       "2548  [{'id': 2512, 'hero': 'https://pe.tedcdn.com/i...   \n",
       "2549  [{'id': 2682, 'hero': 'https://pe.tedcdn.com/i...   \n",
       "\n",
       "                        speaker_occupation  \\\n",
       "0                          Author/educator   \n",
       "1                         Climate advocate   \n",
       "2                     Technology columnist   \n",
       "3       Activist for environmental justice   \n",
       "4     Global health expert; data visionary   \n",
       "...                                    ...   \n",
       "2545                            Journalist   \n",
       "2546                        Astrobiologist   \n",
       "2547                     Robotics engineer   \n",
       "2548                   Public intellectual   \n",
       "2549                         Game designer   \n",
       "\n",
       "                                                   tags  \\\n",
       "0     ['children', 'creativity', 'culture', 'dance',...   \n",
       "1     ['alternative energy', 'cars', 'climate change...   \n",
       "2     ['computers', 'entertainment', 'interface desi...   \n",
       "3     ['MacArthur grant', 'activism', 'business', 'c...   \n",
       "4     ['Africa', 'Asia', 'Google', 'demo', 'economic...   \n",
       "...                                                 ...   \n",
       "2545  ['TED Residency', 'United States', 'community'...   \n",
       "2546  ['Mars', 'South America', 'TED Fellows', 'astr...   \n",
       "2547  ['AI', 'ants', 'fish', 'future', 'innovation',...   \n",
       "2548  ['Internet', 'TEDx', 'United States', 'communi...   \n",
       "2549  ['cities', 'design', 'future', 'infrastructure...   \n",
       "\n",
       "                                                  title  \\\n",
       "0                           Do schools kill creativity?   \n",
       "1                           Averting the climate crisis   \n",
       "2                                      Simplicity sells   \n",
       "3                                   Greening the ghetto   \n",
       "4                       The best stats you've ever seen   \n",
       "...                                                 ...   \n",
       "2545  What we're missing in the debate about immigra...   \n",
       "2546                    The most Martian place on Earth   \n",
       "2547  What intelligent machines can learn from a sch...   \n",
       "2548       A black man goes undercover in the alt-right   \n",
       "2549  How a video game might help us build better ci...   \n",
       "\n",
       "                                                    url     views  year  \\\n",
       "0     https://www.ted.com/talks/ken_robinson_says_sc...  47227110  2006   \n",
       "1     https://www.ted.com/talks/al_gore_on_averting_...   3200520  2006   \n",
       "2     https://www.ted.com/talks/david_pogue_says_sim...   1636292  2006   \n",
       "3     https://www.ted.com/talks/majora_carter_s_tale...   1697550  2006   \n",
       "4     https://www.ted.com/talks/hans_rosling_shows_t...  12005869  2006   \n",
       "...                                                 ...       ...   ...   \n",
       "2545  https://www.ted.com/talks/duarte_geraldino_wha...    450430  2017   \n",
       "2546  https://www.ted.com/talks/armando_azua_bustos_...    417470  2017   \n",
       "2547  https://www.ted.com/talks/radhika_nagpal_what_...    375647  2017   \n",
       "2548  https://www.ted.com/talks/theo_e_j_wilson_a_bl...    419309  2017   \n",
       "2549  https://www.ted.com/talks/karoliina_korppoo_ho...    391721  2017   \n",
       "\n",
       "      month  published_month  Funny  \n",
       "0         2                6  19645  \n",
       "1         2                6    544  \n",
       "2         2                6    964  \n",
       "3         2                6    760  \n",
       "4         2                6   3202  \n",
       "...     ...              ...    ...  \n",
       "2545      6                9     24  \n",
       "2546      4                9     32  \n",
       "2547      4                9     14  \n",
       "2548      7                9      3  \n",
       "2549      4                9     21  \n",
       "\n",
       "[2550 rows x 21 columns]"
      ]
     },
     "execution_count": 146,
     "metadata": {},
     "output_type": "execute_result"
    }
   ],
   "source": [
    "#df.sort_values('Funny', ascending = False).head(3)\n",
    "df"
   ]
  },
  {
   "cell_type": "markdown",
   "metadata": {},
   "source": [
    "**scatter plot the Funny ratings count vs the number of views and comment on the results**"
   ]
  },
  {
   "cell_type": "code",
   "execution_count": 147,
   "metadata": {
    "colab": {},
    "colab_type": "code",
    "id": "MwgXEYM6Rj-6",
    "outputId": "baae8e67-9f5d-4533-ffb9-92491b60d548"
   },
   "outputs": [
    {
     "data": {
      "image/png": "[encoded data removed]",
      "text/plain": [
       "<Figure size 432x288 with 1 Axes>"
      ]
     },
     "metadata": {
      "needs_background": "light"
     },
     "output_type": "display_data"
    }
   ],
   "source": [
    "df.plot.scatter(x = 'Funny', y = 'views');"
   ]
  },
  {
   "cell_type": "markdown",
   "metadata": {
    "colab_type": "text",
    "id": "cqHwDkur9xHS"
   },
   "source": [
    "# Tags"
   ]
  },
  {
   "cell_type": "markdown",
   "metadata": {},
   "source": [
    "**apply literal_eval on the tags column and get the top 10 tags**"
   ]
  },
  {
   "cell_type": "code",
   "execution_count": 148,
   "metadata": {},
   "outputs": [],
   "source": [
    "df['tags'] = df['tags'].apply(ast.literal_eval)"
   ]
  },
  {
   "cell_type": "code",
   "execution_count": 149,
   "metadata": {},
   "outputs": [
    {
     "data": {
      "text/html": [
       "<div>\n",
       "<style scoped>\n",
       "    .dataframe tbody tr th:only-of-type {\n",
       "        vertical-align: middle;\n",
       "    }\n",
       "\n",
       "    .dataframe tbody tr th {\n",
       "        vertical-align: top;\n",
       "    }\n",
       "\n",
       "    .dataframe thead th {\n",
       "        text-align: right;\n",
       "    }\n",
       "</style>\n",
       "<table border=\"1\" class=\"dataframe\">\n",
       "  <thead>\n",
       "    <tr style=\"text-align: right;\">\n",
       "      <th></th>\n",
       "      <th>comments</th>\n",
       "      <th>description</th>\n",
       "      <th>duration</th>\n",
       "      <th>event</th>\n",
       "      <th>film_date</th>\n",
       "      <th>languages</th>\n",
       "      <th>main_speaker</th>\n",
       "      <th>name</th>\n",
       "      <th>num_speaker</th>\n",
       "      <th>published_date</th>\n",
       "      <th>...</th>\n",
       "      <th>related_talks</th>\n",
       "      <th>speaker_occupation</th>\n",
       "      <th>tags</th>\n",
       "      <th>title</th>\n",
       "      <th>url</th>\n",
       "      <th>views</th>\n",
       "      <th>year</th>\n",
       "      <th>month</th>\n",
       "      <th>published_month</th>\n",
       "      <th>Funny</th>\n",
       "    </tr>\n",
       "  </thead>\n",
       "  <tbody>\n",
       "    <tr>\n",
       "      <th>0</th>\n",
       "      <td>4553</td>\n",
       "      <td>Sir Ken Robinson makes an entertaining and pro...</td>\n",
       "      <td>1164</td>\n",
       "      <td>TED2006</td>\n",
       "      <td>2006-02-25</td>\n",
       "      <td>60</td>\n",
       "      <td>Ken Robinson</td>\n",
       "      <td>Ken Robinson: Do schools kill creativity?</td>\n",
       "      <td>1</td>\n",
       "      <td>2006-06-27 00:11:00</td>\n",
       "      <td>...</td>\n",
       "      <td>[{'id': 865, 'hero': 'https://pe.tedcdn.com/im...</td>\n",
       "      <td>Author/educator</td>\n",
       "      <td>[children, creativity, culture, dance, educati...</td>\n",
       "      <td>Do schools kill creativity?</td>\n",
       "      <td>https://www.ted.com/talks/ken_robinson_says_sc...</td>\n",
       "      <td>47227110</td>\n",
       "      <td>2006</td>\n",
       "      <td>2</td>\n",
       "      <td>6</td>\n",
       "      <td>19645</td>\n",
       "    </tr>\n",
       "    <tr>\n",
       "      <th>1</th>\n",
       "      <td>265</td>\n",
       "      <td>With the same humor and humanity he exuded in ...</td>\n",
       "      <td>977</td>\n",
       "      <td>TED2006</td>\n",
       "      <td>2006-02-25</td>\n",
       "      <td>43</td>\n",
       "      <td>Al Gore</td>\n",
       "      <td>Al Gore: Averting the climate crisis</td>\n",
       "      <td>1</td>\n",
       "      <td>2006-06-27 00:11:00</td>\n",
       "      <td>...</td>\n",
       "      <td>[{'id': 243, 'hero': 'https://pe.tedcdn.com/im...</td>\n",
       "      <td>Climate advocate</td>\n",
       "      <td>[alternative energy, cars, climate change, cul...</td>\n",
       "      <td>Averting the climate crisis</td>\n",
       "      <td>https://www.ted.com/talks/al_gore_on_averting_...</td>\n",
       "      <td>3200520</td>\n",
       "      <td>2006</td>\n",
       "      <td>2</td>\n",
       "      <td>6</td>\n",
       "      <td>544</td>\n",
       "    </tr>\n",
       "    <tr>\n",
       "      <th>2</th>\n",
       "      <td>124</td>\n",
       "      <td>New York Times columnist David Pogue takes aim...</td>\n",
       "      <td>1286</td>\n",
       "      <td>TED2006</td>\n",
       "      <td>2006-02-24</td>\n",
       "      <td>26</td>\n",
       "      <td>David Pogue</td>\n",
       "      <td>David Pogue: Simplicity sells</td>\n",
       "      <td>1</td>\n",
       "      <td>2006-06-27 00:11:00</td>\n",
       "      <td>...</td>\n",
       "      <td>[{'id': 1725, 'hero': 'https://pe.tedcdn.com/i...</td>\n",
       "      <td>Technology columnist</td>\n",
       "      <td>[computers, entertainment, interface design, m...</td>\n",
       "      <td>Simplicity sells</td>\n",
       "      <td>https://www.ted.com/talks/david_pogue_says_sim...</td>\n",
       "      <td>1636292</td>\n",
       "      <td>2006</td>\n",
       "      <td>2</td>\n",
       "      <td>6</td>\n",
       "      <td>964</td>\n",
       "    </tr>\n",
       "    <tr>\n",
       "      <th>3</th>\n",
       "      <td>200</td>\n",
       "      <td>In an emotionally charged talk, MacArthur-winn...</td>\n",
       "      <td>1116</td>\n",
       "      <td>TED2006</td>\n",
       "      <td>2006-02-26</td>\n",
       "      <td>35</td>\n",
       "      <td>Majora Carter</td>\n",
       "      <td>Majora Carter: Greening the ghetto</td>\n",
       "      <td>1</td>\n",
       "      <td>2006-06-27 00:11:00</td>\n",
       "      <td>...</td>\n",
       "      <td>[{'id': 1041, 'hero': 'https://pe.tedcdn.com/i...</td>\n",
       "      <td>Activist for environmental justice</td>\n",
       "      <td>[MacArthur grant, activism, business, cities, ...</td>\n",
       "      <td>Greening the ghetto</td>\n",
       "      <td>https://www.ted.com/talks/majora_carter_s_tale...</td>\n",
       "      <td>1697550</td>\n",
       "      <td>2006</td>\n",
       "      <td>2</td>\n",
       "      <td>6</td>\n",
       "      <td>760</td>\n",
       "    </tr>\n",
       "    <tr>\n",
       "      <th>4</th>\n",
       "      <td>593</td>\n",
       "      <td>You've never seen data presented like this. Wi...</td>\n",
       "      <td>1190</td>\n",
       "      <td>TED2006</td>\n",
       "      <td>2006-02-22</td>\n",
       "      <td>48</td>\n",
       "      <td>Hans Rosling</td>\n",
       "      <td>Hans Rosling: The best stats you've ever seen</td>\n",
       "      <td>1</td>\n",
       "      <td>2006-06-27 20:38:00</td>\n",
       "      <td>...</td>\n",
       "      <td>[{'id': 2056, 'hero': 'https://pe.tedcdn.com/i...</td>\n",
       "      <td>Global health expert; data visionary</td>\n",
       "      <td>[Africa, Asia, Google, demo, economics, global...</td>\n",
       "      <td>The best stats you've ever seen</td>\n",
       "      <td>https://www.ted.com/talks/hans_rosling_shows_t...</td>\n",
       "      <td>12005869</td>\n",
       "      <td>2006</td>\n",
       "      <td>2</td>\n",
       "      <td>6</td>\n",
       "      <td>3202</td>\n",
       "    </tr>\n",
       "    <tr>\n",
       "      <th>...</th>\n",
       "      <td>...</td>\n",
       "      <td>...</td>\n",
       "      <td>...</td>\n",
       "      <td>...</td>\n",
       "      <td>...</td>\n",
       "      <td>...</td>\n",
       "      <td>...</td>\n",
       "      <td>...</td>\n",
       "      <td>...</td>\n",
       "      <td>...</td>\n",
       "      <td>...</td>\n",
       "      <td>...</td>\n",
       "      <td>...</td>\n",
       "      <td>...</td>\n",
       "      <td>...</td>\n",
       "      <td>...</td>\n",
       "      <td>...</td>\n",
       "      <td>...</td>\n",
       "      <td>...</td>\n",
       "      <td>...</td>\n",
       "      <td>...</td>\n",
       "    </tr>\n",
       "    <tr>\n",
       "      <th>2545</th>\n",
       "      <td>17</td>\n",
       "      <td>Between 2008 and 2016, the United States depor...</td>\n",
       "      <td>476</td>\n",
       "      <td>TED2017</td>\n",
       "      <td>2017-06-06</td>\n",
       "      <td>4</td>\n",
       "      <td>Duarte Geraldino</td>\n",
       "      <td>Duarte Geraldino: What we're missing in the de...</td>\n",
       "      <td>1</td>\n",
       "      <td>2017-09-19 20:00:16</td>\n",
       "      <td>...</td>\n",
       "      <td>[{'id': 2596, 'hero': 'https://pe.tedcdn.com/i...</td>\n",
       "      <td>Journalist</td>\n",
       "      <td>[TED Residency, United States, community, fami...</td>\n",
       "      <td>What we're missing in the debate about immigra...</td>\n",
       "      <td>https://www.ted.com/talks/duarte_geraldino_wha...</td>\n",
       "      <td>450430</td>\n",
       "      <td>2017</td>\n",
       "      <td>6</td>\n",
       "      <td>9</td>\n",
       "      <td>24</td>\n",
       "    </tr>\n",
       "    <tr>\n",
       "      <th>2546</th>\n",
       "      <td>6</td>\n",
       "      <td>How can you study Mars without a spaceship? He...</td>\n",
       "      <td>290</td>\n",
       "      <td>TED2017</td>\n",
       "      <td>2017-04-24</td>\n",
       "      <td>3</td>\n",
       "      <td>Armando Azua-Bustos</td>\n",
       "      <td>Armando Azua-Bustos: The most Martian place on...</td>\n",
       "      <td>1</td>\n",
       "      <td>2017-09-20 15:02:17</td>\n",
       "      <td>...</td>\n",
       "      <td>[{'id': 2491, 'hero': 'https://pe.tedcdn.com/i...</td>\n",
       "      <td>Astrobiologist</td>\n",
       "      <td>[Mars, South America, TED Fellows, astrobiolog...</td>\n",
       "      <td>The most Martian place on Earth</td>\n",
       "      <td>https://www.ted.com/talks/armando_azua_bustos_...</td>\n",
       "      <td>417470</td>\n",
       "      <td>2017</td>\n",
       "      <td>4</td>\n",
       "      <td>9</td>\n",
       "      <td>32</td>\n",
       "    </tr>\n",
       "    <tr>\n",
       "      <th>2547</th>\n",
       "      <td>10</td>\n",
       "      <td>Science fiction visions of the future show us ...</td>\n",
       "      <td>651</td>\n",
       "      <td>TED2017</td>\n",
       "      <td>2017-04-24</td>\n",
       "      <td>1</td>\n",
       "      <td>Radhika Nagpal</td>\n",
       "      <td>Radhika Nagpal: What intelligent machines can ...</td>\n",
       "      <td>1</td>\n",
       "      <td>2017-09-21 15:01:35</td>\n",
       "      <td>...</td>\n",
       "      <td>[{'id': 2346, 'hero': 'https://pe.tedcdn.com/i...</td>\n",
       "      <td>Robotics engineer</td>\n",
       "      <td>[AI, ants, fish, future, innovation, insects, ...</td>\n",
       "      <td>What intelligent machines can learn from a sch...</td>\n",
       "      <td>https://www.ted.com/talks/radhika_nagpal_what_...</td>\n",
       "      <td>375647</td>\n",
       "      <td>2017</td>\n",
       "      <td>4</td>\n",
       "      <td>9</td>\n",
       "      <td>14</td>\n",
       "    </tr>\n",
       "    <tr>\n",
       "      <th>2548</th>\n",
       "      <td>32</td>\n",
       "      <td>In an unmissable talk about race and politics ...</td>\n",
       "      <td>1100</td>\n",
       "      <td>TEDxMileHigh</td>\n",
       "      <td>2017-07-08</td>\n",
       "      <td>1</td>\n",
       "      <td>Theo E.J. Wilson</td>\n",
       "      <td>Theo E.J. Wilson: A black man goes undercover ...</td>\n",
       "      <td>1</td>\n",
       "      <td>2017-09-21 20:00:42</td>\n",
       "      <td>...</td>\n",
       "      <td>[{'id': 2512, 'hero': 'https://pe.tedcdn.com/i...</td>\n",
       "      <td>Public intellectual</td>\n",
       "      <td>[Internet, TEDx, United States, community, com...</td>\n",
       "      <td>A black man goes undercover in the alt-right</td>\n",
       "      <td>https://www.ted.com/talks/theo_e_j_wilson_a_bl...</td>\n",
       "      <td>419309</td>\n",
       "      <td>2017</td>\n",
       "      <td>7</td>\n",
       "      <td>9</td>\n",
       "      <td>3</td>\n",
       "    </tr>\n",
       "    <tr>\n",
       "      <th>2549</th>\n",
       "      <td>8</td>\n",
       "      <td>With more than half of the world population li...</td>\n",
       "      <td>519</td>\n",
       "      <td>TED2017</td>\n",
       "      <td>2017-04-24</td>\n",
       "      <td>1</td>\n",
       "      <td>Karoliina Korppoo</td>\n",
       "      <td>Karoliina Korppoo: How a video game might help...</td>\n",
       "      <td>1</td>\n",
       "      <td>2017-09-22 15:00:22</td>\n",
       "      <td>...</td>\n",
       "      <td>[{'id': 2682, 'hero': 'https://pe.tedcdn.com/i...</td>\n",
       "      <td>Game designer</td>\n",
       "      <td>[cities, design, future, infrastructure, play,...</td>\n",
       "      <td>How a video game might help us build better ci...</td>\n",
       "      <td>https://www.ted.com/talks/karoliina_korppoo_ho...</td>\n",
       "      <td>391721</td>\n",
       "      <td>2017</td>\n",
       "      <td>4</td>\n",
       "      <td>9</td>\n",
       "      <td>21</td>\n",
       "    </tr>\n",
       "  </tbody>\n",
       "</table>\n",
       "<p>2550 rows × 21 columns</p>\n",
       "</div>"
      ],
      "text/plain": [
       "      comments                                        description  duration  \\\n",
       "0         4553  Sir Ken Robinson makes an entertaining and pro...      1164   \n",
       "1          265  With the same humor and humanity he exuded in ...       977   \n",
       "2          124  New York Times columnist David Pogue takes aim...      1286   \n",
       "3          200  In an emotionally charged talk, MacArthur-winn...      1116   \n",
       "4          593  You've never seen data presented like this. Wi...      1190   \n",
       "...        ...                                                ...       ...   \n",
       "2545        17  Between 2008 and 2016, the United States depor...       476   \n",
       "2546         6  How can you study Mars without a spaceship? He...       290   \n",
       "2547        10  Science fiction visions of the future show us ...       651   \n",
       "2548        32  In an unmissable talk about race and politics ...      1100   \n",
       "2549         8  With more than half of the world population li...       519   \n",
       "\n",
       "             event  film_date  languages         main_speaker  \\\n",
       "0          TED2006 2006-02-25         60         Ken Robinson   \n",
       "1          TED2006 2006-02-25         43              Al Gore   \n",
       "2          TED2006 2006-02-24         26          David Pogue   \n",
       "3          TED2006 2006-02-26         35        Majora Carter   \n",
       "4          TED2006 2006-02-22         48         Hans Rosling   \n",
       "...            ...        ...        ...                  ...   \n",
       "2545       TED2017 2017-06-06          4     Duarte Geraldino   \n",
       "2546       TED2017 2017-04-24          3  Armando Azua-Bustos   \n",
       "2547       TED2017 2017-04-24          1       Radhika Nagpal   \n",
       "2548  TEDxMileHigh 2017-07-08          1     Theo E.J. Wilson   \n",
       "2549       TED2017 2017-04-24          1    Karoliina Korppoo   \n",
       "\n",
       "                                                   name  num_speaker  \\\n",
       "0             Ken Robinson: Do schools kill creativity?            1   \n",
       "1                  Al Gore: Averting the climate crisis            1   \n",
       "2                         David Pogue: Simplicity sells            1   \n",
       "3                    Majora Carter: Greening the ghetto            1   \n",
       "4         Hans Rosling: The best stats you've ever seen            1   \n",
       "...                                                 ...          ...   \n",
       "2545  Duarte Geraldino: What we're missing in the de...            1   \n",
       "2546  Armando Azua-Bustos: The most Martian place on...            1   \n",
       "2547  Radhika Nagpal: What intelligent machines can ...            1   \n",
       "2548  Theo E.J. Wilson: A black man goes undercover ...            1   \n",
       "2549  Karoliina Korppoo: How a video game might help...            1   \n",
       "\n",
       "          published_date  ...  \\\n",
       "0    2006-06-27 00:11:00  ...   \n",
       "1    2006-06-27 00:11:00  ...   \n",
       "2    2006-06-27 00:11:00  ...   \n",
       "3    2006-06-27 00:11:00  ...   \n",
       "4    2006-06-27 20:38:00  ...   \n",
       "...                  ...  ...   \n",
       "2545 2017-09-19 20:00:16  ...   \n",
       "2546 2017-09-20 15:02:17  ...   \n",
       "2547 2017-09-21 15:01:35  ...   \n",
       "2548 2017-09-21 20:00:42  ...   \n",
       "2549 2017-09-22 15:00:22  ...   \n",
       "\n",
       "                                          related_talks  \\\n",
       "0     [{'id': 865, 'hero': 'https://pe.tedcdn.com/im...   \n",
       "1     [{'id': 243, 'hero': 'https://pe.tedcdn.com/im...   \n",
       "2     [{'id': 1725, 'hero': 'https://pe.tedcdn.com/i...   \n",
       "3     [{'id': 1041, 'hero': 'https://pe.tedcdn.com/i...   \n",
       "4     [{'id': 2056, 'hero': 'https://pe.tedcdn.com/i...   \n",
       "...                                                 ...   \n",
       "2545  [{'id': 2596, 'hero': 'https://pe.tedcdn.com/i...   \n",
       "2546  [{'id': 2491, 'hero': 'https://pe.tedcdn.com/i...   \n",
       "2547  [{'id': 2346, 'hero': 'https://pe.tedcdn.com/i...   \n",
       "2548  [{'id': 2512, 'hero': 'https://pe.tedcdn.com/i...   \n",
       "2549  [{'id': 2682, 'hero': 'https://pe.tedcdn.com/i...   \n",
       "\n",
       "                        speaker_occupation  \\\n",
       "0                          Author/educator   \n",
       "1                         Climate advocate   \n",
       "2                     Technology columnist   \n",
       "3       Activist for environmental justice   \n",
       "4     Global health expert; data visionary   \n",
       "...                                    ...   \n",
       "2545                            Journalist   \n",
       "2546                        Astrobiologist   \n",
       "2547                     Robotics engineer   \n",
       "2548                   Public intellectual   \n",
       "2549                         Game designer   \n",
       "\n",
       "                                                   tags  \\\n",
       "0     [children, creativity, culture, dance, educati...   \n",
       "1     [alternative energy, cars, climate change, cul...   \n",
       "2     [computers, entertainment, interface design, m...   \n",
       "3     [MacArthur grant, activism, business, cities, ...   \n",
       "4     [Africa, Asia, Google, demo, economics, global...   \n",
       "...                                                 ...   \n",
       "2545  [TED Residency, United States, community, fami...   \n",
       "2546  [Mars, South America, TED Fellows, astrobiolog...   \n",
       "2547  [AI, ants, fish, future, innovation, insects, ...   \n",
       "2548  [Internet, TEDx, United States, community, com...   \n",
       "2549  [cities, design, future, infrastructure, play,...   \n",
       "\n",
       "                                                  title  \\\n",
       "0                           Do schools kill creativity?   \n",
       "1                           Averting the climate crisis   \n",
       "2                                      Simplicity sells   \n",
       "3                                   Greening the ghetto   \n",
       "4                       The best stats you've ever seen   \n",
       "...                                                 ...   \n",
       "2545  What we're missing in the debate about immigra...   \n",
       "2546                    The most Martian place on Earth   \n",
       "2547  What intelligent machines can learn from a sch...   \n",
       "2548       A black man goes undercover in the alt-right   \n",
       "2549  How a video game might help us build better ci...   \n",
       "\n",
       "                                                    url     views  year  \\\n",
       "0     https://www.ted.com/talks/ken_robinson_says_sc...  47227110  2006   \n",
       "1     https://www.ted.com/talks/al_gore_on_averting_...   3200520  2006   \n",
       "2     https://www.ted.com/talks/david_pogue_says_sim...   1636292  2006   \n",
       "3     https://www.ted.com/talks/majora_carter_s_tale...   1697550  2006   \n",
       "4     https://www.ted.com/talks/hans_rosling_shows_t...  12005869  2006   \n",
       "...                                                 ...       ...   ...   \n",
       "2545  https://www.ted.com/talks/duarte_geraldino_wha...    450430  2017   \n",
       "2546  https://www.ted.com/talks/armando_azua_bustos_...    417470  2017   \n",
       "2547  https://www.ted.com/talks/radhika_nagpal_what_...    375647  2017   \n",
       "2548  https://www.ted.com/talks/theo_e_j_wilson_a_bl...    419309  2017   \n",
       "2549  https://www.ted.com/talks/karoliina_korppoo_ho...    391721  2017   \n",
       "\n",
       "      month  published_month  Funny  \n",
       "0         2                6  19645  \n",
       "1         2                6    544  \n",
       "2         2                6    964  \n",
       "3         2                6    760  \n",
       "4         2                6   3202  \n",
       "...     ...              ...    ...  \n",
       "2545      6                9     24  \n",
       "2546      4                9     32  \n",
       "2547      4                9     14  \n",
       "2548      7                9      3  \n",
       "2549      4                9     21  \n",
       "\n",
       "[2550 rows x 21 columns]"
      ]
     },
     "execution_count": 149,
     "metadata": {},
     "output_type": "execute_result"
    }
   ],
   "source": [
    "df"
   ]
  },
  {
   "cell_type": "code",
   "execution_count": 150,
   "metadata": {},
   "outputs": [
    {
     "data": {
      "text/plain": [
       "list"
      ]
     },
     "execution_count": 150,
     "metadata": {},
     "output_type": "execute_result"
    }
   ],
   "source": [
    "type(df['tags'][0])"
   ]
  },
  {
   "cell_type": "code",
   "execution_count": 151,
   "metadata": {
    "colab": {},
    "colab_type": "code",
    "id": "-bztNMEmRj_L"
   },
   "outputs": [],
   "source": [
    "#for i in range(8):\n",
    "#    df['newcol'] = df.tags.apply(lambda x: x)"
   ]
  },
  {
   "cell_type": "code",
   "execution_count": 152,
   "metadata": {
    "scrolled": true
   },
   "outputs": [
    {
     "data": {
      "text/plain": [
       "['computers',\n",
       " 'entertainment',\n",
       " 'interface design',\n",
       " 'media',\n",
       " 'music',\n",
       " 'performance',\n",
       " 'simplicity',\n",
       " 'software',\n",
       " 'technology']"
      ]
     },
     "execution_count": 152,
     "metadata": {},
     "output_type": "execute_result"
    }
   ],
   "source": [
    "#ast.literal_eval(df['newcol'][0]).values()\n",
    "df['tags'][2]"
   ]
  },
  {
   "cell_type": "code",
   "execution_count": 153,
   "metadata": {
    "colab": {},
    "colab_type": "code",
    "id": "YHEVFyKkRj_R",
    "outputId": "f995a46b-a280-4427-a0dd-7d945957f005"
   },
   "outputs": [
    {
     "data": {
      "text/plain": [
       "0              children\n",
       "1            creativity\n",
       "2               culture\n",
       "3                 dance\n",
       "4             education\n",
       "              ...      \n",
       "19149              play\n",
       "19150     public spaces\n",
       "19151           society\n",
       "19152          software\n",
       "19153    urban planning\n",
       "Length: 19154, dtype: object"
      ]
     },
     "execution_count": 153,
     "metadata": {},
     "output_type": "execute_result"
    }
   ],
   "source": [
    "#l = []\n",
    "#l.extend([df['tags'][i] for i in range(0,len(df))])\n",
    "tags = pd.Series([y for x in df['tags'] for y in x ])\n",
    "tags"
   ]
  },
  {
   "cell_type": "code",
   "execution_count": 156,
   "metadata": {},
   "outputs": [],
   "source": [
    "dff = pd.DataFrame(tags, columns = ['tags'])"
   ]
  },
  {
   "cell_type": "code",
   "execution_count": 157,
   "metadata": {},
   "outputs": [
    {
     "data": {
      "text/plain": [
       "technology       727\n",
       "science          567\n",
       "global issues    501\n",
       "culture          486\n",
       "TEDx             450\n",
       "                ... \n",
       "origami            2\n",
       "testing            1\n",
       "cloud              1\n",
       "funny              1\n",
       "skateboarding      1\n",
       "Name: tags, Length: 416, dtype: int64"
      ]
     },
     "execution_count": 157,
     "metadata": {},
     "output_type": "execute_result"
    }
   ],
   "source": [
    "carry = dff['tags'].value_counts()\n",
    "carry"
   ]
  },
  {
   "cell_type": "code",
   "execution_count": 160,
   "metadata": {},
   "outputs": [],
   "source": [
    "#common_tags = dff['tags'].value_counts().rename_axis('unique_values').reset_index(name = 'counts')"
   ]
  },
  {
   "cell_type": "code",
   "execution_count": 161,
   "metadata": {},
   "outputs": [
    {
     "data": {
      "text/html": [
       "<div>\n",
       "<style scoped>\n",
       "    .dataframe tbody tr th:only-of-type {\n",
       "        vertical-align: middle;\n",
       "    }\n",
       "\n",
       "    .dataframe tbody tr th {\n",
       "        vertical-align: top;\n",
       "    }\n",
       "\n",
       "    .dataframe thead th {\n",
       "        text-align: right;\n",
       "    }\n",
       "</style>\n",
       "<table border=\"1\" class=\"dataframe\">\n",
       "  <thead>\n",
       "    <tr style=\"text-align: right;\">\n",
       "      <th></th>\n",
       "      <th>unique_values</th>\n",
       "      <th>counts</th>\n",
       "    </tr>\n",
       "  </thead>\n",
       "  <tbody>\n",
       "    <tr>\n",
       "      <th>0</th>\n",
       "      <td>technology</td>\n",
       "      <td>727</td>\n",
       "    </tr>\n",
       "    <tr>\n",
       "      <th>1</th>\n",
       "      <td>science</td>\n",
       "      <td>567</td>\n",
       "    </tr>\n",
       "    <tr>\n",
       "      <th>2</th>\n",
       "      <td>global issues</td>\n",
       "      <td>501</td>\n",
       "    </tr>\n",
       "    <tr>\n",
       "      <th>3</th>\n",
       "      <td>culture</td>\n",
       "      <td>486</td>\n",
       "    </tr>\n",
       "    <tr>\n",
       "      <th>4</th>\n",
       "      <td>TEDx</td>\n",
       "      <td>450</td>\n",
       "    </tr>\n",
       "    <tr>\n",
       "      <th>...</th>\n",
       "      <td>...</td>\n",
       "      <td>...</td>\n",
       "    </tr>\n",
       "    <tr>\n",
       "      <th>411</th>\n",
       "      <td>origami</td>\n",
       "      <td>2</td>\n",
       "    </tr>\n",
       "    <tr>\n",
       "      <th>412</th>\n",
       "      <td>testing</td>\n",
       "      <td>1</td>\n",
       "    </tr>\n",
       "    <tr>\n",
       "      <th>413</th>\n",
       "      <td>cloud</td>\n",
       "      <td>1</td>\n",
       "    </tr>\n",
       "    <tr>\n",
       "      <th>414</th>\n",
       "      <td>funny</td>\n",
       "      <td>1</td>\n",
       "    </tr>\n",
       "    <tr>\n",
       "      <th>415</th>\n",
       "      <td>skateboarding</td>\n",
       "      <td>1</td>\n",
       "    </tr>\n",
       "  </tbody>\n",
       "</table>\n",
       "<p>416 rows × 2 columns</p>\n",
       "</div>"
      ],
      "text/plain": [
       "     unique_values  counts\n",
       "0       technology     727\n",
       "1          science     567\n",
       "2    global issues     501\n",
       "3          culture     486\n",
       "4             TEDx     450\n",
       "..             ...     ...\n",
       "411        origami       2\n",
       "412        testing       1\n",
       "413          cloud       1\n",
       "414          funny       1\n",
       "415  skateboarding       1\n",
       "\n",
       "[416 rows x 2 columns]"
      ]
     },
     "execution_count": 161,
     "metadata": {},
     "output_type": "execute_result"
    }
   ],
   "source": [
    "#common_tags"
   ]
  },
  {
   "cell_type": "code",
   "execution_count": 164,
   "metadata": {},
   "outputs": [
    {
     "data": {
      "image/png": "[encoded data removed]",
      "text/plain": [
       "<Figure size 432x288 with 1 Axes>"
      ]
     },
     "metadata": {
      "needs_background": "light"
     },
     "output_type": "display_data"
    }
   ],
   "source": [
    "dff.tags.value_counts()[:10].plot.bar();"
   ]
  },
  {
   "cell_type": "code",
   "execution_count": null,
   "metadata": {},
   "outputs": [],
   "source": []
  }
 ],
 "metadata": {
  "accelerator": "GPU",
  "colab": {
   "collapsed_sections": [
    "7AhWTHD47kCk"
   ],
   "name": "Practice_2nd_Lab.ipynb",
   "provenance": []
  },
  "kernelspec": {
   "display_name": "Python 3",
   "language": "python",
   "name": "python3"
  },
  "language_info": {
   "codemirror_mode": {
    "name": "ipython",
    "version": 3
   },
   "file_extension": ".py",
   "mimetype": "text/x-python",
   "name": "python",
   "nbconvert_exporter": "python",
   "pygments_lexer": "ipython3",
   "version": "3.7.4"
  }
 },
 "nbformat": 4,
 "nbformat_minor": 4
}
